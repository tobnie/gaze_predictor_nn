{
  "nbformat": 4,
  "nbformat_minor": 0,
  "metadata": {
    "colab": {
      "provenance": [],
      "collapsed_sections": [],
      "authorship_tag": "ABX9TyN1QfrqNvahE17xD332AIv3",
      "include_colab_link": true
    },
    "kernelspec": {
      "name": "python3",
      "display_name": "Python 3"
    },
    "language_info": {
      "name": "python"
    },
    "accelerator": "GPU",
    "gpuClass": "premium"
  },
  "cells": [
    {
      "cell_type": "markdown",
      "metadata": {
        "id": "view-in-github",
        "colab_type": "text"
      },
      "source": [
        "<a href=\"https://colab.research.google.com/github/tobnie/gaze_predictor_nn/blob/main/train_nn_subject_specific.ipynb\" target=\"_parent\"><img src=\"https://colab.research.google.com/assets/colab-badge.svg\" alt=\"Open In Colab\"/></a>"
      ]
    },
    {
      "cell_type": "markdown",
      "source": [
        "## This notebook is the same as the other notebook, but all models are fitted only for the exemplary subject *AL09OL*"
      ],
      "metadata": {
        "id": "RLJusSbffQt7"
      }
    },
    {
      "cell_type": "markdown",
      "source": [
        "Load Package:\n"
      ],
      "metadata": {
        "id": "-GWZTKsPnuBh"
      }
    },
    {
      "cell_type": "code",
      "execution_count": 1,
      "metadata": {
        "colab": {
          "base_uri": "https://localhost:8080/"
        },
        "id": "VtyLXlppgJDK",
        "outputId": "17fffcba-10d8-4b86-ccbe-0ff580c23df5"
      },
      "outputs": [
        {
          "output_type": "stream",
          "name": "stdout",
          "text": [
            "Cloning into 'cloned_repo'...\n",
            "warning: --local is ignored\n",
            "remote: Enumerating objects: 1942, done.\u001b[K\n",
            "remote: Counting objects: 100% (20/20), done.\u001b[K\n",
            "remote: Compressing objects: 100% (13/13), done.\u001b[K\n",
            "remote: Total 1942 (delta 11), reused 12 (delta 7), pack-reused 1922\u001b[K\n",
            "Receiving objects: 100% (1942/1942), 1.08 GiB | 31.30 MiB/s, done.\n",
            "Resolving deltas: 100% (336/336), done.\n",
            "Checking out files: 100% (1189/1189), done.\n",
            "/content/cloned_repo\n"
          ]
        }
      ],
      "source": [
        "!git clone -l -s https://github.com/tobnie/gaze_predictor_nn.git cloned_repo\n",
        "\n",
        "%cd cloned_repo"
      ]
    },
    {
      "cell_type": "code",
      "source": [
        "!git pull"
      ],
      "metadata": {
        "colab": {
          "base_uri": "https://localhost:8080/"
        },
        "id": "zUqlE0FXwHi7",
        "outputId": "ec030e43-5a37-48fd-aa16-d937f19f9412"
      },
      "execution_count": 2,
      "outputs": [
        {
          "output_type": "stream",
          "name": "stdout",
          "text": [
            "Already up to date.\n"
          ]
        }
      ]
    },
    {
      "cell_type": "markdown",
      "source": [
        "General Hyperparameters:"
      ],
      "metadata": {
        "id": "0Iv-fMf-0Ot5"
      }
    },
    {
      "cell_type": "code",
      "source": [
        "epochs = 100"
      ],
      "metadata": {
        "id": "nKvRpt5c0RgG"
      },
      "execution_count": 3,
      "outputs": []
    },
    {
      "cell_type": "markdown",
      "source": [
        "# FC NN"
      ],
      "metadata": {
        "id": "MPswH58x9sgT"
      }
    },
    {
      "cell_type": "markdown",
      "source": [
        "Configuration for NN:"
      ],
      "metadata": {
        "id": "KRWBII5C9sgV"
      }
    },
    {
      "cell_type": "code",
      "source": [
        "from tensorflow import keras\n",
        "\n",
        "nn_configuration = {\n",
        "    'epochs': epochs,  # number of epochs\n",
        "    'batch_size': 32,  # size of the batch\n",
        "    'verbose': 1,  # set the training phase as verbose\n",
        "    'optimizer': keras.optimizers.Adam(clipvalue=1.0),  # optimizer\n",
        "    'metrics': [\"root_mean_squared_error\"],\n",
        "    'loss': 'mean_squared_error',  # loss\n",
        "    'val_split': 0.2,  # validation split: percentage of the training data used for evaluating the loss function\n",
        "    'n_input': 300,\n",
        "    'input_shape': (300,),\n",
        "    'n_output': 1  # number of outputs = mfd\n",
        "}"
      ],
      "metadata": {
        "id": "3SqFHZez9sgW"
      },
      "execution_count": 4,
      "outputs": []
    },
    {
      "cell_type": "markdown",
      "source": [
        "Create Model:"
      ],
      "metadata": {
        "id": "pU86UTHw9sgX"
      }
    },
    {
      "cell_type": "code",
      "source": [
        "from gaze_predictor.fully_connected import FCNetwork\n",
        "\n",
        "fc_nn = FCNetwork(name='fc_nn', configuration = nn_configuration, subject_specific=True)\n",
        "fc_nn.create_model()"
      ],
      "metadata": {
        "colab": {
          "base_uri": "https://localhost:8080/"
        },
        "outputId": "eba87c73-f60a-4545-95eb-3e92b556c7fc",
        "id": "9tgBL_de9sgY"
      },
      "execution_count": 5,
      "outputs": [
        {
          "output_type": "stream",
          "name": "stdout",
          "text": [
            "X shape: (6815, 300)\n",
            "Created model for fc_nn:\n",
            "Model: \"sequential\"\n",
            "_________________________________________________________________\n",
            " Layer (type)                Output Shape              Param #   \n",
            "=================================================================\n",
            " Input (Dense)               (None, 300)               90300     \n",
            "                                                                 \n",
            " Hidden1 (Dense)             (None, 512)               154112    \n",
            "                                                                 \n",
            " Hidden2 (Dense)             (None, 32)                16416     \n",
            "                                                                 \n",
            " Output (Dense)              (None, 1)                 33        \n",
            "                                                                 \n",
            "=================================================================\n",
            "Total params: 260,861\n",
            "Trainable params: 260,861\n",
            "Non-trainable params: 0\n",
            "_________________________________________________________________\n",
            "None\n"
          ]
        }
      ]
    },
    {
      "cell_type": "markdown",
      "source": [
        "Train Model:"
      ],
      "metadata": {
        "id": "K7JizBfy9sgZ"
      }
    },
    {
      "cell_type": "code",
      "source": [
        "fc_nn.train()"
      ],
      "metadata": {
        "colab": {
          "base_uri": "https://localhost:8080/"
        },
        "outputId": "652afff4-e842-4522-ba50-3df5e80ecbb6",
        "id": "G6jBzfed9sgZ"
      },
      "execution_count": 6,
      "outputs": [
        {
          "output_type": "stream",
          "name": "stdout",
          "text": [
            "Epoch 1/100\n",
            "137/137 [==============================] - 5s 6ms/step - loss: 4.9924 - root_mean_squared_error: 2.2344 - val_loss: 3.2886 - val_root_mean_squared_error: 1.8135\n",
            "Epoch 2/100\n",
            "137/137 [==============================] - 0s 3ms/step - loss: 2.4111 - root_mean_squared_error: 1.5528 - val_loss: 2.1693 - val_root_mean_squared_error: 1.4728\n",
            "Epoch 3/100\n",
            "137/137 [==============================] - 0s 3ms/step - loss: 1.3724 - root_mean_squared_error: 1.1715 - val_loss: 1.8990 - val_root_mean_squared_error: 1.3781\n",
            "Epoch 4/100\n",
            "137/137 [==============================] - 0s 3ms/step - loss: 1.0620 - root_mean_squared_error: 1.0305 - val_loss: 1.5829 - val_root_mean_squared_error: 1.2581\n",
            "Epoch 5/100\n",
            "137/137 [==============================] - 0s 3ms/step - loss: 0.7686 - root_mean_squared_error: 0.8767 - val_loss: 1.4577 - val_root_mean_squared_error: 1.2074\n",
            "Epoch 6/100\n",
            "137/137 [==============================] - 0s 3ms/step - loss: 0.5930 - root_mean_squared_error: 0.7700 - val_loss: 1.5774 - val_root_mean_squared_error: 1.2559\n",
            "Epoch 7/100\n",
            "137/137 [==============================] - 0s 3ms/step - loss: 0.8742 - root_mean_squared_error: 0.9350 - val_loss: 1.4141 - val_root_mean_squared_error: 1.1892\n",
            "Epoch 8/100\n",
            "137/137 [==============================] - 0s 3ms/step - loss: 0.6487 - root_mean_squared_error: 0.8054 - val_loss: 1.4716 - val_root_mean_squared_error: 1.2131\n",
            "Epoch 9/100\n",
            "137/137 [==============================] - 0s 3ms/step - loss: 0.4702 - root_mean_squared_error: 0.6857 - val_loss: 1.3201 - val_root_mean_squared_error: 1.1489\n",
            "Epoch 10/100\n",
            "137/137 [==============================] - 0s 3ms/step - loss: 0.4342 - root_mean_squared_error: 0.6589 - val_loss: 1.2359 - val_root_mean_squared_error: 1.1117\n",
            "Epoch 11/100\n",
            "137/137 [==============================] - 0s 3ms/step - loss: 0.3582 - root_mean_squared_error: 0.5985 - val_loss: 1.5106 - val_root_mean_squared_error: 1.2291\n",
            "Epoch 12/100\n",
            "137/137 [==============================] - 0s 3ms/step - loss: 0.3553 - root_mean_squared_error: 0.5961 - val_loss: 1.3330 - val_root_mean_squared_error: 1.1546\n",
            "Epoch 13/100\n",
            "137/137 [==============================] - 0s 3ms/step - loss: 0.4890 - root_mean_squared_error: 0.6993 - val_loss: 1.3595 - val_root_mean_squared_error: 1.1660\n",
            "Epoch 14/100\n",
            "137/137 [==============================] - 0s 3ms/step - loss: 0.3723 - root_mean_squared_error: 0.6101 - val_loss: 1.2632 - val_root_mean_squared_error: 1.1239\n",
            "Epoch 15/100\n",
            "137/137 [==============================] - 0s 3ms/step - loss: 0.3893 - root_mean_squared_error: 0.6240 - val_loss: 1.3201 - val_root_mean_squared_error: 1.1490\n",
            "Epoch 16/100\n",
            "137/137 [==============================] - 0s 3ms/step - loss: 0.4230 - root_mean_squared_error: 0.6504 - val_loss: 1.3154 - val_root_mean_squared_error: 1.1469\n",
            "Epoch 17/100\n",
            "137/137 [==============================] - 0s 3ms/step - loss: 0.3961 - root_mean_squared_error: 0.6293 - val_loss: 1.3346 - val_root_mean_squared_error: 1.1552\n",
            "Epoch 18/100\n",
            "137/137 [==============================] - 0s 3ms/step - loss: 0.4846 - root_mean_squared_error: 0.6961 - val_loss: 1.3992 - val_root_mean_squared_error: 1.1829\n",
            "Epoch 19/100\n",
            "137/137 [==============================] - 0s 3ms/step - loss: 0.4821 - root_mean_squared_error: 0.6943 - val_loss: 1.3829 - val_root_mean_squared_error: 1.1760\n",
            "Epoch 20/100\n",
            "137/137 [==============================] - 0s 3ms/step - loss: 0.4458 - root_mean_squared_error: 0.6677 - val_loss: 1.2965 - val_root_mean_squared_error: 1.1386\n",
            "Epoch 21/100\n",
            "137/137 [==============================] - 0s 3ms/step - loss: 0.3275 - root_mean_squared_error: 0.5722 - val_loss: 1.2456 - val_root_mean_squared_error: 1.1161\n",
            "Epoch 22/100\n",
            "137/137 [==============================] - 0s 3ms/step - loss: 0.2985 - root_mean_squared_error: 0.5464 - val_loss: 1.3746 - val_root_mean_squared_error: 1.1724\n",
            "Epoch 23/100\n",
            "137/137 [==============================] - 0s 3ms/step - loss: 0.3463 - root_mean_squared_error: 0.5885 - val_loss: 1.2529 - val_root_mean_squared_error: 1.1193\n",
            "Epoch 24/100\n",
            "137/137 [==============================] - 0s 3ms/step - loss: 0.2996 - root_mean_squared_error: 0.5474 - val_loss: 1.1967 - val_root_mean_squared_error: 1.0939\n",
            "Epoch 25/100\n",
            "137/137 [==============================] - 0s 3ms/step - loss: 0.3405 - root_mean_squared_error: 0.5835 - val_loss: 1.2762 - val_root_mean_squared_error: 1.1297\n",
            "Epoch 26/100\n",
            "137/137 [==============================] - 0s 3ms/step - loss: 0.2934 - root_mean_squared_error: 0.5417 - val_loss: 1.3350 - val_root_mean_squared_error: 1.1554\n",
            "Epoch 27/100\n",
            "137/137 [==============================] - 0s 3ms/step - loss: 0.2836 - root_mean_squared_error: 0.5325 - val_loss: 1.2116 - val_root_mean_squared_error: 1.1007\n",
            "Epoch 28/100\n",
            "137/137 [==============================] - 0s 3ms/step - loss: 0.2999 - root_mean_squared_error: 0.5477 - val_loss: 1.1563 - val_root_mean_squared_error: 1.0753\n",
            "Epoch 29/100\n",
            "137/137 [==============================] - 0s 3ms/step - loss: 0.2561 - root_mean_squared_error: 0.5060 - val_loss: 1.2298 - val_root_mean_squared_error: 1.1090\n",
            "Epoch 30/100\n",
            "137/137 [==============================] - 0s 3ms/step - loss: 0.3085 - root_mean_squared_error: 0.5554 - val_loss: 1.2767 - val_root_mean_squared_error: 1.1299\n",
            "Epoch 31/100\n",
            "137/137 [==============================] - 0s 3ms/step - loss: 0.2862 - root_mean_squared_error: 0.5350 - val_loss: 1.1978 - val_root_mean_squared_error: 1.0945\n",
            "Epoch 32/100\n",
            "137/137 [==============================] - 0s 3ms/step - loss: 0.3665 - root_mean_squared_error: 0.6054 - val_loss: 1.2749 - val_root_mean_squared_error: 1.1291\n",
            "Epoch 33/100\n",
            "137/137 [==============================] - 0s 3ms/step - loss: 0.3383 - root_mean_squared_error: 0.5816 - val_loss: 1.2631 - val_root_mean_squared_error: 1.1239\n",
            "Epoch 34/100\n",
            "137/137 [==============================] - 0s 3ms/step - loss: 0.4635 - root_mean_squared_error: 0.6808 - val_loss: 1.3004 - val_root_mean_squared_error: 1.1403\n",
            "Epoch 35/100\n",
            "137/137 [==============================] - 0s 3ms/step - loss: 0.3766 - root_mean_squared_error: 0.6137 - val_loss: 1.3004 - val_root_mean_squared_error: 1.1404\n",
            "Epoch 36/100\n",
            "137/137 [==============================] - 0s 3ms/step - loss: 0.3588 - root_mean_squared_error: 0.5990 - val_loss: 1.2957 - val_root_mean_squared_error: 1.1383\n",
            "Epoch 37/100\n",
            "137/137 [==============================] - 0s 3ms/step - loss: 0.3406 - root_mean_squared_error: 0.5836 - val_loss: 1.1094 - val_root_mean_squared_error: 1.0533\n",
            "Epoch 38/100\n",
            "137/137 [==============================] - 0s 3ms/step - loss: 0.2522 - root_mean_squared_error: 0.5022 - val_loss: 1.1613 - val_root_mean_squared_error: 1.0776\n",
            "Epoch 39/100\n",
            "137/137 [==============================] - 0s 3ms/step - loss: 0.2796 - root_mean_squared_error: 0.5288 - val_loss: 1.1600 - val_root_mean_squared_error: 1.0771\n",
            "Epoch 40/100\n",
            "137/137 [==============================] - 0s 3ms/step - loss: 0.1824 - root_mean_squared_error: 0.4271 - val_loss: 1.1256 - val_root_mean_squared_error: 1.0609\n",
            "Epoch 41/100\n",
            "137/137 [==============================] - 0s 4ms/step - loss: 0.1647 - root_mean_squared_error: 0.4059 - val_loss: 1.1436 - val_root_mean_squared_error: 1.0694\n",
            "Epoch 42/100\n",
            "137/137 [==============================] - 0s 3ms/step - loss: 0.2000 - root_mean_squared_error: 0.4472 - val_loss: 1.1767 - val_root_mean_squared_error: 1.0848\n",
            "Epoch 43/100\n",
            "137/137 [==============================] - 0s 3ms/step - loss: 0.2167 - root_mean_squared_error: 0.4655 - val_loss: 1.2112 - val_root_mean_squared_error: 1.1005\n",
            "Epoch 44/100\n",
            "137/137 [==============================] - 0s 3ms/step - loss: 0.2692 - root_mean_squared_error: 0.5188 - val_loss: 1.0988 - val_root_mean_squared_error: 1.0483\n",
            "Epoch 45/100\n",
            "137/137 [==============================] - 0s 3ms/step - loss: 0.2086 - root_mean_squared_error: 0.4567 - val_loss: 1.1954 - val_root_mean_squared_error: 1.0934\n",
            "Epoch 46/100\n",
            "137/137 [==============================] - 0s 3ms/step - loss: 0.2175 - root_mean_squared_error: 0.4664 - val_loss: 1.1044 - val_root_mean_squared_error: 1.0509\n",
            "Epoch 47/100\n",
            "137/137 [==============================] - 0s 3ms/step - loss: 0.2855 - root_mean_squared_error: 0.5343 - val_loss: 1.1349 - val_root_mean_squared_error: 1.0653\n",
            "Epoch 48/100\n",
            "137/137 [==============================] - 0s 3ms/step - loss: 0.2362 - root_mean_squared_error: 0.4860 - val_loss: 1.2839 - val_root_mean_squared_error: 1.1331\n",
            "Epoch 49/100\n",
            "137/137 [==============================] - 0s 3ms/step - loss: 0.2709 - root_mean_squared_error: 0.5205 - val_loss: 1.2090 - val_root_mean_squared_error: 1.0995\n",
            "Epoch 50/100\n",
            "137/137 [==============================] - 0s 3ms/step - loss: 0.2898 - root_mean_squared_error: 0.5383 - val_loss: 1.1419 - val_root_mean_squared_error: 1.0686\n",
            "Epoch 51/100\n",
            "137/137 [==============================] - 0s 3ms/step - loss: 0.2505 - root_mean_squared_error: 0.5005 - val_loss: 1.2186 - val_root_mean_squared_error: 1.1039\n",
            "Epoch 52/100\n",
            "137/137 [==============================] - 0s 3ms/step - loss: 0.2124 - root_mean_squared_error: 0.4609 - val_loss: 1.0195 - val_root_mean_squared_error: 1.0097\n",
            "Epoch 53/100\n",
            "137/137 [==============================] - 0s 3ms/step - loss: 0.1750 - root_mean_squared_error: 0.4183 - val_loss: 1.0362 - val_root_mean_squared_error: 1.0179\n",
            "Epoch 54/100\n",
            "137/137 [==============================] - 0s 3ms/step - loss: 0.1775 - root_mean_squared_error: 0.4213 - val_loss: 1.0381 - val_root_mean_squared_error: 1.0189\n",
            "Epoch 55/100\n",
            "137/137 [==============================] - 0s 3ms/step - loss: 0.1573 - root_mean_squared_error: 0.3967 - val_loss: 1.0859 - val_root_mean_squared_error: 1.0421\n",
            "Epoch 56/100\n",
            "137/137 [==============================] - 0s 3ms/step - loss: 0.1941 - root_mean_squared_error: 0.4406 - val_loss: 1.2147 - val_root_mean_squared_error: 1.1021\n",
            "Epoch 57/100\n",
            "137/137 [==============================] - 0s 3ms/step - loss: 0.1903 - root_mean_squared_error: 0.4363 - val_loss: 1.0294 - val_root_mean_squared_error: 1.0146\n",
            "Epoch 58/100\n",
            "137/137 [==============================] - 0s 3ms/step - loss: 0.1675 - root_mean_squared_error: 0.4093 - val_loss: 1.1493 - val_root_mean_squared_error: 1.0721\n",
            "Epoch 59/100\n",
            "137/137 [==============================] - 0s 3ms/step - loss: 0.1573 - root_mean_squared_error: 0.3966 - val_loss: 1.1291 - val_root_mean_squared_error: 1.0626\n",
            "Epoch 60/100\n",
            "137/137 [==============================] - 0s 3ms/step - loss: 0.2249 - root_mean_squared_error: 0.4743 - val_loss: 1.1201 - val_root_mean_squared_error: 1.0583\n",
            "Epoch 61/100\n",
            "137/137 [==============================] - 0s 3ms/step - loss: 0.2231 - root_mean_squared_error: 0.4724 - val_loss: 1.1418 - val_root_mean_squared_error: 1.0686\n",
            "Epoch 62/100\n",
            "137/137 [==============================] - 0s 3ms/step - loss: 0.2441 - root_mean_squared_error: 0.4941 - val_loss: 1.2739 - val_root_mean_squared_error: 1.1287\n",
            "Epoch 63/100\n",
            "137/137 [==============================] - 0s 3ms/step - loss: 0.2479 - root_mean_squared_error: 0.4978 - val_loss: 1.0898 - val_root_mean_squared_error: 1.0439\n",
            "Epoch 64/100\n",
            "137/137 [==============================] - 0s 3ms/step - loss: 0.1775 - root_mean_squared_error: 0.4214 - val_loss: 1.2175 - val_root_mean_squared_error: 1.1034\n",
            "Epoch 65/100\n",
            "137/137 [==============================] - 0s 3ms/step - loss: 0.1731 - root_mean_squared_error: 0.4161 - val_loss: 0.9754 - val_root_mean_squared_error: 0.9876\n",
            "Epoch 66/100\n",
            "137/137 [==============================] - 0s 3ms/step - loss: 0.1811 - root_mean_squared_error: 0.4256 - val_loss: 1.0903 - val_root_mean_squared_error: 1.0442\n",
            "Epoch 67/100\n",
            "137/137 [==============================] - 0s 3ms/step - loss: 0.2006 - root_mean_squared_error: 0.4479 - val_loss: 1.1012 - val_root_mean_squared_error: 1.0494\n",
            "Epoch 68/100\n",
            "137/137 [==============================] - 0s 3ms/step - loss: 0.1545 - root_mean_squared_error: 0.3930 - val_loss: 1.0997 - val_root_mean_squared_error: 1.0487\n",
            "Epoch 69/100\n",
            "137/137 [==============================] - 0s 3ms/step - loss: 0.1453 - root_mean_squared_error: 0.3812 - val_loss: 1.1121 - val_root_mean_squared_error: 1.0545\n",
            "Epoch 70/100\n",
            "137/137 [==============================] - 0s 3ms/step - loss: 0.2289 - root_mean_squared_error: 0.4785 - val_loss: 1.1256 - val_root_mean_squared_error: 1.0609\n",
            "Epoch 71/100\n",
            "137/137 [==============================] - 0s 3ms/step - loss: 0.1839 - root_mean_squared_error: 0.4288 - val_loss: 1.0661 - val_root_mean_squared_error: 1.0325\n",
            "Epoch 72/100\n",
            "137/137 [==============================] - 0s 3ms/step - loss: 0.2233 - root_mean_squared_error: 0.4725 - val_loss: 1.1184 - val_root_mean_squared_error: 1.0575\n",
            "Epoch 73/100\n",
            "137/137 [==============================] - 0s 3ms/step - loss: 0.2033 - root_mean_squared_error: 0.4509 - val_loss: 1.0481 - val_root_mean_squared_error: 1.0237\n",
            "Epoch 74/100\n",
            "137/137 [==============================] - 0s 3ms/step - loss: 0.1647 - root_mean_squared_error: 0.4058 - val_loss: 1.0012 - val_root_mean_squared_error: 1.0006\n",
            "Epoch 75/100\n",
            "137/137 [==============================] - 0s 3ms/step - loss: 0.1531 - root_mean_squared_error: 0.3913 - val_loss: 1.0626 - val_root_mean_squared_error: 1.0308\n",
            "Epoch 76/100\n",
            "137/137 [==============================] - 0s 3ms/step - loss: 0.1562 - root_mean_squared_error: 0.3953 - val_loss: 1.0413 - val_root_mean_squared_error: 1.0205\n",
            "Epoch 77/100\n",
            "137/137 [==============================] - 0s 3ms/step - loss: 0.1353 - root_mean_squared_error: 0.3678 - val_loss: 0.9520 - val_root_mean_squared_error: 0.9757\n",
            "Epoch 78/100\n",
            "137/137 [==============================] - 0s 3ms/step - loss: 0.1290 - root_mean_squared_error: 0.3592 - val_loss: 1.2134 - val_root_mean_squared_error: 1.1015\n",
            "Epoch 79/100\n",
            "137/137 [==============================] - 0s 3ms/step - loss: 0.1430 - root_mean_squared_error: 0.3782 - val_loss: 1.0827 - val_root_mean_squared_error: 1.0405\n",
            "Epoch 80/100\n",
            "137/137 [==============================] - 0s 3ms/step - loss: 0.1505 - root_mean_squared_error: 0.3879 - val_loss: 1.0777 - val_root_mean_squared_error: 1.0381\n",
            "Epoch 81/100\n",
            "137/137 [==============================] - 0s 3ms/step - loss: 0.1435 - root_mean_squared_error: 0.3789 - val_loss: 1.0683 - val_root_mean_squared_error: 1.0336\n",
            "Epoch 82/100\n",
            "137/137 [==============================] - 0s 3ms/step - loss: 0.1305 - root_mean_squared_error: 0.3612 - val_loss: 1.0600 - val_root_mean_squared_error: 1.0296\n",
            "Epoch 83/100\n",
            "137/137 [==============================] - 0s 3ms/step - loss: 0.1470 - root_mean_squared_error: 0.3834 - val_loss: 1.0342 - val_root_mean_squared_error: 1.0170\n",
            "Epoch 84/100\n",
            "137/137 [==============================] - 0s 3ms/step - loss: 0.3651 - root_mean_squared_error: 0.6042 - val_loss: 1.3074 - val_root_mean_squared_error: 1.1434\n",
            "Epoch 85/100\n",
            "137/137 [==============================] - 0s 3ms/step - loss: 0.3499 - root_mean_squared_error: 0.5915 - val_loss: 1.1201 - val_root_mean_squared_error: 1.0584\n",
            "Epoch 86/100\n",
            "137/137 [==============================] - 0s 3ms/step - loss: 0.2269 - root_mean_squared_error: 0.4764 - val_loss: 1.1697 - val_root_mean_squared_error: 1.0815\n",
            "Epoch 87/100\n",
            "137/137 [==============================] - 0s 3ms/step - loss: 0.2470 - root_mean_squared_error: 0.4970 - val_loss: 1.2490 - val_root_mean_squared_error: 1.1176\n",
            "Epoch 88/100\n",
            "137/137 [==============================] - 0s 3ms/step - loss: 0.1718 - root_mean_squared_error: 0.4144 - val_loss: 1.0892 - val_root_mean_squared_error: 1.0437\n",
            "Epoch 89/100\n",
            "137/137 [==============================] - 0s 3ms/step - loss: 0.1204 - root_mean_squared_error: 0.3470 - val_loss: 1.1135 - val_root_mean_squared_error: 1.0552\n",
            "Epoch 90/100\n",
            "137/137 [==============================] - 0s 3ms/step - loss: 0.1157 - root_mean_squared_error: 0.3401 - val_loss: 1.0237 - val_root_mean_squared_error: 1.0118\n",
            "Epoch 91/100\n",
            "137/137 [==============================] - 0s 3ms/step - loss: 0.1565 - root_mean_squared_error: 0.3956 - val_loss: 1.1175 - val_root_mean_squared_error: 1.0571\n",
            "Epoch 92/100\n",
            "137/137 [==============================] - 0s 3ms/step - loss: 0.1467 - root_mean_squared_error: 0.3830 - val_loss: 1.0196 - val_root_mean_squared_error: 1.0097\n",
            "Epoch 93/100\n",
            "137/137 [==============================] - 0s 3ms/step - loss: 0.0909 - root_mean_squared_error: 0.3014 - val_loss: 1.0554 - val_root_mean_squared_error: 1.0273\n",
            "Epoch 94/100\n",
            "137/137 [==============================] - 0s 3ms/step - loss: 0.0931 - root_mean_squared_error: 0.3051 - val_loss: 1.0638 - val_root_mean_squared_error: 1.0314\n",
            "Epoch 95/100\n",
            "137/137 [==============================] - 0s 3ms/step - loss: 0.0893 - root_mean_squared_error: 0.2988 - val_loss: 0.9900 - val_root_mean_squared_error: 0.9950\n",
            "Epoch 96/100\n",
            "137/137 [==============================] - 0s 3ms/step - loss: 0.1071 - root_mean_squared_error: 0.3273 - val_loss: 1.1432 - val_root_mean_squared_error: 1.0692\n",
            "Epoch 97/100\n",
            "137/137 [==============================] - 0s 3ms/step - loss: 0.1325 - root_mean_squared_error: 0.3639 - val_loss: 1.0114 - val_root_mean_squared_error: 1.0057\n",
            "Epoch 98/100\n",
            "137/137 [==============================] - 0s 3ms/step - loss: 0.1334 - root_mean_squared_error: 0.3652 - val_loss: 1.0475 - val_root_mean_squared_error: 1.0235\n",
            "Epoch 99/100\n",
            "137/137 [==============================] - 0s 3ms/step - loss: 0.1403 - root_mean_squared_error: 0.3745 - val_loss: 1.2714 - val_root_mean_squared_error: 1.1276\n",
            "Epoch 100/100\n",
            "137/137 [==============================] - 0s 3ms/step - loss: 0.2222 - root_mean_squared_error: 0.4714 - val_loss: 1.1274 - val_root_mean_squared_error: 1.0618\n"
          ]
        }
      ]
    },
    {
      "cell_type": "markdown",
      "source": [
        "Evaluate Model:"
      ],
      "metadata": {
        "id": "h6qxDoW_9sga"
      }
    },
    {
      "cell_type": "code",
      "source": [
        "fc_nn.evaluate()"
      ],
      "metadata": {
        "id": "sdfpobkJ9sgb",
        "colab": {
          "base_uri": "https://localhost:8080/",
          "height": 680
        },
        "outputId": "0e7d752b-c8bc-4be9-c75a-bb5066aa1893"
      },
      "execution_count": 7,
      "outputs": [
        {
          "output_type": "stream",
          "name": "stdout",
          "text": [
            "43/43 [==============================] - 0s 2ms/step - loss: 1.2048 - root_mean_squared_error: 1.0976\n",
            "\n",
            "Test root_mean_squared_error: 1.0976223945617676\n",
            "\n",
            "Test loss: 1.2047749757766724\n"
          ]
        },
        {
          "output_type": "display_data",
          "data": {
            "text/plain": [
              "<Figure size 432x288 with 1 Axes>"
            ],
            "image/png": "[encoded data removed]"
          },
          "metadata": {
            "needs_background": "light"
          }
        },
        {
          "output_type": "display_data",
          "data": {
            "text/plain": [
              "<Figure size 432x288 with 1 Axes>"
            ],
            "image/png": "[encoded data removed]"
          },
          "metadata": {
            "needs_background": "light"
          }
        },
        {
          "output_type": "execute_result",
          "data": {
            "text/plain": [
              "(1.0976223945617676, 1.2047749757766724)"
            ]
          },
          "metadata": {},
          "execution_count": 7
        }
      ]
    },
    {
      "cell_type": "markdown",
      "source": [
        "# ConvNet"
      ],
      "metadata": {
        "id": "AsReP-FUwi4S"
      }
    },
    {
      "cell_type": "markdown",
      "source": [
        "Configuration for NN:"
      ],
      "metadata": {
        "id": "lUMl1FDuwi4T"
      }
    },
    {
      "cell_type": "code",
      "source": [
        "from tensorflow import keras\n",
        "\n",
        "nn_configuration = {\n",
        "    'epochs': epochs,  # number of epochs\n",
        "    'batch_size': 32,  # size of the batch\n",
        "    'verbose': 1,  # set the training phase as verbose\n",
        "    'optimizer': keras.optimizers.Adam(clipvalue=1.0),  # optimizer\n",
        "    'metrics': [\"root_mean_squared_error\"],\n",
        "    'loss': 'mean_squared_error',  # loss\n",
        "    'val_split': 0.2,  # validation split: percentage of the training data used for evaluating the loss function\n",
        "    'input_shape': (15, 20, 1),\n",
        "    'n_output': 1  # number of outputs = x and y\n",
        "}"
      ],
      "metadata": {
        "id": "eTX1Qv7Zwi4U"
      },
      "execution_count": 8,
      "outputs": []
    },
    {
      "cell_type": "markdown",
      "source": [
        "Create Model:"
      ],
      "metadata": {
        "id": "xqPbMowKwi4W"
      }
    },
    {
      "cell_type": "code",
      "source": [
        "from gaze_predictor.convolutional import ConvNetwork\n",
        "\n",
        "conv_nn = ConvNetwork(name='conv_nn', configuration = nn_configuration, subject_specific=True)\n",
        "conv_nn.create_model()"
      ],
      "metadata": {
        "id": "K3EVdyXXwi4X",
        "colab": {
          "base_uri": "https://localhost:8080/"
        },
        "outputId": "fcac56e0-f592-427d-a08c-1e910bb4263b"
      },
      "execution_count": 9,
      "outputs": [
        {
          "output_type": "stream",
          "name": "stdout",
          "text": [
            "Created model for conv_nn:\n",
            "Model: \"sequential_1\"\n",
            "_________________________________________________________________\n",
            " Layer (type)                Output Shape              Param #   \n",
            "=================================================================\n",
            " Conv1 (Conv2D)              (None, 15, 20, 16)        416       \n",
            "                                                                 \n",
            " max_pooling2d (MaxPooling2D  (None, 8, 10, 16)        0         \n",
            " )                                                               \n",
            "                                                                 \n",
            " Conv2 (Conv2D)              (None, 8, 10, 32)         4640      \n",
            "                                                                 \n",
            " max_pooling2d_1 (MaxPooling  (None, 4, 5, 32)         0         \n",
            " 2D)                                                             \n",
            "                                                                 \n",
            " flatten (Flatten)           (None, 640)               0         \n",
            "                                                                 \n",
            " Dense1 (Dense)              (None, 64)                41024     \n",
            "                                                                 \n",
            " Dense2 (Dense)              (None, 16)                1040      \n",
            "                                                                 \n",
            " Output (Dense)              (None, 1)                 17        \n",
            "                                                                 \n",
            "=================================================================\n",
            "Total params: 47,137\n",
            "Trainable params: 47,137\n",
            "Non-trainable params: 0\n",
            "_________________________________________________________________\n",
            "None\n"
          ]
        }
      ]
    },
    {
      "cell_type": "markdown",
      "source": [
        "Train Model:"
      ],
      "metadata": {
        "id": "hG_QneIMwi4Z"
      }
    },
    {
      "cell_type": "code",
      "source": [
        "conv_nn.train()"
      ],
      "metadata": {
        "id": "8B4AeLThwi4a",
        "colab": {
          "base_uri": "https://localhost:8080/"
        },
        "outputId": "526f6ff5-96b0-4f65-dc1e-771d163b05b2"
      },
      "execution_count": 10,
      "outputs": [
        {
          "output_type": "stream",
          "name": "stdout",
          "text": [
            "Epoch 1/100\n",
            "137/137 [==============================] - 7s 5ms/step - loss: 5.9567 - root_mean_squared_error: 2.4406 - val_loss: 5.6654 - val_root_mean_squared_error: 2.3802\n",
            "Epoch 2/100\n",
            "137/137 [==============================] - 0s 4ms/step - loss: 5.0049 - root_mean_squared_error: 2.2372 - val_loss: 5.6018 - val_root_mean_squared_error: 2.3668\n",
            "Epoch 3/100\n",
            "137/137 [==============================] - 0s 4ms/step - loss: 4.2938 - root_mean_squared_error: 2.0721 - val_loss: 4.2467 - val_root_mean_squared_error: 2.0608\n",
            "Epoch 4/100\n",
            "137/137 [==============================] - 1s 4ms/step - loss: 3.2485 - root_mean_squared_error: 1.8024 - val_loss: 3.6223 - val_root_mean_squared_error: 1.9032\n",
            "Epoch 5/100\n",
            "137/137 [==============================] - 0s 4ms/step - loss: 2.4926 - root_mean_squared_error: 1.5788 - val_loss: 3.2645 - val_root_mean_squared_error: 1.8068\n",
            "Epoch 6/100\n",
            "137/137 [==============================] - 0s 4ms/step - loss: 1.9376 - root_mean_squared_error: 1.3920 - val_loss: 2.7416 - val_root_mean_squared_error: 1.6558\n",
            "Epoch 7/100\n",
            "137/137 [==============================] - 0s 4ms/step - loss: 1.4413 - root_mean_squared_error: 1.2005 - val_loss: 2.6830 - val_root_mean_squared_error: 1.6380\n",
            "Epoch 8/100\n",
            "137/137 [==============================] - 0s 4ms/step - loss: 1.2683 - root_mean_squared_error: 1.1262 - val_loss: 2.4279 - val_root_mean_squared_error: 1.5582\n",
            "Epoch 9/100\n",
            "137/137 [==============================] - 0s 4ms/step - loss: 1.1252 - root_mean_squared_error: 1.0608 - val_loss: 2.2590 - val_root_mean_squared_error: 1.5030\n",
            "Epoch 10/100\n",
            "137/137 [==============================] - 0s 4ms/step - loss: 0.9204 - root_mean_squared_error: 0.9594 - val_loss: 2.1418 - val_root_mean_squared_error: 1.4635\n",
            "Epoch 11/100\n",
            "137/137 [==============================] - 0s 4ms/step - loss: 0.7910 - root_mean_squared_error: 0.8894 - val_loss: 2.2329 - val_root_mean_squared_error: 1.4943\n",
            "Epoch 12/100\n",
            "137/137 [==============================] - 0s 4ms/step - loss: 0.7001 - root_mean_squared_error: 0.8367 - val_loss: 1.9775 - val_root_mean_squared_error: 1.4062\n",
            "Epoch 13/100\n",
            "137/137 [==============================] - 0s 4ms/step - loss: 0.6351 - root_mean_squared_error: 0.7969 - val_loss: 2.0123 - val_root_mean_squared_error: 1.4186\n",
            "Epoch 14/100\n",
            "137/137 [==============================] - 0s 4ms/step - loss: 0.5984 - root_mean_squared_error: 0.7736 - val_loss: 1.9080 - val_root_mean_squared_error: 1.3813\n",
            "Epoch 15/100\n",
            "137/137 [==============================] - 1s 4ms/step - loss: 0.5603 - root_mean_squared_error: 0.7485 - val_loss: 1.9933 - val_root_mean_squared_error: 1.4119\n",
            "Epoch 16/100\n",
            "137/137 [==============================] - 0s 4ms/step - loss: 0.5768 - root_mean_squared_error: 0.7595 - val_loss: 2.2527 - val_root_mean_squared_error: 1.5009\n",
            "Epoch 17/100\n",
            "137/137 [==============================] - 0s 4ms/step - loss: 0.5146 - root_mean_squared_error: 0.7174 - val_loss: 2.0713 - val_root_mean_squared_error: 1.4392\n",
            "Epoch 18/100\n",
            "137/137 [==============================] - 0s 4ms/step - loss: 0.4414 - root_mean_squared_error: 0.6644 - val_loss: 1.9409 - val_root_mean_squared_error: 1.3932\n",
            "Epoch 19/100\n",
            "137/137 [==============================] - 0s 4ms/step - loss: 0.3824 - root_mean_squared_error: 0.6184 - val_loss: 1.8857 - val_root_mean_squared_error: 1.3732\n",
            "Epoch 20/100\n",
            "137/137 [==============================] - 0s 4ms/step - loss: 0.3872 - root_mean_squared_error: 0.6223 - val_loss: 2.2151 - val_root_mean_squared_error: 1.4883\n",
            "Epoch 21/100\n",
            "137/137 [==============================] - 0s 4ms/step - loss: 0.3591 - root_mean_squared_error: 0.5992 - val_loss: 1.9336 - val_root_mean_squared_error: 1.3905\n",
            "Epoch 22/100\n",
            "137/137 [==============================] - 0s 4ms/step - loss: 0.3107 - root_mean_squared_error: 0.5574 - val_loss: 1.8568 - val_root_mean_squared_error: 1.3627\n",
            "Epoch 23/100\n",
            "137/137 [==============================] - 1s 4ms/step - loss: 0.2983 - root_mean_squared_error: 0.5462 - val_loss: 1.9452 - val_root_mean_squared_error: 1.3947\n",
            "Epoch 24/100\n",
            "137/137 [==============================] - 1s 4ms/step - loss: 0.3121 - root_mean_squared_error: 0.5586 - val_loss: 1.9298 - val_root_mean_squared_error: 1.3892\n",
            "Epoch 25/100\n",
            "137/137 [==============================] - 1s 4ms/step - loss: 0.3876 - root_mean_squared_error: 0.6226 - val_loss: 1.9026 - val_root_mean_squared_error: 1.3793\n",
            "Epoch 26/100\n",
            "137/137 [==============================] - 1s 4ms/step - loss: 0.3012 - root_mean_squared_error: 0.5488 - val_loss: 1.8530 - val_root_mean_squared_error: 1.3612\n",
            "Epoch 27/100\n",
            "137/137 [==============================] - 1s 4ms/step - loss: 0.2929 - root_mean_squared_error: 0.5412 - val_loss: 1.8466 - val_root_mean_squared_error: 1.3589\n",
            "Epoch 28/100\n",
            "137/137 [==============================] - 1s 4ms/step - loss: 0.2301 - root_mean_squared_error: 0.4797 - val_loss: 1.8484 - val_root_mean_squared_error: 1.3595\n",
            "Epoch 29/100\n",
            "137/137 [==============================] - 1s 4ms/step - loss: 0.2320 - root_mean_squared_error: 0.4817 - val_loss: 1.8105 - val_root_mean_squared_error: 1.3455\n",
            "Epoch 30/100\n",
            "137/137 [==============================] - 1s 4ms/step - loss: 0.2289 - root_mean_squared_error: 0.4784 - val_loss: 1.8245 - val_root_mean_squared_error: 1.3508\n",
            "Epoch 31/100\n",
            "137/137 [==============================] - 1s 4ms/step - loss: 0.2292 - root_mean_squared_error: 0.4787 - val_loss: 1.8181 - val_root_mean_squared_error: 1.3484\n",
            "Epoch 32/100\n",
            "137/137 [==============================] - 1s 4ms/step - loss: 0.2217 - root_mean_squared_error: 0.4709 - val_loss: 1.8363 - val_root_mean_squared_error: 1.3551\n",
            "Epoch 33/100\n",
            "137/137 [==============================] - 1s 4ms/step - loss: 0.2038 - root_mean_squared_error: 0.4515 - val_loss: 1.7905 - val_root_mean_squared_error: 1.3381\n",
            "Epoch 34/100\n",
            "137/137 [==============================] - 1s 4ms/step - loss: 0.1922 - root_mean_squared_error: 0.4384 - val_loss: 1.7915 - val_root_mean_squared_error: 1.3385\n",
            "Epoch 35/100\n",
            "137/137 [==============================] - 1s 4ms/step - loss: 0.2043 - root_mean_squared_error: 0.4520 - val_loss: 1.8211 - val_root_mean_squared_error: 1.3495\n",
            "Epoch 36/100\n",
            "137/137 [==============================] - 1s 4ms/step - loss: 0.2133 - root_mean_squared_error: 0.4618 - val_loss: 1.8181 - val_root_mean_squared_error: 1.3484\n",
            "Epoch 37/100\n",
            "137/137 [==============================] - 1s 4ms/step - loss: 0.1896 - root_mean_squared_error: 0.4355 - val_loss: 1.9510 - val_root_mean_squared_error: 1.3968\n",
            "Epoch 38/100\n",
            "137/137 [==============================] - 1s 4ms/step - loss: 0.2020 - root_mean_squared_error: 0.4495 - val_loss: 1.7651 - val_root_mean_squared_error: 1.3286\n",
            "Epoch 39/100\n",
            "137/137 [==============================] - 1s 4ms/step - loss: 0.2358 - root_mean_squared_error: 0.4856 - val_loss: 1.8195 - val_root_mean_squared_error: 1.3489\n",
            "Epoch 40/100\n",
            "137/137 [==============================] - 1s 4ms/step - loss: 0.1962 - root_mean_squared_error: 0.4430 - val_loss: 1.8519 - val_root_mean_squared_error: 1.3608\n",
            "Epoch 41/100\n",
            "137/137 [==============================] - 0s 4ms/step - loss: 0.1813 - root_mean_squared_error: 0.4258 - val_loss: 1.7642 - val_root_mean_squared_error: 1.3282\n",
            "Epoch 42/100\n",
            "137/137 [==============================] - 1s 4ms/step - loss: 0.1948 - root_mean_squared_error: 0.4413 - val_loss: 1.7656 - val_root_mean_squared_error: 1.3288\n",
            "Epoch 43/100\n",
            "137/137 [==============================] - 0s 4ms/step - loss: 0.1937 - root_mean_squared_error: 0.4401 - val_loss: 1.8522 - val_root_mean_squared_error: 1.3610\n",
            "Epoch 44/100\n",
            "137/137 [==============================] - 0s 4ms/step - loss: 0.2335 - root_mean_squared_error: 0.4832 - val_loss: 1.7960 - val_root_mean_squared_error: 1.3402\n",
            "Epoch 45/100\n",
            "137/137 [==============================] - 0s 4ms/step - loss: 0.1735 - root_mean_squared_error: 0.4166 - val_loss: 1.8189 - val_root_mean_squared_error: 1.3487\n",
            "Epoch 46/100\n",
            "137/137 [==============================] - 0s 4ms/step - loss: 0.1738 - root_mean_squared_error: 0.4169 - val_loss: 1.8083 - val_root_mean_squared_error: 1.3447\n",
            "Epoch 47/100\n",
            "137/137 [==============================] - 0s 4ms/step - loss: 0.1682 - root_mean_squared_error: 0.4101 - val_loss: 1.7540 - val_root_mean_squared_error: 1.3244\n",
            "Epoch 48/100\n",
            "137/137 [==============================] - 0s 4ms/step - loss: 0.1710 - root_mean_squared_error: 0.4135 - val_loss: 1.7893 - val_root_mean_squared_error: 1.3376\n",
            "Epoch 49/100\n",
            "137/137 [==============================] - 0s 4ms/step - loss: 0.1576 - root_mean_squared_error: 0.3970 - val_loss: 1.7824 - val_root_mean_squared_error: 1.3351\n",
            "Epoch 50/100\n",
            "137/137 [==============================] - 0s 4ms/step - loss: 0.1459 - root_mean_squared_error: 0.3820 - val_loss: 1.8001 - val_root_mean_squared_error: 1.3417\n",
            "Epoch 51/100\n",
            "137/137 [==============================] - 0s 4ms/step - loss: 0.1460 - root_mean_squared_error: 0.3821 - val_loss: 1.7191 - val_root_mean_squared_error: 1.3111\n",
            "Epoch 52/100\n",
            "137/137 [==============================] - 0s 4ms/step - loss: 0.1706 - root_mean_squared_error: 0.4131 - val_loss: 1.7788 - val_root_mean_squared_error: 1.3337\n",
            "Epoch 53/100\n",
            "137/137 [==============================] - 0s 4ms/step - loss: 0.1504 - root_mean_squared_error: 0.3879 - val_loss: 1.8132 - val_root_mean_squared_error: 1.3465\n",
            "Epoch 54/100\n",
            "137/137 [==============================] - 0s 4ms/step - loss: 0.1538 - root_mean_squared_error: 0.3922 - val_loss: 1.8123 - val_root_mean_squared_error: 1.3462\n",
            "Epoch 55/100\n",
            "137/137 [==============================] - 0s 4ms/step - loss: 0.1427 - root_mean_squared_error: 0.3777 - val_loss: 1.8225 - val_root_mean_squared_error: 1.3500\n",
            "Epoch 56/100\n",
            "137/137 [==============================] - 0s 4ms/step - loss: 0.1629 - root_mean_squared_error: 0.4036 - val_loss: 1.7284 - val_root_mean_squared_error: 1.3147\n",
            "Epoch 57/100\n",
            "137/137 [==============================] - 0s 4ms/step - loss: 0.1467 - root_mean_squared_error: 0.3831 - val_loss: 1.7300 - val_root_mean_squared_error: 1.3153\n",
            "Epoch 58/100\n",
            "137/137 [==============================] - 0s 4ms/step - loss: 0.1562 - root_mean_squared_error: 0.3952 - val_loss: 1.6988 - val_root_mean_squared_error: 1.3034\n",
            "Epoch 59/100\n",
            "137/137 [==============================] - 0s 4ms/step - loss: 0.1604 - root_mean_squared_error: 0.4005 - val_loss: 1.7046 - val_root_mean_squared_error: 1.3056\n",
            "Epoch 60/100\n",
            "137/137 [==============================] - 0s 4ms/step - loss: 0.1426 - root_mean_squared_error: 0.3777 - val_loss: 1.7307 - val_root_mean_squared_error: 1.3156\n",
            "Epoch 61/100\n",
            "137/137 [==============================] - 0s 4ms/step - loss: 0.1330 - root_mean_squared_error: 0.3647 - val_loss: 1.7016 - val_root_mean_squared_error: 1.3044\n",
            "Epoch 62/100\n",
            "137/137 [==============================] - 0s 4ms/step - loss: 0.1178 - root_mean_squared_error: 0.3432 - val_loss: 1.7413 - val_root_mean_squared_error: 1.3196\n",
            "Epoch 63/100\n",
            "137/137 [==============================] - 0s 4ms/step - loss: 0.1079 - root_mean_squared_error: 0.3285 - val_loss: 1.7099 - val_root_mean_squared_error: 1.3076\n",
            "Epoch 64/100\n",
            "137/137 [==============================] - 0s 4ms/step - loss: 0.1310 - root_mean_squared_error: 0.3619 - val_loss: 1.7167 - val_root_mean_squared_error: 1.3102\n",
            "Epoch 65/100\n",
            "137/137 [==============================] - 0s 4ms/step - loss: 0.1523 - root_mean_squared_error: 0.3903 - val_loss: 1.8073 - val_root_mean_squared_error: 1.3443\n",
            "Epoch 66/100\n",
            "137/137 [==============================] - 0s 4ms/step - loss: 0.1361 - root_mean_squared_error: 0.3689 - val_loss: 1.7193 - val_root_mean_squared_error: 1.3112\n",
            "Epoch 67/100\n",
            "137/137 [==============================] - 0s 4ms/step - loss: 0.1423 - root_mean_squared_error: 0.3773 - val_loss: 1.6218 - val_root_mean_squared_error: 1.2735\n",
            "Epoch 68/100\n",
            "137/137 [==============================] - 0s 4ms/step - loss: 0.1429 - root_mean_squared_error: 0.3780 - val_loss: 1.7117 - val_root_mean_squared_error: 1.3083\n",
            "Epoch 69/100\n",
            "137/137 [==============================] - 0s 4ms/step - loss: 0.1635 - root_mean_squared_error: 0.4044 - val_loss: 1.7845 - val_root_mean_squared_error: 1.3358\n",
            "Epoch 70/100\n",
            "137/137 [==============================] - 0s 4ms/step - loss: 0.1651 - root_mean_squared_error: 0.4063 - val_loss: 1.7251 - val_root_mean_squared_error: 1.3134\n",
            "Epoch 71/100\n",
            "137/137 [==============================] - 0s 4ms/step - loss: 0.1294 - root_mean_squared_error: 0.3598 - val_loss: 1.6857 - val_root_mean_squared_error: 1.2984\n",
            "Epoch 72/100\n",
            "137/137 [==============================] - 0s 4ms/step - loss: 0.1212 - root_mean_squared_error: 0.3481 - val_loss: 1.6491 - val_root_mean_squared_error: 1.2842\n",
            "Epoch 73/100\n",
            "137/137 [==============================] - 0s 4ms/step - loss: 0.1253 - root_mean_squared_error: 0.3539 - val_loss: 1.8510 - val_root_mean_squared_error: 1.3605\n",
            "Epoch 74/100\n",
            "137/137 [==============================] - 0s 4ms/step - loss: 0.1296 - root_mean_squared_error: 0.3600 - val_loss: 1.7949 - val_root_mean_squared_error: 1.3397\n",
            "Epoch 75/100\n",
            "137/137 [==============================] - 0s 4ms/step - loss: 0.1172 - root_mean_squared_error: 0.3423 - val_loss: 1.7520 - val_root_mean_squared_error: 1.3236\n",
            "Epoch 76/100\n",
            "137/137 [==============================] - 0s 4ms/step - loss: 0.1535 - root_mean_squared_error: 0.3917 - val_loss: 1.7285 - val_root_mean_squared_error: 1.3147\n",
            "Epoch 77/100\n",
            "137/137 [==============================] - 0s 4ms/step - loss: 0.1447 - root_mean_squared_error: 0.3804 - val_loss: 1.6326 - val_root_mean_squared_error: 1.2777\n",
            "Epoch 78/100\n",
            "137/137 [==============================] - 0s 4ms/step - loss: 0.1116 - root_mean_squared_error: 0.3341 - val_loss: 1.6696 - val_root_mean_squared_error: 1.2921\n",
            "Epoch 79/100\n",
            "137/137 [==============================] - 0s 4ms/step - loss: 0.1092 - root_mean_squared_error: 0.3304 - val_loss: 1.7168 - val_root_mean_squared_error: 1.3103\n",
            "Epoch 80/100\n",
            "137/137 [==============================] - 1s 4ms/step - loss: 0.1113 - root_mean_squared_error: 0.3336 - val_loss: 1.6559 - val_root_mean_squared_error: 1.2868\n",
            "Epoch 81/100\n",
            "137/137 [==============================] - 0s 4ms/step - loss: 0.1056 - root_mean_squared_error: 0.3250 - val_loss: 1.7535 - val_root_mean_squared_error: 1.3242\n",
            "Epoch 82/100\n",
            "137/137 [==============================] - 0s 3ms/step - loss: 0.1247 - root_mean_squared_error: 0.3531 - val_loss: 1.7201 - val_root_mean_squared_error: 1.3115\n",
            "Epoch 83/100\n",
            "137/137 [==============================] - 0s 4ms/step - loss: 0.1280 - root_mean_squared_error: 0.3578 - val_loss: 1.7398 - val_root_mean_squared_error: 1.3190\n",
            "Epoch 84/100\n",
            "137/137 [==============================] - 0s 4ms/step - loss: 0.1217 - root_mean_squared_error: 0.3489 - val_loss: 1.6516 - val_root_mean_squared_error: 1.2852\n",
            "Epoch 85/100\n",
            "137/137 [==============================] - 0s 4ms/step - loss: 0.1163 - root_mean_squared_error: 0.3410 - val_loss: 1.7168 - val_root_mean_squared_error: 1.3103\n",
            "Epoch 86/100\n",
            "137/137 [==============================] - 0s 3ms/step - loss: 0.1110 - root_mean_squared_error: 0.3332 - val_loss: 1.6824 - val_root_mean_squared_error: 1.2971\n",
            "Epoch 87/100\n",
            "137/137 [==============================] - 0s 4ms/step - loss: 0.0943 - root_mean_squared_error: 0.3071 - val_loss: 1.6282 - val_root_mean_squared_error: 1.2760\n",
            "Epoch 88/100\n",
            "137/137 [==============================] - 0s 4ms/step - loss: 0.1127 - root_mean_squared_error: 0.3357 - val_loss: 1.6426 - val_root_mean_squared_error: 1.2816\n",
            "Epoch 89/100\n",
            "137/137 [==============================] - 0s 4ms/step - loss: 0.1071 - root_mean_squared_error: 0.3272 - val_loss: 1.6339 - val_root_mean_squared_error: 1.2782\n",
            "Epoch 90/100\n",
            "137/137 [==============================] - 0s 4ms/step - loss: 0.0874 - root_mean_squared_error: 0.2956 - val_loss: 1.6584 - val_root_mean_squared_error: 1.2878\n",
            "Epoch 91/100\n",
            "137/137 [==============================] - 0s 4ms/step - loss: 0.0869 - root_mean_squared_error: 0.2948 - val_loss: 1.6421 - val_root_mean_squared_error: 1.2814\n",
            "Epoch 92/100\n",
            "137/137 [==============================] - 0s 4ms/step - loss: 0.0862 - root_mean_squared_error: 0.2936 - val_loss: 1.6399 - val_root_mean_squared_error: 1.2806\n",
            "Epoch 93/100\n",
            "137/137 [==============================] - 0s 4ms/step - loss: 0.1357 - root_mean_squared_error: 0.3683 - val_loss: 1.7057 - val_root_mean_squared_error: 1.3060\n",
            "Epoch 94/100\n",
            "137/137 [==============================] - 0s 4ms/step - loss: 0.1476 - root_mean_squared_error: 0.3842 - val_loss: 1.6604 - val_root_mean_squared_error: 1.2885\n",
            "Epoch 95/100\n",
            "137/137 [==============================] - 0s 4ms/step - loss: 0.1044 - root_mean_squared_error: 0.3231 - val_loss: 1.6967 - val_root_mean_squared_error: 1.3026\n",
            "Epoch 96/100\n",
            "137/137 [==============================] - 0s 4ms/step - loss: 0.1060 - root_mean_squared_error: 0.3256 - val_loss: 1.7203 - val_root_mean_squared_error: 1.3116\n",
            "Epoch 97/100\n",
            "137/137 [==============================] - 0s 4ms/step - loss: 0.0899 - root_mean_squared_error: 0.2998 - val_loss: 1.7314 - val_root_mean_squared_error: 1.3158\n",
            "Epoch 98/100\n",
            "137/137 [==============================] - 0s 4ms/step - loss: 0.1015 - root_mean_squared_error: 0.3185 - val_loss: 1.6496 - val_root_mean_squared_error: 1.2843\n",
            "Epoch 99/100\n",
            "137/137 [==============================] - 0s 4ms/step - loss: 0.0965 - root_mean_squared_error: 0.3106 - val_loss: 1.6666 - val_root_mean_squared_error: 1.2910\n",
            "Epoch 100/100\n",
            "137/137 [==============================] - 0s 4ms/step - loss: 0.0871 - root_mean_squared_error: 0.2951 - val_loss: 1.6651 - val_root_mean_squared_error: 1.2904\n"
          ]
        }
      ]
    },
    {
      "cell_type": "markdown",
      "source": [
        "Evaluate Model:"
      ],
      "metadata": {
        "id": "Hzwv3tyFwi4a"
      }
    },
    {
      "cell_type": "code",
      "source": [
        "conv_nn.evaluate()"
      ],
      "metadata": {
        "id": "86SFueVowi4b",
        "colab": {
          "base_uri": "https://localhost:8080/",
          "height": 680
        },
        "outputId": "65915fc1-43b2-48fa-ca40-cb00cdcefcaf"
      },
      "execution_count": 11,
      "outputs": [
        {
          "output_type": "stream",
          "name": "stdout",
          "text": [
            "43/43 [==============================] - 0s 2ms/step - loss: 1.6941 - root_mean_squared_error: 1.3016\n",
            "\n",
            "Test root_mean_squared_error: 1.3015806674957275\n",
            "\n",
            "Test loss: 1.6941121816635132\n"
          ]
        },
        {
          "output_type": "display_data",
          "data": {
            "text/plain": [
              "<Figure size 432x288 with 1 Axes>"
            ],
            "image/png": "[encoded data removed]"
          },
          "metadata": {
            "needs_background": "light"
          }
        },
        {
          "output_type": "display_data",
          "data": {
            "text/plain": [
              "<Figure size 432x288 with 1 Axes>"
            ],
            "image/png": "[encoded data removed]"
          },
          "metadata": {
            "needs_background": "light"
          }
        },
        {
          "output_type": "execute_result",
          "data": {
            "text/plain": [
              "(1.3015806674957275, 1.6941121816635132)"
            ]
          },
          "metadata": {},
          "execution_count": 11
        }
      ]
    },
    {
      "cell_type": "markdown",
      "source": [
        "# ConvNet 3D"
      ],
      "metadata": {
        "id": "WNTzRG_8w5KT"
      }
    },
    {
      "cell_type": "markdown",
      "source": [
        "Configuration for NN:"
      ],
      "metadata": {
        "id": "JUQp2vLMw5KV"
      }
    },
    {
      "cell_type": "code",
      "source": [
        "from tensorflow import keras\n",
        "\n",
        "nn_configuration = {\n",
        "    'epochs': epochs,  # number of epochs\n",
        "    'batch_size': 32,  # size of the batch\n",
        "    'verbose': 1,  # set the training phase as verbose\n",
        "    'optimizer': keras.optimizers.Adam(clipvalue=1.0),  # optimizer\n",
        "    'metrics': [\"root_mean_squared_error\"],\n",
        "    'loss': 'mean_squared_error',  # loss\n",
        "    'val_split': 0.2,  # validation split: percentage of the training data used for evaluating the loss function\n",
        "    'input_shape': (15, 20, 3),\n",
        "    'n_output': 1  # number of outputs = x and y\n",
        "}"
      ],
      "metadata": {
        "id": "pu7qCxIDw5KV"
      },
      "execution_count": 12,
      "outputs": []
    },
    {
      "cell_type": "markdown",
      "source": [
        "Create Model:"
      ],
      "metadata": {
        "id": "yXKjvU3Kw5KW"
      }
    },
    {
      "cell_type": "code",
      "source": [
        "from gaze_predictor.convolutional_3d import ConvNetwork3D\n",
        "\n",
        "conv_nn_3d = ConvNetwork3D(name='conv_nn_3d', configuration = nn_configuration, subject_specific=True)\n",
        "conv_nn_3d.create_model()"
      ],
      "metadata": {
        "id": "5djRuFMqw5KX",
        "colab": {
          "base_uri": "https://localhost:8080/"
        },
        "outputId": "4538c6e3-28b7-4b8c-8466-b7abf191a1d7"
      },
      "execution_count": 13,
      "outputs": [
        {
          "output_type": "stream",
          "name": "stdout",
          "text": [
            "Created model for conv_nn_3d:\n",
            "Model: \"sequential_2\"\n",
            "_________________________________________________________________\n",
            " Layer (type)                Output Shape              Param #   \n",
            "=================================================================\n",
            " Conv1_In (Conv2D)           (None, 15, 20, 12)        912       \n",
            "                                                                 \n",
            " max_pooling2d_2 (MaxPooling  (None, 8, 10, 12)        0         \n",
            " 2D)                                                             \n",
            "                                                                 \n",
            " Conv2 (Conv2D)              (None, 8, 10, 32)         3488      \n",
            "                                                                 \n",
            " max_pooling2d_3 (MaxPooling  (None, 4, 5, 32)         0         \n",
            " 2D)                                                             \n",
            "                                                                 \n",
            " flatten_1 (Flatten)         (None, 640)               0         \n",
            "                                                                 \n",
            " Dense1 (Dense)              (None, 64)                41024     \n",
            "                                                                 \n",
            " Dense2 (Dense)              (None, 16)                1040      \n",
            "                                                                 \n",
            " Output (Dense)              (None, 1)                 17        \n",
            "                                                                 \n",
            "=================================================================\n",
            "Total params: 46,481\n",
            "Trainable params: 46,481\n",
            "Non-trainable params: 0\n",
            "_________________________________________________________________\n",
            "None\n"
          ]
        }
      ]
    },
    {
      "cell_type": "markdown",
      "source": [
        "Train Model:"
      ],
      "metadata": {
        "id": "gN9EaLvbw5KY"
      }
    },
    {
      "cell_type": "code",
      "source": [
        "conv_nn_3d.train()"
      ],
      "metadata": {
        "id": "zYxqqA1Iw5KY",
        "colab": {
          "base_uri": "https://localhost:8080/"
        },
        "outputId": "b9b2f9d7-0a64-4fd1-9974-319be1b0bda2"
      },
      "execution_count": 14,
      "outputs": [
        {
          "output_type": "stream",
          "name": "stdout",
          "text": [
            "Epoch 1/100\n",
            "137/137 [==============================] - 1s 5ms/step - loss: 6.0553 - root_mean_squared_error: 2.4608 - val_loss: 5.8423 - val_root_mean_squared_error: 2.4171\n",
            "Epoch 2/100\n",
            "137/137 [==============================] - 1s 4ms/step - loss: 5.3407 - root_mean_squared_error: 2.3110 - val_loss: 5.6025 - val_root_mean_squared_error: 2.3670\n",
            "Epoch 3/100\n",
            "137/137 [==============================] - 1s 4ms/step - loss: 4.8321 - root_mean_squared_error: 2.1982 - val_loss: 5.5974 - val_root_mean_squared_error: 2.3659\n",
            "Epoch 4/100\n",
            "137/137 [==============================] - 1s 4ms/step - loss: 3.9386 - root_mean_squared_error: 1.9846 - val_loss: 4.2096 - val_root_mean_squared_error: 2.0517\n",
            "Epoch 5/100\n",
            "137/137 [==============================] - 1s 4ms/step - loss: 3.1450 - root_mean_squared_error: 1.7734 - val_loss: 3.5516 - val_root_mean_squared_error: 1.8846\n",
            "Epoch 6/100\n",
            "137/137 [==============================] - 1s 4ms/step - loss: 2.3617 - root_mean_squared_error: 1.5368 - val_loss: 3.0651 - val_root_mean_squared_error: 1.7507\n",
            "Epoch 7/100\n",
            "137/137 [==============================] - 1s 4ms/step - loss: 1.9079 - root_mean_squared_error: 1.3813 - val_loss: 2.6155 - val_root_mean_squared_error: 1.6173\n",
            "Epoch 8/100\n",
            "137/137 [==============================] - 1s 4ms/step - loss: 1.5083 - root_mean_squared_error: 1.2281 - val_loss: 2.3806 - val_root_mean_squared_error: 1.5429\n",
            "Epoch 9/100\n",
            "137/137 [==============================] - 1s 4ms/step - loss: 1.2482 - root_mean_squared_error: 1.1172 - val_loss: 2.2729 - val_root_mean_squared_error: 1.5076\n",
            "Epoch 10/100\n",
            "137/137 [==============================] - 1s 4ms/step - loss: 1.0645 - root_mean_squared_error: 1.0317 - val_loss: 2.2048 - val_root_mean_squared_error: 1.4849\n",
            "Epoch 11/100\n",
            "137/137 [==============================] - 1s 4ms/step - loss: 0.9398 - root_mean_squared_error: 0.9695 - val_loss: 1.9264 - val_root_mean_squared_error: 1.3879\n",
            "Epoch 12/100\n",
            "137/137 [==============================] - 1s 4ms/step - loss: 0.8215 - root_mean_squared_error: 0.9063 - val_loss: 2.0577 - val_root_mean_squared_error: 1.4345\n",
            "Epoch 13/100\n",
            "137/137 [==============================] - 1s 4ms/step - loss: 0.7634 - root_mean_squared_error: 0.8737 - val_loss: 1.8389 - val_root_mean_squared_error: 1.3560\n",
            "Epoch 14/100\n",
            "137/137 [==============================] - 1s 4ms/step - loss: 0.7171 - root_mean_squared_error: 0.8468 - val_loss: 1.8312 - val_root_mean_squared_error: 1.3532\n",
            "Epoch 15/100\n",
            "137/137 [==============================] - 1s 4ms/step - loss: 0.5876 - root_mean_squared_error: 0.7666 - val_loss: 1.7346 - val_root_mean_squared_error: 1.3170\n",
            "Epoch 16/100\n",
            "137/137 [==============================] - 1s 4ms/step - loss: 0.5257 - root_mean_squared_error: 0.7250 - val_loss: 1.8228 - val_root_mean_squared_error: 1.3501\n",
            "Epoch 17/100\n",
            "137/137 [==============================] - 1s 4ms/step - loss: 0.4653 - root_mean_squared_error: 0.6821 - val_loss: 1.7969 - val_root_mean_squared_error: 1.3405\n",
            "Epoch 18/100\n",
            "137/137 [==============================] - 1s 4ms/step - loss: 0.4573 - root_mean_squared_error: 0.6762 - val_loss: 1.7801 - val_root_mean_squared_error: 1.3342\n",
            "Epoch 19/100\n",
            "137/137 [==============================] - 1s 4ms/step - loss: 0.4420 - root_mean_squared_error: 0.6649 - val_loss: 1.9599 - val_root_mean_squared_error: 1.4000\n",
            "Epoch 20/100\n",
            "137/137 [==============================] - 1s 4ms/step - loss: 0.4030 - root_mean_squared_error: 0.6348 - val_loss: 1.9073 - val_root_mean_squared_error: 1.3810\n",
            "Epoch 21/100\n",
            "137/137 [==============================] - 1s 4ms/step - loss: 0.3864 - root_mean_squared_error: 0.6216 - val_loss: 1.6528 - val_root_mean_squared_error: 1.2856\n",
            "Epoch 22/100\n",
            "137/137 [==============================] - 1s 4ms/step - loss: 0.3829 - root_mean_squared_error: 0.6188 - val_loss: 1.7903 - val_root_mean_squared_error: 1.3380\n",
            "Epoch 23/100\n",
            "137/137 [==============================] - 1s 4ms/step - loss: 0.3367 - root_mean_squared_error: 0.5803 - val_loss: 1.6671 - val_root_mean_squared_error: 1.2912\n",
            "Epoch 24/100\n",
            "137/137 [==============================] - 1s 4ms/step - loss: 0.2931 - root_mean_squared_error: 0.5414 - val_loss: 1.6670 - val_root_mean_squared_error: 1.2911\n",
            "Epoch 25/100\n",
            "137/137 [==============================] - 1s 4ms/step - loss: 0.3157 - root_mean_squared_error: 0.5619 - val_loss: 1.7735 - val_root_mean_squared_error: 1.3317\n",
            "Epoch 26/100\n",
            "137/137 [==============================] - 1s 4ms/step - loss: 0.2998 - root_mean_squared_error: 0.5476 - val_loss: 1.9345 - val_root_mean_squared_error: 1.3909\n",
            "Epoch 27/100\n",
            "137/137 [==============================] - 1s 4ms/step - loss: 0.2876 - root_mean_squared_error: 0.5363 - val_loss: 1.6369 - val_root_mean_squared_error: 1.2794\n",
            "Epoch 28/100\n",
            "137/137 [==============================] - 1s 4ms/step - loss: 0.2299 - root_mean_squared_error: 0.4795 - val_loss: 1.6803 - val_root_mean_squared_error: 1.2963\n",
            "Epoch 29/100\n",
            "137/137 [==============================] - 1s 4ms/step - loss: 0.2255 - root_mean_squared_error: 0.4749 - val_loss: 1.8059 - val_root_mean_squared_error: 1.3438\n",
            "Epoch 30/100\n",
            "137/137 [==============================] - 1s 4ms/step - loss: 0.2584 - root_mean_squared_error: 0.5083 - val_loss: 1.6502 - val_root_mean_squared_error: 1.2846\n",
            "Epoch 31/100\n",
            "137/137 [==============================] - 1s 4ms/step - loss: 0.2215 - root_mean_squared_error: 0.4706 - val_loss: 1.6264 - val_root_mean_squared_error: 1.2753\n",
            "Epoch 32/100\n",
            "137/137 [==============================] - 1s 4ms/step - loss: 0.2029 - root_mean_squared_error: 0.4504 - val_loss: 1.6541 - val_root_mean_squared_error: 1.2861\n",
            "Epoch 33/100\n",
            "137/137 [==============================] - 1s 4ms/step - loss: 0.1987 - root_mean_squared_error: 0.4458 - val_loss: 1.7422 - val_root_mean_squared_error: 1.3199\n",
            "Epoch 34/100\n",
            "137/137 [==============================] - 1s 4ms/step - loss: 0.2233 - root_mean_squared_error: 0.4725 - val_loss: 1.6161 - val_root_mean_squared_error: 1.2713\n",
            "Epoch 35/100\n",
            "137/137 [==============================] - 1s 4ms/step - loss: 0.1871 - root_mean_squared_error: 0.4325 - val_loss: 1.5819 - val_root_mean_squared_error: 1.2577\n",
            "Epoch 36/100\n",
            "137/137 [==============================] - 1s 4ms/step - loss: 0.1860 - root_mean_squared_error: 0.4312 - val_loss: 1.6341 - val_root_mean_squared_error: 1.2783\n",
            "Epoch 37/100\n",
            "137/137 [==============================] - 1s 4ms/step - loss: 0.1945 - root_mean_squared_error: 0.4411 - val_loss: 1.6125 - val_root_mean_squared_error: 1.2698\n",
            "Epoch 38/100\n",
            "137/137 [==============================] - 1s 4ms/step - loss: 0.1757 - root_mean_squared_error: 0.4191 - val_loss: 1.6514 - val_root_mean_squared_error: 1.2851\n",
            "Epoch 39/100\n",
            "137/137 [==============================] - 1s 4ms/step - loss: 0.1775 - root_mean_squared_error: 0.4213 - val_loss: 1.6227 - val_root_mean_squared_error: 1.2739\n",
            "Epoch 40/100\n",
            "137/137 [==============================] - 1s 4ms/step - loss: 0.1601 - root_mean_squared_error: 0.4001 - val_loss: 1.5996 - val_root_mean_squared_error: 1.2648\n",
            "Epoch 41/100\n",
            "137/137 [==============================] - 1s 4ms/step - loss: 0.1672 - root_mean_squared_error: 0.4090 - val_loss: 1.6117 - val_root_mean_squared_error: 1.2695\n",
            "Epoch 42/100\n",
            "137/137 [==============================] - 1s 4ms/step - loss: 0.1954 - root_mean_squared_error: 0.4421 - val_loss: 1.6378 - val_root_mean_squared_error: 1.2798\n",
            "Epoch 43/100\n",
            "137/137 [==============================] - 1s 4ms/step - loss: 0.1579 - root_mean_squared_error: 0.3974 - val_loss: 1.5314 - val_root_mean_squared_error: 1.2375\n",
            "Epoch 44/100\n",
            "137/137 [==============================] - 1s 4ms/step - loss: 0.1515 - root_mean_squared_error: 0.3893 - val_loss: 1.6175 - val_root_mean_squared_error: 1.2718\n",
            "Epoch 45/100\n",
            "137/137 [==============================] - 1s 4ms/step - loss: 0.1749 - root_mean_squared_error: 0.4182 - val_loss: 1.6260 - val_root_mean_squared_error: 1.2751\n",
            "Epoch 46/100\n",
            "137/137 [==============================] - 1s 4ms/step - loss: 0.1422 - root_mean_squared_error: 0.3771 - val_loss: 1.5704 - val_root_mean_squared_error: 1.2532\n",
            "Epoch 47/100\n",
            "137/137 [==============================] - 1s 4ms/step - loss: 0.1214 - root_mean_squared_error: 0.3484 - val_loss: 1.5964 - val_root_mean_squared_error: 1.2635\n",
            "Epoch 48/100\n",
            "137/137 [==============================] - 1s 4ms/step - loss: 0.1625 - root_mean_squared_error: 0.4032 - val_loss: 1.6041 - val_root_mean_squared_error: 1.2665\n",
            "Epoch 49/100\n",
            "137/137 [==============================] - 1s 4ms/step - loss: 0.1330 - root_mean_squared_error: 0.3647 - val_loss: 1.6483 - val_root_mean_squared_error: 1.2839\n",
            "Epoch 50/100\n",
            "137/137 [==============================] - 1s 4ms/step - loss: 0.1553 - root_mean_squared_error: 0.3940 - val_loss: 1.5269 - val_root_mean_squared_error: 1.2357\n",
            "Epoch 51/100\n",
            "137/137 [==============================] - 1s 4ms/step - loss: 0.1579 - root_mean_squared_error: 0.3974 - val_loss: 1.6140 - val_root_mean_squared_error: 1.2704\n",
            "Epoch 52/100\n",
            "137/137 [==============================] - 1s 4ms/step - loss: 0.1274 - root_mean_squared_error: 0.3569 - val_loss: 1.5706 - val_root_mean_squared_error: 1.2532\n",
            "Epoch 53/100\n",
            "137/137 [==============================] - 1s 4ms/step - loss: 0.1367 - root_mean_squared_error: 0.3698 - val_loss: 1.5921 - val_root_mean_squared_error: 1.2618\n",
            "Epoch 54/100\n",
            "137/137 [==============================] - 1s 4ms/step - loss: 0.1113 - root_mean_squared_error: 0.3337 - val_loss: 1.5799 - val_root_mean_squared_error: 1.2569\n",
            "Epoch 55/100\n",
            "137/137 [==============================] - 1s 4ms/step - loss: 0.1166 - root_mean_squared_error: 0.3415 - val_loss: 1.5885 - val_root_mean_squared_error: 1.2604\n",
            "Epoch 56/100\n",
            "137/137 [==============================] - 1s 4ms/step - loss: 0.1104 - root_mean_squared_error: 0.3323 - val_loss: 1.4886 - val_root_mean_squared_error: 1.2201\n",
            "Epoch 57/100\n",
            "137/137 [==============================] - 1s 4ms/step - loss: 0.0975 - root_mean_squared_error: 0.3123 - val_loss: 1.5246 - val_root_mean_squared_error: 1.2347\n",
            "Epoch 58/100\n",
            "137/137 [==============================] - 1s 4ms/step - loss: 0.0894 - root_mean_squared_error: 0.2990 - val_loss: 1.5036 - val_root_mean_squared_error: 1.2262\n",
            "Epoch 59/100\n",
            "137/137 [==============================] - 1s 4ms/step - loss: 0.1056 - root_mean_squared_error: 0.3249 - val_loss: 1.5589 - val_root_mean_squared_error: 1.2486\n",
            "Epoch 60/100\n",
            "137/137 [==============================] - 1s 4ms/step - loss: 0.1155 - root_mean_squared_error: 0.3399 - val_loss: 1.5116 - val_root_mean_squared_error: 1.2295\n",
            "Epoch 61/100\n",
            "137/137 [==============================] - 1s 4ms/step - loss: 0.1293 - root_mean_squared_error: 0.3596 - val_loss: 1.6326 - val_root_mean_squared_error: 1.2777\n",
            "Epoch 62/100\n",
            "137/137 [==============================] - 1s 4ms/step - loss: 0.1083 - root_mean_squared_error: 0.3290 - val_loss: 1.4668 - val_root_mean_squared_error: 1.2111\n",
            "Epoch 63/100\n",
            "137/137 [==============================] - 1s 4ms/step - loss: 0.1200 - root_mean_squared_error: 0.3464 - val_loss: 1.6415 - val_root_mean_squared_error: 1.2812\n",
            "Epoch 64/100\n",
            "137/137 [==============================] - 1s 4ms/step - loss: 0.1239 - root_mean_squared_error: 0.3519 - val_loss: 1.5286 - val_root_mean_squared_error: 1.2364\n",
            "Epoch 65/100\n",
            "137/137 [==============================] - 0s 4ms/step - loss: 0.1596 - root_mean_squared_error: 0.3995 - val_loss: 1.4956 - val_root_mean_squared_error: 1.2230\n",
            "Epoch 66/100\n",
            "137/137 [==============================] - 1s 4ms/step - loss: 0.1165 - root_mean_squared_error: 0.3413 - val_loss: 1.5033 - val_root_mean_squared_error: 1.2261\n",
            "Epoch 67/100\n",
            "137/137 [==============================] - 1s 4ms/step - loss: 0.0986 - root_mean_squared_error: 0.3140 - val_loss: 1.4772 - val_root_mean_squared_error: 1.2154\n",
            "Epoch 68/100\n",
            "137/137 [==============================] - 1s 4ms/step - loss: 0.1035 - root_mean_squared_error: 0.3217 - val_loss: 1.4706 - val_root_mean_squared_error: 1.2127\n",
            "Epoch 69/100\n",
            "137/137 [==============================] - 1s 4ms/step - loss: 0.0750 - root_mean_squared_error: 0.2739 - val_loss: 1.4807 - val_root_mean_squared_error: 1.2168\n",
            "Epoch 70/100\n",
            "137/137 [==============================] - 1s 4ms/step - loss: 0.0850 - root_mean_squared_error: 0.2916 - val_loss: 1.4559 - val_root_mean_squared_error: 1.2066\n",
            "Epoch 71/100\n",
            "137/137 [==============================] - 1s 4ms/step - loss: 0.0805 - root_mean_squared_error: 0.2838 - val_loss: 1.4542 - val_root_mean_squared_error: 1.2059\n",
            "Epoch 72/100\n",
            "137/137 [==============================] - 1s 4ms/step - loss: 0.0678 - root_mean_squared_error: 0.2604 - val_loss: 1.4695 - val_root_mean_squared_error: 1.2122\n",
            "Epoch 73/100\n",
            "137/137 [==============================] - 1s 4ms/step - loss: 0.0713 - root_mean_squared_error: 0.2670 - val_loss: 1.5229 - val_root_mean_squared_error: 1.2341\n",
            "Epoch 74/100\n",
            "137/137 [==============================] - 1s 4ms/step - loss: 0.1143 - root_mean_squared_error: 0.3381 - val_loss: 1.5787 - val_root_mean_squared_error: 1.2565\n",
            "Epoch 75/100\n",
            "137/137 [==============================] - 1s 4ms/step - loss: 0.1228 - root_mean_squared_error: 0.3504 - val_loss: 1.5289 - val_root_mean_squared_error: 1.2365\n",
            "Epoch 76/100\n",
            "137/137 [==============================] - 1s 4ms/step - loss: 0.1188 - root_mean_squared_error: 0.3447 - val_loss: 1.5032 - val_root_mean_squared_error: 1.2261\n",
            "Epoch 77/100\n",
            "137/137 [==============================] - 1s 4ms/step - loss: 0.0809 - root_mean_squared_error: 0.2844 - val_loss: 1.4842 - val_root_mean_squared_error: 1.2183\n",
            "Epoch 78/100\n",
            "137/137 [==============================] - 1s 4ms/step - loss: 0.0701 - root_mean_squared_error: 0.2647 - val_loss: 1.4899 - val_root_mean_squared_error: 1.2206\n",
            "Epoch 79/100\n",
            "137/137 [==============================] - 1s 4ms/step - loss: 0.0602 - root_mean_squared_error: 0.2453 - val_loss: 1.4759 - val_root_mean_squared_error: 1.2149\n",
            "Epoch 80/100\n",
            "137/137 [==============================] - 1s 4ms/step - loss: 0.0948 - root_mean_squared_error: 0.3078 - val_loss: 1.5414 - val_root_mean_squared_error: 1.2415\n",
            "Epoch 81/100\n",
            "137/137 [==============================] - 1s 4ms/step - loss: 0.1161 - root_mean_squared_error: 0.3408 - val_loss: 1.3880 - val_root_mean_squared_error: 1.1781\n",
            "Epoch 82/100\n",
            "137/137 [==============================] - 1s 4ms/step - loss: 0.0757 - root_mean_squared_error: 0.2751 - val_loss: 1.4510 - val_root_mean_squared_error: 1.2046\n",
            "Epoch 83/100\n",
            "137/137 [==============================] - 1s 4ms/step - loss: 0.0703 - root_mean_squared_error: 0.2651 - val_loss: 1.4563 - val_root_mean_squared_error: 1.2068\n",
            "Epoch 84/100\n",
            "137/137 [==============================] - 1s 4ms/step - loss: 0.0659 - root_mean_squared_error: 0.2566 - val_loss: 1.4605 - val_root_mean_squared_error: 1.2085\n",
            "Epoch 85/100\n",
            "137/137 [==============================] - 1s 4ms/step - loss: 0.0829 - root_mean_squared_error: 0.2878 - val_loss: 1.4184 - val_root_mean_squared_error: 1.1910\n",
            "Epoch 86/100\n",
            "137/137 [==============================] - 1s 4ms/step - loss: 0.0772 - root_mean_squared_error: 0.2778 - val_loss: 1.5241 - val_root_mean_squared_error: 1.2345\n",
            "Epoch 87/100\n",
            "137/137 [==============================] - 1s 4ms/step - loss: 0.0920 - root_mean_squared_error: 0.3033 - val_loss: 1.4265 - val_root_mean_squared_error: 1.1944\n",
            "Epoch 88/100\n",
            "137/137 [==============================] - 1s 4ms/step - loss: 0.0685 - root_mean_squared_error: 0.2617 - val_loss: 1.4440 - val_root_mean_squared_error: 1.2017\n",
            "Epoch 89/100\n",
            "137/137 [==============================] - 1s 4ms/step - loss: 0.0565 - root_mean_squared_error: 0.2377 - val_loss: 1.4736 - val_root_mean_squared_error: 1.2139\n",
            "Epoch 90/100\n",
            "137/137 [==============================] - 1s 4ms/step - loss: 0.0686 - root_mean_squared_error: 0.2618 - val_loss: 1.4682 - val_root_mean_squared_error: 1.2117\n",
            "Epoch 91/100\n",
            "137/137 [==============================] - 1s 4ms/step - loss: 0.0598 - root_mean_squared_error: 0.2444 - val_loss: 1.4515 - val_root_mean_squared_error: 1.2048\n",
            "Epoch 92/100\n",
            "137/137 [==============================] - 1s 4ms/step - loss: 0.1050 - root_mean_squared_error: 0.3240 - val_loss: 1.4925 - val_root_mean_squared_error: 1.2217\n",
            "Epoch 93/100\n",
            "137/137 [==============================] - 1s 4ms/step - loss: 0.0942 - root_mean_squared_error: 0.3069 - val_loss: 1.4219 - val_root_mean_squared_error: 1.1924\n",
            "Epoch 94/100\n",
            "137/137 [==============================] - 1s 4ms/step - loss: 0.0755 - root_mean_squared_error: 0.2748 - val_loss: 1.4087 - val_root_mean_squared_error: 1.1869\n",
            "Epoch 95/100\n",
            "137/137 [==============================] - 1s 4ms/step - loss: 0.0840 - root_mean_squared_error: 0.2898 - val_loss: 1.4200 - val_root_mean_squared_error: 1.1916\n",
            "Epoch 96/100\n",
            "137/137 [==============================] - 1s 4ms/step - loss: 0.0898 - root_mean_squared_error: 0.2996 - val_loss: 1.4853 - val_root_mean_squared_error: 1.2187\n",
            "Epoch 97/100\n",
            "137/137 [==============================] - 1s 4ms/step - loss: 0.0858 - root_mean_squared_error: 0.2929 - val_loss: 1.4240 - val_root_mean_squared_error: 1.1933\n",
            "Epoch 98/100\n",
            "137/137 [==============================] - 1s 4ms/step - loss: 0.0523 - root_mean_squared_error: 0.2287 - val_loss: 1.3958 - val_root_mean_squared_error: 1.1815\n",
            "Epoch 99/100\n",
            "137/137 [==============================] - 1s 4ms/step - loss: 0.0693 - root_mean_squared_error: 0.2632 - val_loss: 1.4184 - val_root_mean_squared_error: 1.1910\n",
            "Epoch 100/100\n",
            "137/137 [==============================] - 1s 4ms/step - loss: 0.0544 - root_mean_squared_error: 0.2332 - val_loss: 1.4214 - val_root_mean_squared_error: 1.1922\n"
          ]
        }
      ]
    },
    {
      "cell_type": "markdown",
      "source": [
        "Evaluate Model:"
      ],
      "metadata": {
        "id": "I0x5cYrow5KZ"
      }
    },
    {
      "cell_type": "code",
      "source": [
        "conv_nn_3d.evaluate()"
      ],
      "metadata": {
        "id": "hJQeDMAfw5KZ",
        "colab": {
          "base_uri": "https://localhost:8080/",
          "height": 680
        },
        "outputId": "243fa06b-d860-46f5-dae2-852b29e1bb74"
      },
      "execution_count": 15,
      "outputs": [
        {
          "output_type": "stream",
          "name": "stdout",
          "text": [
            "43/43 [==============================] - 0s 2ms/step - loss: 1.3216 - root_mean_squared_error: 1.1496\n",
            "\n",
            "Test root_mean_squared_error: 1.1496107578277588\n",
            "\n",
            "Test loss: 1.3216049671173096\n"
          ]
        },
        {
          "output_type": "display_data",
          "data": {
            "text/plain": [
              "<Figure size 432x288 with 1 Axes>"
            ],
            "image/png": "[encoded data removed]"
          },
          "metadata": {
            "needs_background": "light"
          }
        },
        {
          "output_type": "display_data",
          "data": {
            "text/plain": [
              "<Figure size 432x288 with 1 Axes>"
            ],
            "image/png": "[encoded data removed]"
          },
          "metadata": {
            "needs_background": "light"
          }
        },
        {
          "output_type": "execute_result",
          "data": {
            "text/plain": [
              "(1.1496107578277588, 1.3216049671173096)"
            ]
          },
          "metadata": {},
          "execution_count": 15
        }
      ]
    },
    {
      "cell_type": "markdown",
      "source": [
        "# Recurrent Network"
      ],
      "metadata": {
        "id": "sFDw7oRtwd7Z"
      }
    },
    {
      "cell_type": "markdown",
      "source": [
        "Configuration for NN:"
      ],
      "metadata": {
        "id": "wurGD-Vhnyw_"
      }
    },
    {
      "cell_type": "code",
      "source": [
        "from tensorflow import keras\n",
        "\n",
        "nn_configuration = {\n",
        "    'epochs': epochs,  # number of epochs\n",
        "    'batch_size': 32,  # size of the batch\n",
        "    'verbose': 1,  # set the training phase as verbose\n",
        "    'optimizer': keras.optimizers.Adam(clipvalue=1.0),  # optimizer\n",
        "    'metrics': [\"root_mean_squared_error\"],\n",
        "    'loss': 'mean_squared_error',  # loss\n",
        "    'val_split': 0.2,  # validation split: percentage of the training data used for evaluating the loss function\n",
        "    'n_input': 300,\n",
        "    'input_shape': (300,),\n",
        "    'n_output': 1  # number of outputs = mfd\n",
        "}"
      ],
      "metadata": {
        "id": "Giy0pZabnxeN"
      },
      "execution_count": 16,
      "outputs": []
    },
    {
      "cell_type": "markdown",
      "source": [
        "Create Model:"
      ],
      "metadata": {
        "id": "5YyPlA_On3d7"
      }
    },
    {
      "cell_type": "code",
      "source": [
        "from gaze_predictor.recurrent_network import RecurrentNetwork\n",
        "\n",
        "lstm_nn = RecurrentNetwork(name='lstm_nn', configuration = nn_configuration, subject_specific=True)\n",
        "lstm_nn.create_model()"
      ],
      "metadata": {
        "id": "A_GFsr-7n06c",
        "colab": {
          "base_uri": "https://localhost:8080/",
          "height": 425
        },
        "outputId": "e4abdf73-afe9-4889-eee5-0c39599d6a5f"
      },
      "execution_count": 17,
      "outputs": [
        {
          "output_type": "error",
          "ename": "FileNotFoundError",
          "evalue": "ignored",
          "traceback": [
            "\u001b[0;31m---------------------------------------------------------------------------\u001b[0m",
            "\u001b[0;31mFileNotFoundError\u001b[0m                         Traceback (most recent call last)",
            "\u001b[0;32m<ipython-input-17-363a7fb4e1b4>\u001b[0m in \u001b[0;36m<module>\u001b[0;34m\u001b[0m\n\u001b[1;32m      1\u001b[0m \u001b[0;32mfrom\u001b[0m \u001b[0mgaze_predictor\u001b[0m\u001b[0;34m.\u001b[0m\u001b[0mrecurrent_network\u001b[0m \u001b[0;32mimport\u001b[0m \u001b[0mRecurrentNetwork\u001b[0m\u001b[0;34m\u001b[0m\u001b[0;34m\u001b[0m\u001b[0m\n\u001b[1;32m      2\u001b[0m \u001b[0;34m\u001b[0m\u001b[0m\n\u001b[0;32m----> 3\u001b[0;31m \u001b[0mlstm_nn\u001b[0m \u001b[0;34m=\u001b[0m \u001b[0mRecurrentNetwork\u001b[0m\u001b[0;34m(\u001b[0m\u001b[0mname\u001b[0m\u001b[0;34m=\u001b[0m\u001b[0;34m'lstm_nn'\u001b[0m\u001b[0;34m,\u001b[0m \u001b[0mconfiguration\u001b[0m \u001b[0;34m=\u001b[0m \u001b[0mnn_configuration\u001b[0m\u001b[0;34m,\u001b[0m \u001b[0msubject_specific\u001b[0m\u001b[0;34m=\u001b[0m\u001b[0;32mTrue\u001b[0m\u001b[0;34m)\u001b[0m\u001b[0;34m\u001b[0m\u001b[0;34m\u001b[0m\u001b[0m\n\u001b[0m\u001b[1;32m      4\u001b[0m \u001b[0mlstm_nn\u001b[0m\u001b[0;34m.\u001b[0m\u001b[0mcreate_model\u001b[0m\u001b[0;34m(\u001b[0m\u001b[0;34m)\u001b[0m\u001b[0;34m\u001b[0m\u001b[0;34m\u001b[0m\u001b[0m\n",
            "\u001b[0;32m/content/cloned_repo/gaze_predictor/recurrent_network.py\u001b[0m in \u001b[0;36m__init__\u001b[0;34m(self, name, percent_train, configuration, subject_specific)\u001b[0m\n\u001b[1;32m     25\u001b[0m \u001b[0;34m\u001b[0m\u001b[0m\n\u001b[1;32m     26\u001b[0m         \u001b[0msuper\u001b[0m\u001b[0;34m(\u001b[0m\u001b[0;34m)\u001b[0m\u001b[0;34m.\u001b[0m\u001b[0m__init__\u001b[0m\u001b[0;34m(\u001b[0m\u001b[0mname\u001b[0m\u001b[0;34m,\u001b[0m \u001b[0mpercent_train\u001b[0m\u001b[0;34m,\u001b[0m \u001b[0mconfiguration\u001b[0m\u001b[0;34m)\u001b[0m\u001b[0;34m\u001b[0m\u001b[0;34m\u001b[0m\u001b[0m\n\u001b[0;32m---> 27\u001b[0;31m         \u001b[0mself\u001b[0m\u001b[0;34m.\u001b[0m\u001b[0m_load_data\u001b[0m\u001b[0;34m(\u001b[0m\u001b[0minput_file\u001b[0m\u001b[0;34m,\u001b[0m \u001b[0moutput_file\u001b[0m\u001b[0;34m,\u001b[0m \u001b[0mflatten\u001b[0m\u001b[0;34m=\u001b[0m\u001b[0;32mTrue\u001b[0m\u001b[0;34m,\u001b[0m \u001b[0msubject_specific\u001b[0m\u001b[0;34m=\u001b[0m\u001b[0msubject_specific\u001b[0m\u001b[0;34m)\u001b[0m\u001b[0;34m\u001b[0m\u001b[0;34m\u001b[0m\u001b[0m\n\u001b[0m\u001b[1;32m     28\u001b[0m \u001b[0;34m\u001b[0m\u001b[0m\n\u001b[1;32m     29\u001b[0m         \u001b[0;31m# flatten data\u001b[0m\u001b[0;34m\u001b[0m\u001b[0;34m\u001b[0m\u001b[0;34m\u001b[0m\u001b[0m\n",
            "\u001b[0;32m/content/cloned_repo/gaze_predictor/base_network.py\u001b[0m in \u001b[0;36m_load_data\u001b[0;34m(self, input_file, output_file, flatten, subject_specific)\u001b[0m\n\u001b[1;32m     58\u001b[0m     \u001b[0;32mdef\u001b[0m \u001b[0m_load_data\u001b[0m\u001b[0;34m(\u001b[0m\u001b[0mself\u001b[0m\u001b[0;34m,\u001b[0m \u001b[0minput_file\u001b[0m\u001b[0;34m,\u001b[0m \u001b[0moutput_file\u001b[0m\u001b[0;34m,\u001b[0m \u001b[0mflatten\u001b[0m\u001b[0;34m=\u001b[0m\u001b[0;32mFalse\u001b[0m\u001b[0;34m,\u001b[0m \u001b[0msubject_specific\u001b[0m\u001b[0;34m=\u001b[0m\u001b[0;32mFalse\u001b[0m\u001b[0;34m)\u001b[0m\u001b[0;34m:\u001b[0m\u001b[0;34m\u001b[0m\u001b[0;34m\u001b[0m\u001b[0m\n\u001b[1;32m     59\u001b[0m \u001b[0;34m\u001b[0m\u001b[0m\n\u001b[0;32m---> 60\u001b[0;31m         \u001b[0mX\u001b[0m\u001b[0;34m,\u001b[0m \u001b[0my\u001b[0m \u001b[0;34m=\u001b[0m \u001b[0mself\u001b[0m\u001b[0;34m.\u001b[0m\u001b[0m_load_subject_data_and_concat\u001b[0m\u001b[0;34m(\u001b[0m\u001b[0minput_file\u001b[0m\u001b[0;34m,\u001b[0m \u001b[0moutput_file\u001b[0m\u001b[0;34m,\u001b[0m \u001b[0msubject_specific\u001b[0m\u001b[0;34m=\u001b[0m\u001b[0msubject_specific\u001b[0m\u001b[0;34m)\u001b[0m\u001b[0;34m\u001b[0m\u001b[0;34m\u001b[0m\u001b[0m\n\u001b[0m\u001b[1;32m     61\u001b[0m \u001b[0;34m\u001b[0m\u001b[0m\n\u001b[1;32m     62\u001b[0m         \u001b[0;32mif\u001b[0m \u001b[0mflatten\u001b[0m\u001b[0;34m:\u001b[0m\u001b[0;34m\u001b[0m\u001b[0;34m\u001b[0m\u001b[0m\n",
            "\u001b[0;32m/content/cloned_repo/gaze_predictor/base_network.py\u001b[0m in \u001b[0;36m_load_subject_data_and_concat\u001b[0;34m(self, input_file, output_file, subject_specific)\u001b[0m\n\u001b[1;32m     39\u001b[0m \u001b[0;34m\u001b[0m\u001b[0m\n\u001b[1;32m     40\u001b[0m             \u001b[0;31m# print(f'Loading from {input_path}...')\u001b[0m\u001b[0;34m\u001b[0m\u001b[0;34m\u001b[0m\u001b[0;34m\u001b[0m\u001b[0m\n\u001b[0;32m---> 41\u001b[0;31m             \u001b[0msubject_X\u001b[0m \u001b[0;34m=\u001b[0m \u001b[0mnp\u001b[0m\u001b[0;34m.\u001b[0m\u001b[0mload\u001b[0m\u001b[0;34m(\u001b[0m\u001b[0minput_path\u001b[0m\u001b[0;34m)\u001b[0m\u001b[0;34m[\u001b[0m\u001b[0;34m'arr_0'\u001b[0m\u001b[0;34m]\u001b[0m\u001b[0;34m\u001b[0m\u001b[0;34m\u001b[0m\u001b[0m\n\u001b[0m\u001b[1;32m     42\u001b[0m \u001b[0;34m\u001b[0m\u001b[0m\n\u001b[1;32m     43\u001b[0m             \u001b[0;31m# print(f'Loading from {output_path}...')\u001b[0m\u001b[0;34m\u001b[0m\u001b[0;34m\u001b[0m\u001b[0;34m\u001b[0m\u001b[0m\n",
            "\u001b[0;32m/usr/local/lib/python3.7/dist-packages/numpy/lib/npyio.py\u001b[0m in \u001b[0;36mload\u001b[0;34m(file, mmap_mode, allow_pickle, fix_imports, encoding)\u001b[0m\n\u001b[1;32m    415\u001b[0m             \u001b[0mown_fid\u001b[0m \u001b[0;34m=\u001b[0m \u001b[0;32mFalse\u001b[0m\u001b[0;34m\u001b[0m\u001b[0;34m\u001b[0m\u001b[0m\n\u001b[1;32m    416\u001b[0m         \u001b[0;32melse\u001b[0m\u001b[0;34m:\u001b[0m\u001b[0;34m\u001b[0m\u001b[0;34m\u001b[0m\u001b[0m\n\u001b[0;32m--> 417\u001b[0;31m             \u001b[0mfid\u001b[0m \u001b[0;34m=\u001b[0m \u001b[0mstack\u001b[0m\u001b[0;34m.\u001b[0m\u001b[0menter_context\u001b[0m\u001b[0;34m(\u001b[0m\u001b[0mopen\u001b[0m\u001b[0;34m(\u001b[0m\u001b[0mos_fspath\u001b[0m\u001b[0;34m(\u001b[0m\u001b[0mfile\u001b[0m\u001b[0;34m)\u001b[0m\u001b[0;34m,\u001b[0m \u001b[0;34m\"rb\"\u001b[0m\u001b[0;34m)\u001b[0m\u001b[0;34m)\u001b[0m\u001b[0;34m\u001b[0m\u001b[0;34m\u001b[0m\u001b[0m\n\u001b[0m\u001b[1;32m    418\u001b[0m             \u001b[0mown_fid\u001b[0m \u001b[0;34m=\u001b[0m \u001b[0;32mTrue\u001b[0m\u001b[0;34m\u001b[0m\u001b[0;34m\u001b[0m\u001b[0m\n\u001b[1;32m    419\u001b[0m \u001b[0;34m\u001b[0m\u001b[0m\n",
            "\u001b[0;31mFileNotFoundError\u001b[0m: [Errno 2] No such file or directory: '/content/cloned_repo/gaze_predictor/data/JO03SA/single_layer_fm_seq.npz'"
          ]
        }
      ]
    },
    {
      "cell_type": "markdown",
      "source": [
        "Train Model:"
      ],
      "metadata": {
        "id": "4YLtCym-oXZa"
      }
    },
    {
      "cell_type": "code",
      "source": [
        "lstm_nn.train()"
      ],
      "metadata": {
        "id": "iP9901-moX7Y"
      },
      "execution_count": null,
      "outputs": []
    },
    {
      "cell_type": "markdown",
      "source": [
        "Evaluate Model:"
      ],
      "metadata": {
        "id": "OW28E_bMofNG"
      }
    },
    {
      "cell_type": "code",
      "source": [
        "lstm_nn.evaluate()"
      ],
      "metadata": {
        "id": "f3Bqs_lAoZkr"
      },
      "execution_count": null,
      "outputs": []
    },
    {
      "cell_type": "markdown",
      "source": [
        "# Save Models"
      ],
      "metadata": {
        "id": "1zLvEF2WRT1W"
      }
    },
    {
      "cell_type": "code",
      "source": [
        "# fc_nn.save_model()\n",
        "# conv_nn.save_model()\n",
        "# conv_nn_3d.save_model()\n",
        "# fc_nn_dropout.save_model()\n",
        "# fc_nn_batch_norm.save_model()\n",
        "fc_nn_elu.save_model()"
      ],
      "metadata": {
        "id": "neGTmnJJzBCy"
      },
      "execution_count": null,
      "outputs": []
    },
    {
      "cell_type": "code",
      "source": [
        "!zip -r /content/file.zip /content\n",
        "from google.colab import files\n",
        "files.download(\"/content/file.zip\")"
      ],
      "metadata": {
        "id": "_HOpEI--Rezk"
      },
      "execution_count": null,
      "outputs": []
    },
    {
      "cell_type": "code",
      "source": [],
      "metadata": {
        "id": "sPK-Csv_T7Xk"
      },
      "execution_count": null,
      "outputs": []
    }
  ]
}