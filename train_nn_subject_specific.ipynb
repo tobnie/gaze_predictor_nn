{
  "nbformat": 4,
  "nbformat_minor": 0,
  "metadata": {
    "colab": {
      "provenance": [],
      "collapsed_sections": [],
      "authorship_tag": "ABX9TyM6m4Yg4QliJ9xceTdVzBMW",
      "include_colab_link": true
    },
    "kernelspec": {
      "name": "python3",
      "display_name": "Python 3"
    },
    "language_info": {
      "name": "python"
    },
    "accelerator": "GPU",
    "gpuClass": "premium"
  },
  "cells": [
    {
      "cell_type": "markdown",
      "metadata": {
        "id": "view-in-github",
        "colab_type": "text"
      },
      "source": [
        "<a href=\"https://colab.research.google.com/github/tobnie/gaze_predictor_nn/blob/main/train_nn_subject_specific.ipynb\" target=\"_parent\"><img src=\"https://colab.research.google.com/assets/colab-badge.svg\" alt=\"Open In Colab\"/></a>"
      ]
    },
    {
      "cell_type": "markdown",
      "source": [
        "## This notebook is the same as the other notebook, but all models are fitted only for the exemplary subject *AL09OL*"
      ],
      "metadata": {
        "id": "RLJusSbffQt7"
      }
    },
    {
      "cell_type": "markdown",
      "source": [
        "Load Package:\n"
      ],
      "metadata": {
        "id": "-GWZTKsPnuBh"
      }
    },
    {
      "cell_type": "code",
      "execution_count": null,
      "metadata": {
        "colab": {
          "base_uri": "https://localhost:8080/"
        },
        "id": "VtyLXlppgJDK",
        "outputId": "8ea56951-4bb9-4fa1-9807-538969af5da1"
      },
      "outputs": [
        {
          "output_type": "stream",
          "name": "stdout",
          "text": [
            "Cloning into 'cloned_repo'...\n",
            "warning: --local is ignored\n",
            "remote: Enumerating objects: 882, done.\u001b[K\n",
            "remote: Counting objects: 100% (84/84), done.\u001b[K\n",
            "remote: Compressing objects: 100% (70/70), done.\u001b[K\n",
            "remote: Total 882 (delta 27), reused 66 (delta 14), pack-reused 798\u001b[K\n",
            "Receiving objects: 100% (882/882), 146.87 MiB | 31.63 MiB/s, done.\n",
            "Resolving deltas: 100% (294/294), done.\n",
            "/content/cloned_repo/cloned_repo\n"
          ]
        }
      ],
      "source": [
        "!git clone -l -s https://github.com/tobnie/gaze_predictor_nn.git cloned_repo\n",
        "\n",
        "%cd cloned_repo"
      ]
    },
    {
      "cell_type": "markdown",
      "source": [
        "General Hyperparameters:"
      ],
      "metadata": {
        "id": "0Iv-fMf-0Ot5"
      }
    },
    {
      "cell_type": "code",
      "source": [
        "epochs = 100"
      ],
      "metadata": {
        "id": "nKvRpt5c0RgG"
      },
      "execution_count": null,
      "outputs": []
    },
    {
      "cell_type": "markdown",
      "source": [
        "# FC NN"
      ],
      "metadata": {
        "id": "MPswH58x9sgT"
      }
    },
    {
      "cell_type": "markdown",
      "source": [
        "Configuration for NN:"
      ],
      "metadata": {
        "id": "KRWBII5C9sgV"
      }
    },
    {
      "cell_type": "code",
      "source": [
        "from tensorflow import keras\n",
        "\n",
        "nn_configuration = {\n",
        "    'epochs': epochs,  # number of epochs\n",
        "    'batch_size': 32,  # size of the batch\n",
        "    'verbose': 1,  # set the training phase as verbose\n",
        "    'optimizer': keras.optimizers.Adam(clipvalue=1.0),  # optimizer\n",
        "    'metrics': [\"root_mean_squared_error\"],\n",
        "    'loss': 'mean_squared_error',  # loss\n",
        "    'val_split': 0.2,  # validation split: percentage of the training data used for evaluating the loss function\n",
        "    'n_input': 300,\n",
        "    'input_shape': (300,),\n",
        "    'n_output': 1  # number of outputs = mfd\n",
        "}"
      ],
      "metadata": {
        "id": "3SqFHZez9sgW"
      },
      "execution_count": null,
      "outputs": []
    },
    {
      "cell_type": "markdown",
      "source": [
        "Create Model:"
      ],
      "metadata": {
        "id": "pU86UTHw9sgX"
      }
    },
    {
      "cell_type": "code",
      "source": [
        "from gaze_predictor.fully_connected import FCNetwork\n",
        "\n",
        "fc_nn = FCNetwork(name='fc_nn', configuration = nn_configuration, subject_specific=True)\n",
        "fc_nn.create_model()"
      ],
      "metadata": {
        "colab": {
          "base_uri": "https://localhost:8080/"
        },
        "outputId": "95a24c1b-42d8-4121-e8a8-b822c8575d12",
        "id": "9tgBL_de9sgY"
      },
      "execution_count": null,
      "outputs": [
        {
          "output_type": "stream",
          "name": "stdout",
          "text": [
            "X shape: (73530, 300)\n",
            "Created model for fc_nn:\n",
            "Model: \"sequential\"\n",
            "_________________________________________________________________\n",
            " Layer (type)                Output Shape              Param #   \n",
            "=================================================================\n",
            " Input (Dense)               (None, 300)               90300     \n",
            "                                                                 \n",
            " Hidden1 (Dense)             (None, 512)               154112    \n",
            "                                                                 \n",
            " Hidden2 (Dense)             (None, 32)                16416     \n",
            "                                                                 \n",
            " Output (Dense)              (None, 1)                 33        \n",
            "                                                                 \n",
            "=================================================================\n",
            "Total params: 260,861\n",
            "Trainable params: 260,861\n",
            "Non-trainable params: 0\n",
            "_________________________________________________________________\n",
            "None\n"
          ]
        }
      ]
    },
    {
      "cell_type": "markdown",
      "source": [
        "Train Model:"
      ],
      "metadata": {
        "id": "K7JizBfy9sgZ"
      }
    },
    {
      "cell_type": "code",
      "source": [
        "fc_nn.train()"
      ],
      "metadata": {
        "colab": {
          "base_uri": "https://localhost:8080/"
        },
        "outputId": "c196e09e-925a-4daa-a162-630babcb95cc",
        "id": "G6jBzfed9sgZ"
      },
      "execution_count": null,
      "outputs": [
        {
          "output_type": "stream",
          "name": "stdout",
          "text": [
            "Epoch 1/100\n",
            "1471/1471 [==============================] - 8s 3ms/step - loss: 4.1119 - root_mean_squared_error: 2.0278 - val_loss: 3.9292 - val_root_mean_squared_error: 1.9822\n",
            "Epoch 2/100\n",
            "1471/1471 [==============================] - 4s 3ms/step - loss: 3.2571 - root_mean_squared_error: 1.8048 - val_loss: 3.3585 - val_root_mean_squared_error: 1.8326\n",
            "Epoch 3/100\n",
            " 700/1471 [=============>................] - ETA: 1s - loss: 2.7481 - root_mean_squared_error: 1.6577"
          ]
        }
      ]
    },
    {
      "cell_type": "markdown",
      "source": [
        "Evaluate Model:"
      ],
      "metadata": {
        "id": "h6qxDoW_9sga"
      }
    },
    {
      "cell_type": "code",
      "source": [
        "fc_nn.evaluate()"
      ],
      "metadata": {
        "id": "sdfpobkJ9sgb"
      },
      "execution_count": null,
      "outputs": []
    },
    {
      "cell_type": "markdown",
      "source": [
        "# ConvNet"
      ],
      "metadata": {
        "id": "AsReP-FUwi4S"
      }
    },
    {
      "cell_type": "markdown",
      "source": [
        "Configuration for NN:"
      ],
      "metadata": {
        "id": "lUMl1FDuwi4T"
      }
    },
    {
      "cell_type": "code",
      "source": [
        "from tensorflow import keras\n",
        "\n",
        "nn_configuration = {\n",
        "    'epochs': epochs,  # number of epochs\n",
        "    'batch_size': 32,  # size of the batch\n",
        "    'verbose': 1,  # set the training phase as verbose\n",
        "    'optimizer': keras.optimizers.Adam(clipvalue=1.0),  # optimizer\n",
        "    'metrics': [\"root_mean_squared_error\"],\n",
        "    'loss': 'mean_squared_error',  # loss\n",
        "    'val_split': 0.2,  # validation split: percentage of the training data used for evaluating the loss function\n",
        "    'input_shape': (15, 20, 1),\n",
        "    'n_output': 1  # number of outputs = x and y\n",
        "}"
      ],
      "metadata": {
        "id": "eTX1Qv7Zwi4U"
      },
      "execution_count": null,
      "outputs": []
    },
    {
      "cell_type": "markdown",
      "source": [
        "Create Model:"
      ],
      "metadata": {
        "id": "xqPbMowKwi4W"
      }
    },
    {
      "cell_type": "code",
      "source": [
        "from gaze_predictor.convolutional import ConvNetwork\n",
        "\n",
        "conv_nn = ConvNetwork(name='conv_nn', configuration = nn_configuration, subject_specific=True)\n",
        "conv_nn.create_model()"
      ],
      "metadata": {
        "id": "K3EVdyXXwi4X"
      },
      "execution_count": null,
      "outputs": []
    },
    {
      "cell_type": "markdown",
      "source": [
        "Train Model:"
      ],
      "metadata": {
        "id": "hG_QneIMwi4Z"
      }
    },
    {
      "cell_type": "code",
      "source": [
        "conv_nn.train()"
      ],
      "metadata": {
        "id": "8B4AeLThwi4a"
      },
      "execution_count": null,
      "outputs": []
    },
    {
      "cell_type": "markdown",
      "source": [
        "Evaluate Model:"
      ],
      "metadata": {
        "id": "Hzwv3tyFwi4a"
      }
    },
    {
      "cell_type": "code",
      "source": [
        "conv_nn.evaluate()"
      ],
      "metadata": {
        "id": "86SFueVowi4b"
      },
      "execution_count": null,
      "outputs": []
    },
    {
      "cell_type": "markdown",
      "source": [
        "# ConvNet 3D"
      ],
      "metadata": {
        "id": "WNTzRG_8w5KT"
      }
    },
    {
      "cell_type": "markdown",
      "source": [
        "Configuration for NN:"
      ],
      "metadata": {
        "id": "JUQp2vLMw5KV"
      }
    },
    {
      "cell_type": "code",
      "source": [
        "from tensorflow import keras\n",
        "\n",
        "nn_configuration = {\n",
        "    'epochs': epochs,  # number of epochs\n",
        "    'batch_size': 32,  # size of the batch\n",
        "    'verbose': 1,  # set the training phase as verbose\n",
        "    'optimizer': keras.optimizers.Adam(clipvalue=1.0),  # optimizer\n",
        "    'metrics': [\"root_mean_squared_error\"],\n",
        "    'loss': 'mean_squared_error',  # loss\n",
        "    'val_split': 0.2,  # validation split: percentage of the training data used for evaluating the loss function\n",
        "    'input_shape': (15, 20, 3),\n",
        "    'n_output': 1  # number of outputs = x and y\n",
        "}"
      ],
      "metadata": {
        "id": "pu7qCxIDw5KV"
      },
      "execution_count": null,
      "outputs": []
    },
    {
      "cell_type": "markdown",
      "source": [
        "Create Model:"
      ],
      "metadata": {
        "id": "yXKjvU3Kw5KW"
      }
    },
    {
      "cell_type": "code",
      "source": [
        "from gaze_predictor.convolutional_3d import ConvNetwork3D\n",
        "\n",
        "conv_nn_3d = ConvNetwork3D(name='conv_nn_3d', configuration = nn_configuration, subject_specific=True)\n",
        "conv_nn_3d.create_model()"
      ],
      "metadata": {
        "id": "5djRuFMqw5KX"
      },
      "execution_count": null,
      "outputs": []
    },
    {
      "cell_type": "markdown",
      "source": [
        "Train Model:"
      ],
      "metadata": {
        "id": "gN9EaLvbw5KY"
      }
    },
    {
      "cell_type": "code",
      "source": [
        "conv_nn_3d.train()"
      ],
      "metadata": {
        "id": "zYxqqA1Iw5KY"
      },
      "execution_count": null,
      "outputs": []
    },
    {
      "cell_type": "markdown",
      "source": [
        "Evaluate Model:"
      ],
      "metadata": {
        "id": "I0x5cYrow5KZ"
      }
    },
    {
      "cell_type": "code",
      "source": [
        "conv_nn_3d.evaluate()"
      ],
      "metadata": {
        "id": "hJQeDMAfw5KZ"
      },
      "execution_count": null,
      "outputs": []
    },
    {
      "cell_type": "markdown",
      "source": [
        "# Recurrent Network"
      ],
      "metadata": {
        "id": "sFDw7oRtwd7Z"
      }
    },
    {
      "cell_type": "markdown",
      "source": [
        "Configuration for NN:"
      ],
      "metadata": {
        "id": "wurGD-Vhnyw_"
      }
    },
    {
      "cell_type": "code",
      "source": [
        "from tensorflow import keras\n",
        "\n",
        "nn_configuration = {\n",
        "    'epochs': epochs,  # number of epochs\n",
        "    'batch_size': 32,  # size of the batch\n",
        "    'verbose': 1,  # set the training phase as verbose\n",
        "    'optimizer': keras.optimizers.Adam(clipvalue=1.0),  # optimizer\n",
        "    'metrics': [\"root_mean_squared_error\"],\n",
        "    'loss': 'mean_squared_error',  # loss\n",
        "    'val_split': 0.2,  # validation split: percentage of the training data used for evaluating the loss function\n",
        "    'n_input': 300,\n",
        "    'input_shape': (300,),\n",
        "    'n_output': 1  # number of outputs = mfd\n",
        "}"
      ],
      "metadata": {
        "id": "Giy0pZabnxeN"
      },
      "execution_count": null,
      "outputs": []
    },
    {
      "cell_type": "markdown",
      "source": [
        "Create Model:"
      ],
      "metadata": {
        "id": "5YyPlA_On3d7"
      }
    },
    {
      "cell_type": "code",
      "source": [
        "from gaze_predictor.recurrent_network import RecurrentNetwork\n",
        "\n",
        "lstm_nn = RecurrentNetwork(name='lstm_nn', configuration = nn_configuration, subject_specific=True)\n",
        "lstm_nn.create_model()"
      ],
      "metadata": {
        "id": "A_GFsr-7n06c"
      },
      "execution_count": null,
      "outputs": []
    },
    {
      "cell_type": "markdown",
      "source": [
        "Train Model:"
      ],
      "metadata": {
        "id": "4YLtCym-oXZa"
      }
    },
    {
      "cell_type": "code",
      "source": [
        "lstm_nn.train()"
      ],
      "metadata": {
        "id": "iP9901-moX7Y"
      },
      "execution_count": null,
      "outputs": []
    },
    {
      "cell_type": "markdown",
      "source": [
        "Evaluate Model:"
      ],
      "metadata": {
        "id": "OW28E_bMofNG"
      }
    },
    {
      "cell_type": "code",
      "source": [
        "lstm_nn.evaluate()"
      ],
      "metadata": {
        "id": "f3Bqs_lAoZkr"
      },
      "execution_count": null,
      "outputs": []
    },
    {
      "cell_type": "markdown",
      "source": [
        "# Save Models"
      ],
      "metadata": {
        "id": "1zLvEF2WRT1W"
      }
    },
    {
      "cell_type": "code",
      "source": [
        "# fc_nn.save_model()\n",
        "# conv_nn.save_model()\n",
        "# conv_nn_3d.save_model()\n",
        "# fc_nn_dropout.save_model()\n",
        "# fc_nn_batch_norm.save_model()\n",
        "fc_nn_elu.save_model()"
      ],
      "metadata": {
        "id": "neGTmnJJzBCy"
      },
      "execution_count": null,
      "outputs": []
    },
    {
      "cell_type": "code",
      "source": [
        "!zip -r /content/file.zip /content\n",
        "from google.colab import files\n",
        "files.download(\"/content/file.zip\")"
      ],
      "metadata": {
        "id": "_HOpEI--Rezk"
      },
      "execution_count": null,
      "outputs": []
    },
    {
      "cell_type": "code",
      "source": [],
      "metadata": {
        "id": "sPK-Csv_T7Xk"
      },
      "execution_count": null,
      "outputs": []
    }
  ]
}