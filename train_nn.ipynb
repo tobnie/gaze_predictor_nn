{
  "nbformat": 4,
  "nbformat_minor": 0,
  "metadata": {
    "colab": {
      "provenance": [],
      "collapsed_sections": [],
      "authorship_tag": "ABX9TyOzRt9Ip+cqI40UhE14JIsm",
      "include_colab_link": true
    },
    "kernelspec": {
      "name": "python3",
      "display_name": "Python 3"
    },
    "language_info": {
      "name": "python"
    }
  },
  "cells": [
    {
      "cell_type": "markdown",
      "metadata": {
        "id": "view-in-github",
        "colab_type": "text"
      },
      "source": [
        "<a href=\"https://colab.research.google.com/github/tobnie/gaze_predictor_nn/blob/main/train_nn.ipynb\" target=\"_parent\"><img src=\"https://colab.research.google.com/assets/colab-badge.svg\" alt=\"Open In Colab\"/></a>"
      ]
    },
    {
      "cell_type": "markdown",
      "source": [
        "Load Package:\n"
      ],
      "metadata": {
        "id": "-GWZTKsPnuBh"
      }
    },
    {
      "cell_type": "code",
      "execution_count": 1,
      "metadata": {
        "colab": {
          "base_uri": "https://localhost:8080/"
        },
        "id": "VtyLXlppgJDK",
        "outputId": "4a73264b-310a-460d-b888-5fdb92063028"
      },
      "outputs": [
        {
          "output_type": "stream",
          "name": "stdout",
          "text": [
            "Looking in indexes: https://pypi.org/simple, https://us-python.pkg.dev/colab-wheels/public/simple/\n",
            "Collecting git+https://github.com/tobnie/gaze_predictor_nn.git\n",
            "  Cloning https://github.com/tobnie/gaze_predictor_nn.git to /tmp/pip-req-build-7o5mi0li\n",
            "  Running command git clone -q https://github.com/tobnie/gaze_predictor_nn.git /tmp/pip-req-build-7o5mi0li\n",
            "Building wheels for collected packages: gaze-predictor\n",
            "  Building wheel for gaze-predictor (setup.py) ... \u001b[?25l\u001b[?25hdone\n",
            "  Created wheel for gaze-predictor: filename=gaze_predictor-1.0-py3-none-any.whl size=7008019 sha256=6bc491127846330e265c5c1322bba05c7cc21c43b8cf6fcf0a21e62b874eeb72\n",
            "  Stored in directory: /tmp/pip-ephem-wheel-cache-njqnlqj4/wheels/fb/60/2c/eca224cb9d23d9b8f6e38fe609cdc3286e1c6b614ecbd2d007\n",
            "Successfully built gaze-predictor\n",
            "Installing collected packages: gaze-predictor\n",
            "Successfully installed gaze-predictor-1.0\n"
          ]
        }
      ],
      "source": [
        "!pip install git+https://github.com/tobnie/gaze_predictor_nn.git\n",
        "\n",
        "import gaze_predictor"
      ]
    },
    {
      "cell_type": "markdown",
      "source": [
        "General Hyperparameters:"
      ],
      "metadata": {
        "id": "0Iv-fMf-0Ot5"
      }
    },
    {
      "cell_type": "code",
      "source": [
        "epochs = 100"
      ],
      "metadata": {
        "id": "nKvRpt5c0RgG"
      },
      "execution_count": 2,
      "outputs": []
    },
    {
      "cell_type": "markdown",
      "source": [
        "# RBF Network"
      ],
      "metadata": {
        "id": "sFDw7oRtwd7Z"
      }
    },
    {
      "cell_type": "markdown",
      "source": [
        "Configuration for NN:"
      ],
      "metadata": {
        "id": "wurGD-Vhnyw_"
      }
    },
    {
      "cell_type": "code",
      "source": [
        "from tensorflow import keras\n",
        "\n",
        "nn_configuration = {\n",
        "    'epochs': epochs,  # number of epochs\n",
        "    'batch_size': 32,  # size of the batch\n",
        "    'verbose': 1,  # set the training phase as verbose\n",
        "    'optimizer': keras.optimizers.Adam(clipvalue=1.0),  # optimizer\n",
        "    'metrics': [\"root_mean_squared_error\"],\n",
        "    'loss': 'mean_squared_error',  # loss\n",
        "    'val_split': 0.2,  # validation split: percentage of the training data used for evaluating the loss function\n",
        "    'n_input': 300,\n",
        "    'input_shape': (300,),\n",
        "    'n_output': 1  # number of outputs = mfd\n",
        "}"
      ],
      "metadata": {
        "id": "Giy0pZabnxeN"
      },
      "execution_count": 3,
      "outputs": []
    },
    {
      "cell_type": "markdown",
      "source": [
        "Create Model:"
      ],
      "metadata": {
        "id": "5YyPlA_On3d7"
      }
    },
    {
      "cell_type": "code",
      "source": [
        "from gaze_predictor.gaze_predictor.rbf_network import RBFNetwork\n",
        "\n",
        "rbf_nn = gaze_predictor.gaze_predictor.rbf_network.RBFNetwork(name='rbf_nn', configuration = nn_configuration)\n",
        "rbf_nn.create_model()"
      ],
      "metadata": {
        "colab": {
          "base_uri": "https://localhost:8080/"
        },
        "id": "A_GFsr-7n06c",
        "outputId": "c3ba5070-abe8-484a-d1a6-f77c0492896b"
      },
      "execution_count": 4,
      "outputs": [
        {
          "output_type": "stream",
          "name": "stdout",
          "text": [
            "Created model for rbf_nn:\n",
            "Model: \"sequential\"\n",
            "_________________________________________________________________\n",
            " Layer (type)                Output Shape              Param #   \n",
            "=================================================================\n",
            " Input (Dense)               (None, 300)               90300     \n",
            "                                                                 \n",
            " rbf_layer (RBFLayer)        (None, 32)                9600      \n",
            "                                                                 \n",
            " Output (Dense)              (None, 1)                 33        \n",
            "                                                                 \n",
            "=================================================================\n",
            "Total params: 99,933\n",
            "Trainable params: 99,933\n",
            "Non-trainable params: 0\n",
            "_________________________________________________________________\n",
            "None\n"
          ]
        }
      ]
    },
    {
      "cell_type": "markdown",
      "source": [
        "Train Model:"
      ],
      "metadata": {
        "id": "4YLtCym-oXZa"
      }
    },
    {
      "cell_type": "code",
      "source": [
        "rbf_nn.train()"
      ],
      "metadata": {
        "colab": {
          "base_uri": "https://localhost:8080/"
        },
        "id": "iP9901-moX7Y",
        "outputId": "617898b4-546f-46b8-cd90-85fe166df018"
      },
      "execution_count": null,
      "outputs": [
        {
          "output_type": "stream",
          "name": "stdout",
          "text": [
            "Epoch 1/100\n",
            "1487/1487 [==============================] - 12s 7ms/step - loss: 9.6192 - root_mean_squared_error: 3.1015 - val_loss: 6.9921 - val_root_mean_squared_error: 2.6443\n",
            "Epoch 2/100\n",
            "1487/1487 [==============================] - 9s 6ms/step - loss: 5.4321 - root_mean_squared_error: 2.3307 - val_loss: 5.0314 - val_root_mean_squared_error: 2.2431\n",
            "Epoch 3/100\n",
            "1487/1487 [==============================] - 7s 5ms/step - loss: 4.7714 - root_mean_squared_error: 2.1844 - val_loss: 4.9813 - val_root_mean_squared_error: 2.2319\n",
            "Epoch 4/100\n",
            "1487/1487 [==============================] - 7s 5ms/step - loss: 4.7622 - root_mean_squared_error: 2.1822 - val_loss: 4.9818 - val_root_mean_squared_error: 2.2320\n",
            "Epoch 5/100\n",
            "1487/1487 [==============================] - 7s 5ms/step - loss: 4.7625 - root_mean_squared_error: 2.1823 - val_loss: 4.9809 - val_root_mean_squared_error: 2.2318\n",
            "Epoch 6/100\n",
            "1487/1487 [==============================] - 7s 5ms/step - loss: 4.7623 - root_mean_squared_error: 2.1823 - val_loss: 4.9813 - val_root_mean_squared_error: 2.2319\n",
            "Epoch 7/100\n",
            "1487/1487 [==============================] - 7s 5ms/step - loss: 4.7621 - root_mean_squared_error: 2.1822 - val_loss: 4.9813 - val_root_mean_squared_error: 2.2319\n",
            "Epoch 8/100\n",
            "1487/1487 [==============================] - 7s 5ms/step - loss: 4.7625 - root_mean_squared_error: 2.1823 - val_loss: 4.9810 - val_root_mean_squared_error: 2.2318\n",
            "Epoch 9/100\n",
            "1487/1487 [==============================] - 7s 4ms/step - loss: 4.7623 - root_mean_squared_error: 2.1823 - val_loss: 4.9807 - val_root_mean_squared_error: 2.2317\n",
            "Epoch 10/100\n",
            "1487/1487 [==============================] - 8s 5ms/step - loss: 4.7621 - root_mean_squared_error: 2.1822 - val_loss: 4.9819 - val_root_mean_squared_error: 2.2320\n",
            "Epoch 11/100\n",
            "1487/1487 [==============================] - 8s 5ms/step - loss: 4.7623 - root_mean_squared_error: 2.1823 - val_loss: 4.9808 - val_root_mean_squared_error: 2.2318\n",
            "Epoch 12/100\n",
            "1487/1487 [==============================] - 8s 5ms/step - loss: 4.7618 - root_mean_squared_error: 2.1822 - val_loss: 4.9821 - val_root_mean_squared_error: 2.2321\n",
            "Epoch 13/100\n",
            "1487/1487 [==============================] - 9s 6ms/step - loss: 4.7624 - root_mean_squared_error: 2.1823 - val_loss: 4.9809 - val_root_mean_squared_error: 2.2318\n",
            "Epoch 14/100\n",
            "1487/1487 [==============================] - 8s 6ms/step - loss: 4.7622 - root_mean_squared_error: 2.1822 - val_loss: 4.9815 - val_root_mean_squared_error: 2.2319\n",
            "Epoch 15/100\n",
            "1487/1487 [==============================] - 8s 5ms/step - loss: 4.7624 - root_mean_squared_error: 2.1823 - val_loss: 4.9807 - val_root_mean_squared_error: 2.2318\n",
            "Epoch 16/100\n",
            "1487/1487 [==============================] - 8s 6ms/step - loss: 4.7618 - root_mean_squared_error: 2.1822 - val_loss: 4.9825 - val_root_mean_squared_error: 2.2322\n",
            "Epoch 17/100\n",
            "1487/1487 [==============================] - 8s 6ms/step - loss: 4.7624 - root_mean_squared_error: 2.1823 - val_loss: 4.9811 - val_root_mean_squared_error: 2.2318\n",
            "Epoch 18/100\n",
            "1487/1487 [==============================] - 8s 6ms/step - loss: 4.7622 - root_mean_squared_error: 2.1822 - val_loss: 4.9809 - val_root_mean_squared_error: 2.2318\n",
            "Epoch 19/100\n",
            " 806/1487 [===============>..............] - ETA: 3s - loss: 4.7189 - root_mean_squared_error: 2.1723"
          ]
        }
      ]
    },
    {
      "cell_type": "markdown",
      "source": [
        "Evaluate Model:"
      ],
      "metadata": {
        "id": "OW28E_bMofNG"
      }
    },
    {
      "cell_type": "code",
      "source": [
        "rbf_nn.evaluate()"
      ],
      "metadata": {
        "id": "f3Bqs_lAoZkr"
      },
      "execution_count": null,
      "outputs": []
    },
    {
      "cell_type": "markdown",
      "source": [
        "# FC NN"
      ],
      "metadata": {
        "id": "MPswH58x9sgT"
      }
    },
    {
      "cell_type": "markdown",
      "source": [
        "Configuration for NN:"
      ],
      "metadata": {
        "id": "KRWBII5C9sgV"
      }
    },
    {
      "cell_type": "code",
      "source": [
        "from tensorflow import keras\n",
        "\n",
        "nn_configuration = {\n",
        "    'epochs': epochs,  # number of epochs\n",
        "    'batch_size': 32,  # size of the batch\n",
        "    'verbose': 1,  # set the training phase as verbose\n",
        "    'optimizer': keras.optimizers.Adam(clipvalue=1.0),  # optimizer\n",
        "    'metrics': [\"root_mean_squared_error\"],\n",
        "    'loss': 'mean_squared_error',  # loss\n",
        "    'val_split': 0.2,  # validation split: percentage of the training data used for evaluating the loss function\n",
        "    'n_input': 300,\n",
        "    'input_shape': (300,),\n",
        "    'n_output': 1  # number of outputs = mfd\n",
        "}"
      ],
      "metadata": {
        "id": "3SqFHZez9sgW"
      },
      "execution_count": null,
      "outputs": []
    },
    {
      "cell_type": "markdown",
      "source": [
        "Create Model:"
      ],
      "metadata": {
        "id": "pU86UTHw9sgX"
      }
    },
    {
      "cell_type": "code",
      "source": [
        "from gaze_predictor.gaze_predictor.fully_connected import FCNetwork\n",
        "\n",
        "fc_nn = gaze_predictor.gaze_predictor.fully_connected.FCNetwork(name='fc_nn', configuration = nn_configuration)\n",
        "fc_nn.create_model()"
      ],
      "metadata": {
        "colab": {
          "base_uri": "https://localhost:8080/"
        },
        "outputId": "f2123e04-5340-4d54-bf15-ab841a543c75",
        "id": "9tgBL_de9sgY"
      },
      "execution_count": null,
      "outputs": [
        {
          "output_type": "stream",
          "name": "stdout",
          "text": [
            "Created model for fc_nn:\n",
            "Model: \"sequential\"\n",
            "_________________________________________________________________\n",
            " Layer (type)                Output Shape              Param #   \n",
            "=================================================================\n",
            " Input (Dense)               (None, 300)               90300     \n",
            "                                                                 \n",
            " Hidden1 (Dense)             (None, 256)               77056     \n",
            "                                                                 \n",
            " Hidden2 (Dense)             (None, 16)                4112      \n",
            "                                                                 \n",
            " Output (Dense)              (None, 1)                 17        \n",
            "                                                                 \n",
            "=================================================================\n",
            "Total params: 171,485\n",
            "Trainable params: 171,485\n",
            "Non-trainable params: 0\n",
            "_________________________________________________________________\n",
            "None\n"
          ]
        }
      ]
    },
    {
      "cell_type": "markdown",
      "source": [
        "Train Model:"
      ],
      "metadata": {
        "id": "K7JizBfy9sgZ"
      }
    },
    {
      "cell_type": "code",
      "source": [
        "fc_nn.train()"
      ],
      "metadata": {
        "colab": {
          "base_uri": "https://localhost:8080/"
        },
        "outputId": "edeb8767-89a3-4caf-b4e3-cf310046959a",
        "id": "G6jBzfed9sgZ"
      },
      "execution_count": null,
      "outputs": [
        {
          "output_type": "stream",
          "name": "stdout",
          "text": [
            "Epoch 1/100\n",
            "1487/1487 [==============================] - 10s 6ms/step - loss: 4.6573 - root_mean_squared_error: 2.1581 - val_loss: 4.5542 - val_root_mean_squared_error: 2.1341\n",
            "Epoch 2/100\n",
            "1487/1487 [==============================] - 11s 7ms/step - loss: 4.1746 - root_mean_squared_error: 2.0432 - val_loss: 4.2964 - val_root_mean_squared_error: 2.0728\n",
            "Epoch 3/100\n",
            "1487/1487 [==============================] - 6s 4ms/step - loss: 3.7646 - root_mean_squared_error: 1.9403 - val_loss: 3.9197 - val_root_mean_squared_error: 1.9798\n",
            "Epoch 4/100\n",
            "1487/1487 [==============================] - 6s 4ms/step - loss: 3.3827 - root_mean_squared_error: 1.8392 - val_loss: 3.6120 - val_root_mean_squared_error: 1.9005\n",
            "Epoch 5/100\n",
            "1487/1487 [==============================] - 6s 4ms/step - loss: 3.0446 - root_mean_squared_error: 1.7449 - val_loss: 3.2251 - val_root_mean_squared_error: 1.7959\n",
            "Epoch 6/100\n",
            "1487/1487 [==============================] - 6s 4ms/step - loss: 2.7539 - root_mean_squared_error: 1.6595 - val_loss: 3.4391 - val_root_mean_squared_error: 1.8545\n",
            "Epoch 7/100\n",
            "1487/1487 [==============================] - 6s 4ms/step - loss: 2.5376 - root_mean_squared_error: 1.5930 - val_loss: 2.9961 - val_root_mean_squared_error: 1.7309\n",
            "Epoch 8/100\n",
            "1487/1487 [==============================] - 7s 5ms/step - loss: 2.2978 - root_mean_squared_error: 1.5159 - val_loss: 2.8951 - val_root_mean_squared_error: 1.7015\n",
            "Epoch 9/100\n",
            "1487/1487 [==============================] - 6s 4ms/step - loss: 2.1114 - root_mean_squared_error: 1.4531 - val_loss: 2.5580 - val_root_mean_squared_error: 1.5994\n",
            "Epoch 10/100\n",
            "1487/1487 [==============================] - 6s 4ms/step - loss: 1.9589 - root_mean_squared_error: 1.3996 - val_loss: 2.6081 - val_root_mean_squared_error: 1.6150\n",
            "Epoch 11/100\n",
            "1487/1487 [==============================] - 6s 4ms/step - loss: 1.8622 - root_mean_squared_error: 1.3646 - val_loss: 2.3686 - val_root_mean_squared_error: 1.5390\n",
            "Epoch 12/100\n",
            "1487/1487 [==============================] - 6s 4ms/step - loss: 1.7516 - root_mean_squared_error: 1.3235 - val_loss: 2.1670 - val_root_mean_squared_error: 1.4721\n",
            "Epoch 13/100\n",
            "1487/1487 [==============================] - 6s 4ms/step - loss: 1.6818 - root_mean_squared_error: 1.2968 - val_loss: 2.4271 - val_root_mean_squared_error: 1.5579\n",
            "Epoch 14/100\n",
            "1487/1487 [==============================] - 6s 4ms/step - loss: 1.6270 - root_mean_squared_error: 1.2755 - val_loss: 2.1943 - val_root_mean_squared_error: 1.4813\n",
            "Epoch 15/100\n",
            "1487/1487 [==============================] - 7s 5ms/step - loss: 1.5092 - root_mean_squared_error: 1.2285 - val_loss: 2.0380 - val_root_mean_squared_error: 1.4276\n",
            "Epoch 16/100\n",
            "1487/1487 [==============================] - 6s 4ms/step - loss: 1.5011 - root_mean_squared_error: 1.2252 - val_loss: 2.1137 - val_root_mean_squared_error: 1.4539\n",
            "Epoch 17/100\n",
            "1487/1487 [==============================] - 6s 4ms/step - loss: 1.4626 - root_mean_squared_error: 1.2094 - val_loss: 2.2621 - val_root_mean_squared_error: 1.5040\n",
            "Epoch 18/100\n",
            "1487/1487 [==============================] - 6s 4ms/step - loss: 1.4193 - root_mean_squared_error: 1.1913 - val_loss: 2.0196 - val_root_mean_squared_error: 1.4211\n",
            "Epoch 19/100\n",
            "1487/1487 [==============================] - 6s 4ms/step - loss: 1.3311 - root_mean_squared_error: 1.1537 - val_loss: 2.0926 - val_root_mean_squared_error: 1.4466\n",
            "Epoch 20/100\n",
            "1487/1487 [==============================] - 6s 4ms/step - loss: 1.3300 - root_mean_squared_error: 1.1533 - val_loss: 2.0512 - val_root_mean_squared_error: 1.4322\n",
            "Epoch 21/100\n",
            "1487/1487 [==============================] - 6s 4ms/step - loss: 1.2827 - root_mean_squared_error: 1.1326 - val_loss: 1.9394 - val_root_mean_squared_error: 1.3926\n",
            "Epoch 22/100\n",
            "1487/1487 [==============================] - 6s 4ms/step - loss: 1.2465 - root_mean_squared_error: 1.1165 - val_loss: 1.9892 - val_root_mean_squared_error: 1.4104\n",
            "Epoch 23/100\n",
            "1487/1487 [==============================] - 6s 4ms/step - loss: 1.2570 - root_mean_squared_error: 1.1212 - val_loss: 1.9589 - val_root_mean_squared_error: 1.3996\n",
            "Epoch 24/100\n",
            "1487/1487 [==============================] - 6s 4ms/step - loss: 1.1908 - root_mean_squared_error: 1.0912 - val_loss: 1.8519 - val_root_mean_squared_error: 1.3608\n",
            "Epoch 25/100\n",
            "1487/1487 [==============================] - 6s 4ms/step - loss: 1.1916 - root_mean_squared_error: 1.0916 - val_loss: 1.8430 - val_root_mean_squared_error: 1.3576\n",
            "Epoch 26/100\n",
            "1487/1487 [==============================] - 6s 4ms/step - loss: 1.1836 - root_mean_squared_error: 1.0879 - val_loss: 1.9935 - val_root_mean_squared_error: 1.4119\n",
            "Epoch 27/100\n",
            "1487/1487 [==============================] - 7s 5ms/step - loss: 1.1386 - root_mean_squared_error: 1.0670 - val_loss: 1.8171 - val_root_mean_squared_error: 1.3480\n",
            "Epoch 28/100\n",
            "1487/1487 [==============================] - 6s 4ms/step - loss: 1.0968 - root_mean_squared_error: 1.0473 - val_loss: 1.8002 - val_root_mean_squared_error: 1.3417\n",
            "Epoch 29/100\n",
            "1487/1487 [==============================] - 6s 4ms/step - loss: 1.1032 - root_mean_squared_error: 1.0503 - val_loss: 1.9369 - val_root_mean_squared_error: 1.3917\n",
            "Epoch 30/100\n",
            "1487/1487 [==============================] - 6s 4ms/step - loss: 1.1034 - root_mean_squared_error: 1.0504 - val_loss: 1.8001 - val_root_mean_squared_error: 1.3417\n",
            "Epoch 31/100\n",
            "1487/1487 [==============================] - 6s 4ms/step - loss: 1.0283 - root_mean_squared_error: 1.0140 - val_loss: 1.9635 - val_root_mean_squared_error: 1.4012\n",
            "Epoch 32/100\n",
            "1487/1487 [==============================] - 6s 4ms/step - loss: 1.0526 - root_mean_squared_error: 1.0259 - val_loss: 1.8050 - val_root_mean_squared_error: 1.3435\n",
            "Epoch 33/100\n",
            "1487/1487 [==============================] - 6s 4ms/step - loss: 1.0221 - root_mean_squared_error: 1.0110 - val_loss: 1.9364 - val_root_mean_squared_error: 1.3915\n",
            "Epoch 34/100\n",
            "1487/1487 [==============================] - 6s 4ms/step - loss: 1.0123 - root_mean_squared_error: 1.0062 - val_loss: 1.8046 - val_root_mean_squared_error: 1.3434\n",
            "Epoch 35/100\n",
            "1487/1487 [==============================] - 6s 4ms/step - loss: 0.9924 - root_mean_squared_error: 0.9962 - val_loss: 1.7957 - val_root_mean_squared_error: 1.3401\n",
            "Epoch 36/100\n",
            "1487/1487 [==============================] - 6s 4ms/step - loss: 0.9909 - root_mean_squared_error: 0.9954 - val_loss: 1.5998 - val_root_mean_squared_error: 1.2648\n",
            "Epoch 37/100\n",
            "1487/1487 [==============================] - 6s 4ms/step - loss: 0.9699 - root_mean_squared_error: 0.9848 - val_loss: 1.8380 - val_root_mean_squared_error: 1.3557\n",
            "Epoch 38/100\n",
            "1487/1487 [==============================] - 6s 4ms/step - loss: 0.9492 - root_mean_squared_error: 0.9743 - val_loss: 1.7225 - val_root_mean_squared_error: 1.3124\n",
            "Epoch 39/100\n",
            "1487/1487 [==============================] - 6s 4ms/step - loss: 0.9451 - root_mean_squared_error: 0.9722 - val_loss: 1.7151 - val_root_mean_squared_error: 1.3096\n",
            "Epoch 40/100\n",
            "1487/1487 [==============================] - 6s 4ms/step - loss: 0.9180 - root_mean_squared_error: 0.9581 - val_loss: 1.7340 - val_root_mean_squared_error: 1.3168\n",
            "Epoch 41/100\n",
            "1487/1487 [==============================] - 6s 4ms/step - loss: 0.9407 - root_mean_squared_error: 0.9699 - val_loss: 1.7044 - val_root_mean_squared_error: 1.3055\n",
            "Epoch 42/100\n",
            "1487/1487 [==============================] - 6s 4ms/step - loss: 0.9059 - root_mean_squared_error: 0.9518 - val_loss: 1.6575 - val_root_mean_squared_error: 1.2875\n",
            "Epoch 43/100\n",
            "1487/1487 [==============================] - 6s 4ms/step - loss: 0.8951 - root_mean_squared_error: 0.9461 - val_loss: 1.7741 - val_root_mean_squared_error: 1.3319\n",
            "Epoch 44/100\n",
            "1487/1487 [==============================] - 6s 4ms/step - loss: 0.9148 - root_mean_squared_error: 0.9564 - val_loss: 1.9086 - val_root_mean_squared_error: 1.3815\n",
            "Epoch 45/100\n",
            "1487/1487 [==============================] - 6s 4ms/step - loss: 0.8882 - root_mean_squared_error: 0.9425 - val_loss: 1.7747 - val_root_mean_squared_error: 1.3322\n",
            "Epoch 46/100\n",
            "1487/1487 [==============================] - 6s 4ms/step - loss: 0.8713 - root_mean_squared_error: 0.9334 - val_loss: 1.7024 - val_root_mean_squared_error: 1.3048\n",
            "Epoch 47/100\n",
            "1487/1487 [==============================] - 6s 4ms/step - loss: 0.8631 - root_mean_squared_error: 0.9290 - val_loss: 1.7037 - val_root_mean_squared_error: 1.3052\n",
            "Epoch 48/100\n",
            "1487/1487 [==============================] - 6s 4ms/step - loss: 0.8781 - root_mean_squared_error: 0.9371 - val_loss: 1.6461 - val_root_mean_squared_error: 1.2830\n",
            "Epoch 49/100\n",
            "1487/1487 [==============================] - 6s 4ms/step - loss: 0.8759 - root_mean_squared_error: 0.9359 - val_loss: 1.7773 - val_root_mean_squared_error: 1.3331\n",
            "Epoch 50/100\n",
            "1487/1487 [==============================] - 6s 4ms/step - loss: 0.8425 - root_mean_squared_error: 0.9179 - val_loss: 1.9567 - val_root_mean_squared_error: 1.3988\n",
            "Epoch 51/100\n",
            "1487/1487 [==============================] - 6s 4ms/step - loss: 0.8394 - root_mean_squared_error: 0.9162 - val_loss: 1.6876 - val_root_mean_squared_error: 1.2991\n",
            "Epoch 52/100\n",
            "1487/1487 [==============================] - 6s 4ms/step - loss: 0.8357 - root_mean_squared_error: 0.9142 - val_loss: 1.6784 - val_root_mean_squared_error: 1.2955\n",
            "Epoch 53/100\n",
            "1487/1487 [==============================] - 6s 4ms/step - loss: 0.8255 - root_mean_squared_error: 0.9086 - val_loss: 1.7185 - val_root_mean_squared_error: 1.3109\n",
            "Epoch 54/100\n",
            "1487/1487 [==============================] - 6s 4ms/step - loss: 0.8223 - root_mean_squared_error: 0.9068 - val_loss: 1.5646 - val_root_mean_squared_error: 1.2508\n",
            "Epoch 55/100\n",
            "1487/1487 [==============================] - 6s 4ms/step - loss: 0.8124 - root_mean_squared_error: 0.9014 - val_loss: 1.7406 - val_root_mean_squared_error: 1.3193\n",
            "Epoch 56/100\n",
            "1487/1487 [==============================] - 6s 4ms/step - loss: 0.8001 - root_mean_squared_error: 0.8945 - val_loss: 1.6539 - val_root_mean_squared_error: 1.2860\n",
            "Epoch 57/100\n",
            "1487/1487 [==============================] - 6s 4ms/step - loss: 0.7946 - root_mean_squared_error: 0.8914 - val_loss: 1.6927 - val_root_mean_squared_error: 1.3010\n",
            "Epoch 58/100\n",
            "1487/1487 [==============================] - 6s 4ms/step - loss: 0.8040 - root_mean_squared_error: 0.8967 - val_loss: 1.6377 - val_root_mean_squared_error: 1.2797\n",
            "Epoch 59/100\n",
            "1487/1487 [==============================] - 6s 4ms/step - loss: 0.7945 - root_mean_squared_error: 0.8914 - val_loss: 1.7058 - val_root_mean_squared_error: 1.3061\n",
            "Epoch 60/100\n",
            "1487/1487 [==============================] - 6s 4ms/step - loss: 0.7957 - root_mean_squared_error: 0.8920 - val_loss: 1.6365 - val_root_mean_squared_error: 1.2792\n",
            "Epoch 61/100\n",
            "1487/1487 [==============================] - 6s 4ms/step - loss: 0.7711 - root_mean_squared_error: 0.8781 - val_loss: 1.6460 - val_root_mean_squared_error: 1.2830\n",
            "Epoch 62/100\n",
            "1487/1487 [==============================] - 6s 4ms/step - loss: 0.7585 - root_mean_squared_error: 0.8709 - val_loss: 1.7362 - val_root_mean_squared_error: 1.3176\n",
            "Epoch 63/100\n",
            "1487/1487 [==============================] - 7s 5ms/step - loss: 0.7794 - root_mean_squared_error: 0.8828 - val_loss: 1.7373 - val_root_mean_squared_error: 1.3181\n",
            "Epoch 64/100\n",
            "1487/1487 [==============================] - 6s 4ms/step - loss: 0.7865 - root_mean_squared_error: 0.8868 - val_loss: 1.7218 - val_root_mean_squared_error: 1.3122\n",
            "Epoch 65/100\n",
            "1487/1487 [==============================] - 6s 4ms/step - loss: 0.7478 - root_mean_squared_error: 0.8648 - val_loss: 1.6516 - val_root_mean_squared_error: 1.2851\n",
            "Epoch 66/100\n",
            "1487/1487 [==============================] - 6s 4ms/step - loss: 0.7497 - root_mean_squared_error: 0.8659 - val_loss: 1.6910 - val_root_mean_squared_error: 1.3004\n",
            "Epoch 67/100\n",
            "1487/1487 [==============================] - 6s 4ms/step - loss: 0.7782 - root_mean_squared_error: 0.8822 - val_loss: 1.6913 - val_root_mean_squared_error: 1.3005\n",
            "Epoch 68/100\n",
            "1487/1487 [==============================] - 6s 4ms/step - loss: 0.7331 - root_mean_squared_error: 0.8562 - val_loss: 1.8958 - val_root_mean_squared_error: 1.3769\n",
            "Epoch 69/100\n",
            "1487/1487 [==============================] - 6s 4ms/step - loss: 0.7355 - root_mean_squared_error: 0.8576 - val_loss: 1.6834 - val_root_mean_squared_error: 1.2975\n",
            "Epoch 70/100\n",
            "1487/1487 [==============================] - 6s 4ms/step - loss: 0.7466 - root_mean_squared_error: 0.8640 - val_loss: 1.5998 - val_root_mean_squared_error: 1.2648\n",
            "Epoch 71/100\n",
            "1487/1487 [==============================] - 6s 4ms/step - loss: 0.7292 - root_mean_squared_error: 0.8539 - val_loss: 1.7308 - val_root_mean_squared_error: 1.3156\n",
            "Epoch 72/100\n",
            "1487/1487 [==============================] - 6s 4ms/step - loss: 0.7367 - root_mean_squared_error: 0.8583 - val_loss: 1.8581 - val_root_mean_squared_error: 1.3631\n",
            "Epoch 73/100\n",
            "1487/1487 [==============================] - 6s 4ms/step - loss: 0.7392 - root_mean_squared_error: 0.8598 - val_loss: 1.5677 - val_root_mean_squared_error: 1.2521\n",
            "Epoch 74/100\n",
            "1487/1487 [==============================] - 6s 4ms/step - loss: 0.7136 - root_mean_squared_error: 0.8448 - val_loss: 1.6765 - val_root_mean_squared_error: 1.2948\n",
            "Epoch 75/100\n",
            "1487/1487 [==============================] - 6s 4ms/step - loss: 0.7078 - root_mean_squared_error: 0.8413 - val_loss: 1.6299 - val_root_mean_squared_error: 1.2767\n",
            "Epoch 76/100\n",
            "1487/1487 [==============================] - 6s 4ms/step - loss: 0.7121 - root_mean_squared_error: 0.8438 - val_loss: 1.6135 - val_root_mean_squared_error: 1.2702\n",
            "Epoch 77/100\n",
            "1487/1487 [==============================] - 6s 4ms/step - loss: 0.7102 - root_mean_squared_error: 0.8428 - val_loss: 1.6136 - val_root_mean_squared_error: 1.2703\n",
            "Epoch 78/100\n",
            "1487/1487 [==============================] - 6s 4ms/step - loss: 0.7110 - root_mean_squared_error: 0.8432 - val_loss: 1.5644 - val_root_mean_squared_error: 1.2507\n",
            "Epoch 79/100\n",
            "1487/1487 [==============================] - 6s 4ms/step - loss: 0.7096 - root_mean_squared_error: 0.8424 - val_loss: 1.5982 - val_root_mean_squared_error: 1.2642\n",
            "Epoch 80/100\n",
            "1487/1487 [==============================] - 6s 4ms/step - loss: 0.7092 - root_mean_squared_error: 0.8422 - val_loss: 1.6994 - val_root_mean_squared_error: 1.3036\n",
            "Epoch 81/100\n",
            "1487/1487 [==============================] - 6s 4ms/step - loss: 0.7046 - root_mean_squared_error: 0.8394 - val_loss: 1.6695 - val_root_mean_squared_error: 1.2921\n",
            "Epoch 82/100\n",
            "1487/1487 [==============================] - 6s 4ms/step - loss: 0.6822 - root_mean_squared_error: 0.8259 - val_loss: 1.6683 - val_root_mean_squared_error: 1.2916\n",
            "Epoch 83/100\n",
            "1487/1487 [==============================] - 6s 4ms/step - loss: 0.6991 - root_mean_squared_error: 0.8361 - val_loss: 1.7937 - val_root_mean_squared_error: 1.3393\n",
            "Epoch 84/100\n",
            "1487/1487 [==============================] - 6s 4ms/step - loss: 0.6972 - root_mean_squared_error: 0.8350 - val_loss: 1.6561 - val_root_mean_squared_error: 1.2869\n",
            "Epoch 85/100\n",
            "1487/1487 [==============================] - 6s 4ms/step - loss: 0.6978 - root_mean_squared_error: 0.8353 - val_loss: 1.5664 - val_root_mean_squared_error: 1.2516\n",
            "Epoch 86/100\n",
            "1487/1487 [==============================] - 6s 4ms/step - loss: 0.6991 - root_mean_squared_error: 0.8361 - val_loss: 1.6387 - val_root_mean_squared_error: 1.2801\n",
            "Epoch 87/100\n",
            "1487/1487 [==============================] - 6s 4ms/step - loss: 0.6784 - root_mean_squared_error: 0.8237 - val_loss: 1.6275 - val_root_mean_squared_error: 1.2757\n",
            "Epoch 88/100\n",
            "1487/1487 [==============================] - 6s 4ms/step - loss: 0.6761 - root_mean_squared_error: 0.8223 - val_loss: 1.6079 - val_root_mean_squared_error: 1.2680\n",
            "Epoch 89/100\n",
            "1487/1487 [==============================] - 6s 4ms/step - loss: 0.6924 - root_mean_squared_error: 0.8321 - val_loss: 1.6908 - val_root_mean_squared_error: 1.3003\n",
            "Epoch 90/100\n",
            "1487/1487 [==============================] - 6s 4ms/step - loss: 0.6707 - root_mean_squared_error: 0.8190 - val_loss: 1.6699 - val_root_mean_squared_error: 1.2922\n",
            "Epoch 91/100\n",
            "1487/1487 [==============================] - 6s 4ms/step - loss: 0.6756 - root_mean_squared_error: 0.8219 - val_loss: 1.6935 - val_root_mean_squared_error: 1.3013\n",
            "Epoch 92/100\n",
            "1487/1487 [==============================] - 6s 4ms/step - loss: 0.6753 - root_mean_squared_error: 0.8218 - val_loss: 1.7950 - val_root_mean_squared_error: 1.3398\n",
            "Epoch 93/100\n",
            "1487/1487 [==============================] - 6s 4ms/step - loss: 0.6615 - root_mean_squared_error: 0.8133 - val_loss: 1.6076 - val_root_mean_squared_error: 1.2679\n",
            "Epoch 94/100\n",
            "1487/1487 [==============================] - 6s 4ms/step - loss: 0.6520 - root_mean_squared_error: 0.8075 - val_loss: 1.5584 - val_root_mean_squared_error: 1.2484\n",
            "Epoch 95/100\n",
            "1487/1487 [==============================] - 6s 4ms/step - loss: 0.6608 - root_mean_squared_error: 0.8129 - val_loss: 1.6205 - val_root_mean_squared_error: 1.2730\n",
            "Epoch 96/100\n",
            "1487/1487 [==============================] - 6s 4ms/step - loss: 0.6748 - root_mean_squared_error: 0.8214 - val_loss: 1.6340 - val_root_mean_squared_error: 1.2783\n",
            "Epoch 97/100\n",
            "1487/1487 [==============================] - 6s 4ms/step - loss: 0.6323 - root_mean_squared_error: 0.7951 - val_loss: 1.5813 - val_root_mean_squared_error: 1.2575\n",
            "Epoch 98/100\n",
            "1487/1487 [==============================] - 6s 4ms/step - loss: 0.6577 - root_mean_squared_error: 0.8110 - val_loss: 1.6092 - val_root_mean_squared_error: 1.2686\n",
            "Epoch 99/100\n",
            "1487/1487 [==============================] - 7s 5ms/step - loss: 0.6445 - root_mean_squared_error: 0.8028 - val_loss: 1.6745 - val_root_mean_squared_error: 1.2940\n",
            "Epoch 100/100\n",
            "1487/1487 [==============================] - 6s 4ms/step - loss: 0.6381 - root_mean_squared_error: 0.7988 - val_loss: 1.6190 - val_root_mean_squared_error: 1.2724\n"
          ]
        }
      ]
    },
    {
      "cell_type": "markdown",
      "source": [
        "Evaluate Model:"
      ],
      "metadata": {
        "id": "h6qxDoW_9sga"
      }
    },
    {
      "cell_type": "code",
      "source": [
        "fc_nn.evaluate()"
      ],
      "metadata": {
        "colab": {
          "base_uri": "https://localhost:8080/",
          "height": 680
        },
        "outputId": "a52b7249-7750-49ec-f42e-ea33b61909d8",
        "id": "sdfpobkJ9sgb"
      },
      "execution_count": null,
      "outputs": [
        {
          "output_type": "stream",
          "name": "stdout",
          "text": [
            "465/465 [==============================] - 1s 2ms/step - loss: 1.6250 - root_mean_squared_error: 1.2748\n",
            "\n",
            "Test root_mean_squared_error: 1.274763822555542\n",
            "\n",
            "Test loss: 1.6250228881835938\n"
          ]
        },
        {
          "output_type": "display_data",
          "data": {
            "text/plain": [
              "<Figure size 432x288 with 1 Axes>"
            ],
            "image/png": "[encoded data removed]"
          },
          "metadata": {
            "needs_background": "light"
          }
        },
        {
          "output_type": "display_data",
          "data": {
            "text/plain": [
              "<Figure size 432x288 with 1 Axes>"
            ],
            "image/png": "[encoded data removed]"
          },
          "metadata": {
            "needs_background": "light"
          }
        },
        {
          "output_type": "execute_result",
          "data": {
            "text/plain": [
              "(1.274763822555542, 1.6250228881835938)"
            ]
          },
          "metadata": {},
          "execution_count": 6
        }
      ]
    },
    {
      "cell_type": "markdown",
      "source": [
        "# FC NN - ELU"
      ],
      "metadata": {
        "id": "p3BqAjurM1dX"
      }
    },
    {
      "cell_type": "markdown",
      "source": [
        "Configuration for NN:"
      ],
      "metadata": {
        "id": "mVeDzUYSM1da"
      }
    },
    {
      "cell_type": "code",
      "source": [
        "from tensorflow import keras\n",
        "\n",
        "nn_configuration = {\n",
        "    'epochs': epochs,  # number of epochs\n",
        "    'batch_size': 32,  # size of the batch\n",
        "    'verbose': 1,  # set the training phase as verbose\n",
        "    'optimizer': keras.optimizers.Adam(clipvalue=1.0),  # optimizer\n",
        "    'metrics': [\"root_mean_squared_error\"],\n",
        "    'loss': 'mean_squared_error',  # loss\n",
        "    'val_split': 0.2,  # validation split: percentage of the training data used for evaluating the loss function\n",
        "    'n_input': 300,\n",
        "    'input_shape': (300,),\n",
        "    'n_output': 1  # number of outputs = mfd\n",
        "}"
      ],
      "metadata": {
        "id": "BbKWTNMNM1db"
      },
      "execution_count": 3,
      "outputs": []
    },
    {
      "cell_type": "markdown",
      "source": [
        "Create Model:"
      ],
      "metadata": {
        "id": "EPzKCaqoM1dd"
      }
    },
    {
      "cell_type": "code",
      "source": [
        "from gaze_predictor.gaze_predictor.fully_connected import FCNetworkELU\n",
        "\n",
        "fc_nn_elu = gaze_predictor.gaze_predictor.fully_connected.FCNetworkELU(name='fc_nn_elu', configuration = nn_configuration)\n",
        "fc_nn_elu.create_model()"
      ],
      "metadata": {
        "colab": {
          "base_uri": "https://localhost:8080/"
        },
        "outputId": "d14a73e9-d86e-4994-fa83-af61bb1b5cdf",
        "id": "CqKWWE-cM1df"
      },
      "execution_count": 4,
      "outputs": [
        {
          "output_type": "stream",
          "name": "stdout",
          "text": [
            "Created model for fc_nn_elu:\n",
            "Model: \"sequential\"\n",
            "_________________________________________________________________\n",
            " Layer (type)                Output Shape              Param #   \n",
            "=================================================================\n",
            " Input (Dense)               (None, 300)               90300     \n",
            "                                                                 \n",
            " Hidden1 (Dense)             (None, 256)               77056     \n",
            "                                                                 \n",
            " Hidden2 (Dense)             (None, 16)                4112      \n",
            "                                                                 \n",
            " Output (Dense)              (None, 1)                 17        \n",
            "                                                                 \n",
            "=================================================================\n",
            "Total params: 171,485\n",
            "Trainable params: 171,485\n",
            "Non-trainable params: 0\n",
            "_________________________________________________________________\n",
            "None\n"
          ]
        }
      ]
    },
    {
      "cell_type": "markdown",
      "source": [
        "Train Model:"
      ],
      "metadata": {
        "id": "rPIR5B2pM1dg"
      }
    },
    {
      "cell_type": "code",
      "source": [
        "fc_nn_elu.train()"
      ],
      "metadata": {
        "colab": {
          "base_uri": "https://localhost:8080/"
        },
        "outputId": "e8493b85-fabe-481e-ecf6-fe2386546650",
        "id": "E88Kch70M1dh"
      },
      "execution_count": 5,
      "outputs": [
        {
          "output_type": "stream",
          "name": "stdout",
          "text": [
            "Epoch 1/100\n",
            "1487/1487 [==============================] - 14s 9ms/step - loss: 4.6881 - root_mean_squared_error: 2.1652 - val_loss: 4.6403 - val_root_mean_squared_error: 2.1541\n",
            "Epoch 2/100\n",
            "1487/1487 [==============================] - 10s 7ms/step - loss: 4.3022 - root_mean_squared_error: 2.0742 - val_loss: 4.2666 - val_root_mean_squared_error: 2.0656\n",
            "Epoch 3/100\n",
            "1487/1487 [==============================] - 7s 5ms/step - loss: 3.9218 - root_mean_squared_error: 1.9804 - val_loss: 4.4110 - val_root_mean_squared_error: 2.1002\n",
            "Epoch 4/100\n",
            "1487/1487 [==============================] - 8s 5ms/step - loss: 3.5057 - root_mean_squared_error: 1.8724 - val_loss: 3.9507 - val_root_mean_squared_error: 1.9876\n",
            "Epoch 5/100\n",
            "1487/1487 [==============================] - 7s 5ms/step - loss: 3.1585 - root_mean_squared_error: 1.7772 - val_loss: 3.6423 - val_root_mean_squared_error: 1.9085\n",
            "Epoch 6/100\n",
            "1487/1487 [==============================] - 8s 5ms/step - loss: 2.8244 - root_mean_squared_error: 1.6806 - val_loss: 3.1420 - val_root_mean_squared_error: 1.7726\n",
            "Epoch 7/100\n",
            "1487/1487 [==============================] - 8s 6ms/step - loss: 2.5617 - root_mean_squared_error: 1.6005 - val_loss: 2.9535 - val_root_mean_squared_error: 1.7186\n",
            "Epoch 8/100\n",
            "1487/1487 [==============================] - 8s 5ms/step - loss: 2.3212 - root_mean_squared_error: 1.5235 - val_loss: 2.8967 - val_root_mean_squared_error: 1.7020\n",
            "Epoch 9/100\n",
            "1487/1487 [==============================] - 8s 5ms/step - loss: 2.1951 - root_mean_squared_error: 1.4816 - val_loss: 2.8047 - val_root_mean_squared_error: 1.6747\n",
            "Epoch 10/100\n",
            "1487/1487 [==============================] - 8s 5ms/step - loss: 2.0814 - root_mean_squared_error: 1.4427 - val_loss: 2.7471 - val_root_mean_squared_error: 1.6575\n",
            "Epoch 11/100\n",
            "1487/1487 [==============================] - 8s 5ms/step - loss: 1.9060 - root_mean_squared_error: 1.3806 - val_loss: 2.5355 - val_root_mean_squared_error: 1.5923\n",
            "Epoch 12/100\n",
            "1487/1487 [==============================] - 8s 6ms/step - loss: 1.8412 - root_mean_squared_error: 1.3569 - val_loss: 2.3987 - val_root_mean_squared_error: 1.5488\n",
            "Epoch 13/100\n",
            "1487/1487 [==============================] - 9s 6ms/step - loss: 1.7497 - root_mean_squared_error: 1.3228 - val_loss: 2.3965 - val_root_mean_squared_error: 1.5481\n",
            "Epoch 14/100\n",
            "1487/1487 [==============================] - 8s 6ms/step - loss: 1.6652 - root_mean_squared_error: 1.2904 - val_loss: 2.1487 - val_root_mean_squared_error: 1.4658\n",
            "Epoch 15/100\n",
            "1487/1487 [==============================] - 8s 5ms/step - loss: 1.6071 - root_mean_squared_error: 1.2677 - val_loss: 2.2051 - val_root_mean_squared_error: 1.4850\n",
            "Epoch 16/100\n",
            "1487/1487 [==============================] - 8s 5ms/step - loss: 1.5330 - root_mean_squared_error: 1.2381 - val_loss: 2.1071 - val_root_mean_squared_error: 1.4516\n",
            "Epoch 17/100\n",
            "1487/1487 [==============================] - 7s 5ms/step - loss: 1.5389 - root_mean_squared_error: 1.2405 - val_loss: 2.1587 - val_root_mean_squared_error: 1.4693\n",
            "Epoch 18/100\n",
            "1487/1487 [==============================] - 7s 5ms/step - loss: 1.4364 - root_mean_squared_error: 1.1985 - val_loss: 2.0551 - val_root_mean_squared_error: 1.4336\n",
            "Epoch 19/100\n",
            "1487/1487 [==============================] - 7s 5ms/step - loss: 1.3908 - root_mean_squared_error: 1.1793 - val_loss: 2.2036 - val_root_mean_squared_error: 1.4845\n",
            "Epoch 20/100\n",
            "1487/1487 [==============================] - 7s 5ms/step - loss: 1.3753 - root_mean_squared_error: 1.1728 - val_loss: 2.0599 - val_root_mean_squared_error: 1.4352\n",
            "Epoch 21/100\n",
            "1487/1487 [==============================] - 7s 5ms/step - loss: 1.3304 - root_mean_squared_error: 1.1534 - val_loss: 1.9631 - val_root_mean_squared_error: 1.4011\n",
            "Epoch 22/100\n",
            "1487/1487 [==============================] - 7s 5ms/step - loss: 1.3419 - root_mean_squared_error: 1.1584 - val_loss: 2.5755 - val_root_mean_squared_error: 1.6048\n",
            "Epoch 23/100\n",
            "1487/1487 [==============================] - 7s 5ms/step - loss: 1.2885 - root_mean_squared_error: 1.1351 - val_loss: 2.0005 - val_root_mean_squared_error: 1.4144\n",
            "Epoch 24/100\n",
            "1487/1487 [==============================] - 7s 5ms/step - loss: 1.2328 - root_mean_squared_error: 1.1103 - val_loss: 2.1602 - val_root_mean_squared_error: 1.4698\n",
            "Epoch 25/100\n",
            "1487/1487 [==============================] - 11s 8ms/step - loss: 1.2142 - root_mean_squared_error: 1.1019 - val_loss: 2.0695 - val_root_mean_squared_error: 1.4386\n",
            "Epoch 26/100\n",
            "1487/1487 [==============================] - 9s 6ms/step - loss: 1.1615 - root_mean_squared_error: 1.0777 - val_loss: 1.9035 - val_root_mean_squared_error: 1.3797\n",
            "Epoch 27/100\n",
            "1487/1487 [==============================] - 8s 5ms/step - loss: 1.1660 - root_mean_squared_error: 1.0798 - val_loss: 1.9994 - val_root_mean_squared_error: 1.4140\n",
            "Epoch 28/100\n",
            "1487/1487 [==============================] - 7s 5ms/step - loss: 1.1862 - root_mean_squared_error: 1.0891 - val_loss: 1.9305 - val_root_mean_squared_error: 1.3894\n",
            "Epoch 29/100\n",
            "1487/1487 [==============================] - 7s 5ms/step - loss: 1.1186 - root_mean_squared_error: 1.0577 - val_loss: 1.8390 - val_root_mean_squared_error: 1.3561\n",
            "Epoch 30/100\n",
            "1487/1487 [==============================] - 7s 5ms/step - loss: 1.0784 - root_mean_squared_error: 1.0384 - val_loss: 2.0091 - val_root_mean_squared_error: 1.4174\n",
            "Epoch 31/100\n",
            "1487/1487 [==============================] - 7s 5ms/step - loss: 1.3877 - root_mean_squared_error: 1.1780 - val_loss: 1.8692 - val_root_mean_squared_error: 1.3672\n",
            "Epoch 32/100\n",
            "1487/1487 [==============================] - 7s 5ms/step - loss: 1.0348 - root_mean_squared_error: 1.0173 - val_loss: 1.8298 - val_root_mean_squared_error: 1.3527\n",
            "Epoch 33/100\n",
            "1487/1487 [==============================] - 7s 5ms/step - loss: 1.0256 - root_mean_squared_error: 1.0127 - val_loss: 1.7547 - val_root_mean_squared_error: 1.3247\n",
            "Epoch 34/100\n",
            "1487/1487 [==============================] - 7s 5ms/step - loss: 1.2920 - root_mean_squared_error: 1.1366 - val_loss: 1.7600 - val_root_mean_squared_error: 1.3266\n",
            "Epoch 35/100\n",
            "1487/1487 [==============================] - 7s 5ms/step - loss: 0.9822 - root_mean_squared_error: 0.9910 - val_loss: 1.8457 - val_root_mean_squared_error: 1.3586\n",
            "Epoch 36/100\n",
            "1487/1487 [==============================] - 7s 5ms/step - loss: 1.0199 - root_mean_squared_error: 1.0099 - val_loss: 1.7600 - val_root_mean_squared_error: 1.3266\n",
            "Epoch 37/100\n",
            "1487/1487 [==============================] - 7s 5ms/step - loss: 1.4261 - root_mean_squared_error: 1.1942 - val_loss: 2.3745 - val_root_mean_squared_error: 1.5409\n",
            "Epoch 38/100\n",
            "1487/1487 [==============================] - 7s 5ms/step - loss: 1.2274 - root_mean_squared_error: 1.1079 - val_loss: 1.9141 - val_root_mean_squared_error: 1.3835\n",
            "Epoch 39/100\n",
            "1487/1487 [==============================] - 7s 5ms/step - loss: 1.0053 - root_mean_squared_error: 1.0026 - val_loss: 1.9076 - val_root_mean_squared_error: 1.3811\n",
            "Epoch 40/100\n",
            "1487/1487 [==============================] - 8s 6ms/step - loss: 1.1416 - root_mean_squared_error: 1.0685 - val_loss: 1.8901 - val_root_mean_squared_error: 1.3748\n",
            "Epoch 41/100\n",
            "1487/1487 [==============================] - 7s 5ms/step - loss: 0.9805 - root_mean_squared_error: 0.9902 - val_loss: 1.8136 - val_root_mean_squared_error: 1.3467\n",
            "Epoch 42/100\n",
            "1487/1487 [==============================] - 7s 5ms/step - loss: 0.9594 - root_mean_squared_error: 0.9795 - val_loss: 1.8672 - val_root_mean_squared_error: 1.3664\n",
            "Epoch 43/100\n",
            "1487/1487 [==============================] - 7s 5ms/step - loss: 1.0058 - root_mean_squared_error: 1.0029 - val_loss: 2.2233 - val_root_mean_squared_error: 1.4911\n",
            "Epoch 44/100\n",
            "1487/1487 [==============================] - 7s 5ms/step - loss: 1.1825 - root_mean_squared_error: 1.0874 - val_loss: 1.7687 - val_root_mean_squared_error: 1.3299\n",
            "Epoch 45/100\n",
            "1487/1487 [==============================] - 7s 5ms/step - loss: 0.9107 - root_mean_squared_error: 0.9543 - val_loss: 2.0080 - val_root_mean_squared_error: 1.4170\n",
            "Epoch 46/100\n",
            "1487/1487 [==============================] - 7s 5ms/step - loss: 1.0384 - root_mean_squared_error: 1.0190 - val_loss: 1.9768 - val_root_mean_squared_error: 1.4060\n",
            "Epoch 47/100\n",
            "1487/1487 [==============================] - 7s 5ms/step - loss: 0.9168 - root_mean_squared_error: 0.9575 - val_loss: 1.8278 - val_root_mean_squared_error: 1.3520\n",
            "Epoch 48/100\n",
            "1487/1487 [==============================] - 7s 5ms/step - loss: 0.9919 - root_mean_squared_error: 0.9960 - val_loss: 1.7341 - val_root_mean_squared_error: 1.3168\n",
            "Epoch 49/100\n",
            "1487/1487 [==============================] - 7s 5ms/step - loss: 0.9051 - root_mean_squared_error: 0.9513 - val_loss: 1.7729 - val_root_mean_squared_error: 1.3315\n",
            "Epoch 50/100\n",
            "1487/1487 [==============================] - 7s 5ms/step - loss: 0.9016 - root_mean_squared_error: 0.9495 - val_loss: 1.8332 - val_root_mean_squared_error: 1.3540\n",
            "Epoch 51/100\n",
            "1487/1487 [==============================] - 7s 5ms/step - loss: 1.1653 - root_mean_squared_error: 1.0795 - val_loss: 2.4332 - val_root_mean_squared_error: 1.5599\n",
            "Epoch 52/100\n",
            "1487/1487 [==============================] - 7s 5ms/step - loss: 1.0774 - root_mean_squared_error: 1.0380 - val_loss: 1.9313 - val_root_mean_squared_error: 1.3897\n",
            "Epoch 53/100\n",
            "1487/1487 [==============================] - 7s 5ms/step - loss: 1.0717 - root_mean_squared_error: 1.0352 - val_loss: 1.8916 - val_root_mean_squared_error: 1.3753\n",
            "Epoch 54/100\n",
            "1487/1487 [==============================] - 7s 5ms/step - loss: 0.8480 - root_mean_squared_error: 0.9209 - val_loss: 1.7183 - val_root_mean_squared_error: 1.3109\n",
            "Epoch 55/100\n",
            "1487/1487 [==============================] - 7s 5ms/step - loss: 0.8330 - root_mean_squared_error: 0.9127 - val_loss: 1.6450 - val_root_mean_squared_error: 1.2826\n",
            "Epoch 56/100\n",
            "1487/1487 [==============================] - 7s 5ms/step - loss: 0.8600 - root_mean_squared_error: 0.9273 - val_loss: 1.8757 - val_root_mean_squared_error: 1.3695\n",
            "Epoch 57/100\n",
            "1487/1487 [==============================] - 7s 5ms/step - loss: 1.8940 - root_mean_squared_error: 1.3762 - val_loss: 2.8365 - val_root_mean_squared_error: 1.6842\n",
            "Epoch 58/100\n",
            "1487/1487 [==============================] - 7s 5ms/step - loss: 3.3629 - root_mean_squared_error: 1.8338 - val_loss: 2.0047 - val_root_mean_squared_error: 1.4159\n",
            "Epoch 59/100\n",
            "1487/1487 [==============================] - 7s 5ms/step - loss: 0.9815 - root_mean_squared_error: 0.9907 - val_loss: 1.7838 - val_root_mean_squared_error: 1.3356\n",
            "Epoch 60/100\n",
            "1487/1487 [==============================] - 7s 5ms/step - loss: 0.8964 - root_mean_squared_error: 0.9468 - val_loss: 1.7732 - val_root_mean_squared_error: 1.3316\n",
            "Epoch 61/100\n",
            "1487/1487 [==============================] - 7s 5ms/step - loss: 0.8359 - root_mean_squared_error: 0.9143 - val_loss: 1.6778 - val_root_mean_squared_error: 1.2953\n",
            "Epoch 62/100\n",
            "1487/1487 [==============================] - 7s 5ms/step - loss: 0.8468 - root_mean_squared_error: 0.9202 - val_loss: 2.0676 - val_root_mean_squared_error: 1.4379\n",
            "Epoch 63/100\n",
            "1487/1487 [==============================] - 7s 5ms/step - loss: 0.8550 - root_mean_squared_error: 0.9247 - val_loss: 2.4554 - val_root_mean_squared_error: 1.5670\n",
            "Epoch 64/100\n",
            "1487/1487 [==============================] - 7s 5ms/step - loss: 3.5559 - root_mean_squared_error: 1.8857 - val_loss: 1.8948 - val_root_mean_squared_error: 1.3765\n",
            "Epoch 65/100\n",
            "1487/1487 [==============================] - 7s 5ms/step - loss: 0.8284 - root_mean_squared_error: 0.9102 - val_loss: 1.6472 - val_root_mean_squared_error: 1.2834\n",
            "Epoch 66/100\n",
            "1487/1487 [==============================] - 7s 5ms/step - loss: 0.7844 - root_mean_squared_error: 0.8856 - val_loss: 1.7529 - val_root_mean_squared_error: 1.3240\n",
            "Epoch 67/100\n",
            "1487/1487 [==============================] - 7s 5ms/step - loss: 1.0290 - root_mean_squared_error: 1.0144 - val_loss: 2.5807 - val_root_mean_squared_error: 1.6064\n",
            "Epoch 68/100\n",
            "1487/1487 [==============================] - 8s 5ms/step - loss: 1.6248 - root_mean_squared_error: 1.2747 - val_loss: 1.6959 - val_root_mean_squared_error: 1.3023\n",
            "Epoch 69/100\n",
            "1487/1487 [==============================] - 7s 5ms/step - loss: 0.7797 - root_mean_squared_error: 0.8830 - val_loss: 1.6787 - val_root_mean_squared_error: 1.2956\n",
            "Epoch 70/100\n",
            "1487/1487 [==============================] - 7s 5ms/step - loss: 0.9316 - root_mean_squared_error: 0.9652 - val_loss: 1.6697 - val_root_mean_squared_error: 1.2922\n",
            "Epoch 71/100\n",
            "1487/1487 [==============================] - 7s 5ms/step - loss: 0.8113 - root_mean_squared_error: 0.9007 - val_loss: 1.6869 - val_root_mean_squared_error: 1.2988\n",
            "Epoch 72/100\n",
            "1487/1487 [==============================] - 7s 5ms/step - loss: 4.7618 - root_mean_squared_error: 2.1821 - val_loss: 1.8217 - val_root_mean_squared_error: 1.3497\n",
            "Epoch 73/100\n",
            "1487/1487 [==============================] - 7s 5ms/step - loss: 0.7744 - root_mean_squared_error: 0.8800 - val_loss: 1.7195 - val_root_mean_squared_error: 1.3113\n",
            "Epoch 74/100\n",
            "1487/1487 [==============================] - 7s 5ms/step - loss: 0.7612 - root_mean_squared_error: 0.8725 - val_loss: 2.0101 - val_root_mean_squared_error: 1.4178\n",
            "Epoch 75/100\n",
            "1487/1487 [==============================] - 7s 5ms/step - loss: 1.1516 - root_mean_squared_error: 1.0731 - val_loss: 2.3172 - val_root_mean_squared_error: 1.5222\n",
            "Epoch 76/100\n",
            "1487/1487 [==============================] - 7s 5ms/step - loss: 2.8630 - root_mean_squared_error: 1.6920 - val_loss: 1.8626 - val_root_mean_squared_error: 1.3648\n",
            "Epoch 77/100\n",
            "1487/1487 [==============================] - 7s 5ms/step - loss: 0.7524 - root_mean_squared_error: 0.8674 - val_loss: 2.2619 - val_root_mean_squared_error: 1.5040\n",
            "Epoch 78/100\n",
            "1487/1487 [==============================] - 7s 5ms/step - loss: 3.0392 - root_mean_squared_error: 1.7433 - val_loss: 1.9279 - val_root_mean_squared_error: 1.3885\n",
            "Epoch 79/100\n",
            "1487/1487 [==============================] - 7s 5ms/step - loss: 0.8577 - root_mean_squared_error: 0.9261 - val_loss: 2.1896 - val_root_mean_squared_error: 1.4797\n",
            "Epoch 80/100\n",
            "1487/1487 [==============================] - 7s 5ms/step - loss: 1.8526 - root_mean_squared_error: 1.3611 - val_loss: 1.7192 - val_root_mean_squared_error: 1.3112\n",
            "Epoch 81/100\n",
            "1487/1487 [==============================] - 7s 5ms/step - loss: 0.7958 - root_mean_squared_error: 0.8921 - val_loss: 1.7102 - val_root_mean_squared_error: 1.3078\n",
            "Epoch 82/100\n",
            "1487/1487 [==============================] - 7s 5ms/step - loss: 0.7797 - root_mean_squared_error: 0.8830 - val_loss: 1.6957 - val_root_mean_squared_error: 1.3022\n",
            "Epoch 83/100\n",
            "1487/1487 [==============================] - 7s 5ms/step - loss: 0.7826 - root_mean_squared_error: 0.8846 - val_loss: 1.7215 - val_root_mean_squared_error: 1.3121\n",
            "Epoch 84/100\n",
            "1487/1487 [==============================] - 7s 5ms/step - loss: 0.7927 - root_mean_squared_error: 0.8903 - val_loss: 1.7507 - val_root_mean_squared_error: 1.3231\n",
            "Epoch 85/100\n",
            "1487/1487 [==============================] - 7s 5ms/step - loss: 44.4977 - root_mean_squared_error: 6.6707 - val_loss: 1.8059 - val_root_mean_squared_error: 1.3438\n",
            "Epoch 86/100\n",
            "1487/1487 [==============================] - 7s 5ms/step - loss: 0.7289 - root_mean_squared_error: 0.8537 - val_loss: 2.3776 - val_root_mean_squared_error: 1.5419\n",
            "Epoch 87/100\n",
            "1487/1487 [==============================] - 7s 5ms/step - loss: 0.7193 - root_mean_squared_error: 0.8481 - val_loss: 2.1685 - val_root_mean_squared_error: 1.4726\n",
            "Epoch 88/100\n",
            "1487/1487 [==============================] - 7s 5ms/step - loss: 1.6612 - root_mean_squared_error: 1.2889 - val_loss: 1.9351 - val_root_mean_squared_error: 1.3911\n",
            "Epoch 89/100\n",
            "1487/1487 [==============================] - 7s 5ms/step - loss: 0.9394 - root_mean_squared_error: 0.9692 - val_loss: 1.6355 - val_root_mean_squared_error: 1.2789\n",
            "Epoch 90/100\n",
            "1487/1487 [==============================] - 7s 5ms/step - loss: 0.7153 - root_mean_squared_error: 0.8458 - val_loss: 1.7030 - val_root_mean_squared_error: 1.3050\n",
            "Epoch 91/100\n",
            "1487/1487 [==============================] - 7s 5ms/step - loss: 0.7360 - root_mean_squared_error: 0.8579 - val_loss: 1.7755 - val_root_mean_squared_error: 1.3325\n",
            "Epoch 92/100\n",
            "1487/1487 [==============================] - 7s 5ms/step - loss: 2.4679 - root_mean_squared_error: 1.5710 - val_loss: 21.1779 - val_root_mean_squared_error: 4.6019\n",
            "Epoch 93/100\n",
            "1487/1487 [==============================] - 7s 5ms/step - loss: 5.3195 - root_mean_squared_error: 2.3064 - val_loss: 1.6708 - val_root_mean_squared_error: 1.2926\n",
            "Epoch 94/100\n",
            "1487/1487 [==============================] - 7s 5ms/step - loss: 0.7013 - root_mean_squared_error: 0.8374 - val_loss: 1.7387 - val_root_mean_squared_error: 1.3186\n",
            "Epoch 95/100\n",
            "1487/1487 [==============================] - 7s 5ms/step - loss: 0.7102 - root_mean_squared_error: 0.8427 - val_loss: 1.6970 - val_root_mean_squared_error: 1.3027\n",
            "Epoch 96/100\n",
            "1487/1487 [==============================] - 8s 5ms/step - loss: 0.7587 - root_mean_squared_error: 0.8711 - val_loss: 1.7405 - val_root_mean_squared_error: 1.3193\n",
            "Epoch 97/100\n",
            "1487/1487 [==============================] - 7s 5ms/step - loss: 0.7570 - root_mean_squared_error: 0.8701 - val_loss: 1.6012 - val_root_mean_squared_error: 1.2654\n",
            "Epoch 98/100\n",
            "1487/1487 [==============================] - 7s 5ms/step - loss: 0.7494 - root_mean_squared_error: 0.8657 - val_loss: 2.0704 - val_root_mean_squared_error: 1.4389\n",
            "Epoch 99/100\n",
            "1487/1487 [==============================] - 7s 5ms/step - loss: 2.5838 - root_mean_squared_error: 1.6074 - val_loss: 4.8335 - val_root_mean_squared_error: 2.1985\n",
            "Epoch 100/100\n",
            "1487/1487 [==============================] - 7s 5ms/step - loss: 9.0880 - root_mean_squared_error: 3.0146 - val_loss: 1.6558 - val_root_mean_squared_error: 1.2868\n"
          ]
        }
      ]
    },
    {
      "cell_type": "markdown",
      "source": [
        "Evaluate Model:"
      ],
      "metadata": {
        "id": "1uZfdahvM1dj"
      }
    },
    {
      "cell_type": "code",
      "source": [
        "fc_nn_elu.evaluate()"
      ],
      "metadata": {
        "colab": {
          "base_uri": "https://localhost:8080/",
          "height": 680
        },
        "outputId": "ed71598a-9548-49aa-e238-0cb25b307d50",
        "id": "Ovz92SXPM1dj"
      },
      "execution_count": 6,
      "outputs": [
        {
          "output_type": "stream",
          "name": "stdout",
          "text": [
            "465/465 [==============================] - 1s 2ms/step - loss: 10.4985 - root_mean_squared_error: 3.2401\n",
            "\n",
            "Test root_mean_squared_error: 3.240138530731201\n",
            "\n",
            "Test loss: 10.498497009277344\n"
          ]
        },
        {
          "output_type": "display_data",
          "data": {
            "text/plain": [
              "<Figure size 432x288 with 1 Axes>"
            ],
            "image/png": "[encoded data removed]"
          },
          "metadata": {
            "needs_background": "light"
          }
        },
        {
          "output_type": "display_data",
          "data": {
            "text/plain": [
              "<Figure size 432x288 with 1 Axes>"
            ],
            "image/png": "[encoded data removed]"
          },
          "metadata": {
            "needs_background": "light"
          }
        },
        {
          "output_type": "execute_result",
          "data": {
            "text/plain": [
              "(3.240138530731201, 10.498497009277344)"
            ]
          },
          "metadata": {},
          "execution_count": 6
        }
      ]
    },
    {
      "cell_type": "markdown",
      "source": [
        "# FC NN - Dropout"
      ],
      "metadata": {
        "id": "149wW3oKdJOV"
      }
    },
    {
      "cell_type": "markdown",
      "source": [
        "Configuration for NN:"
      ],
      "metadata": {
        "id": "dJpV29QcdJOW"
      }
    },
    {
      "cell_type": "code",
      "source": [
        "from tensorflow import keras\n",
        "\n",
        "nn_configuration = {\n",
        "    'epochs': epochs,  # number of epochs\n",
        "    'batch_size': 32,  # size of the batch\n",
        "    'verbose': 1,  # set the training phase as verbose\n",
        "    'optimizer': keras.optimizers.Adam(clipvalue=1.0),  # optimizer\n",
        "    'metrics': [\"root_mean_squared_error\"],\n",
        "    'loss': 'mean_squared_error',  # loss\n",
        "    'val_split': 0.2,  # validation split: percentage of the training data used for evaluating the loss function\n",
        "    'n_input': 300,\n",
        "    'input_shape': (300,),\n",
        "    'n_output': 1  # number of outputs = mfd\n",
        "}"
      ],
      "metadata": {
        "id": "hi1xqee2dJOX"
      },
      "execution_count": 7,
      "outputs": []
    },
    {
      "cell_type": "markdown",
      "source": [
        "Create Model:"
      ],
      "metadata": {
        "id": "5hb-oGX8dJOZ"
      }
    },
    {
      "cell_type": "code",
      "source": [
        "from gaze_predictor.gaze_predictor.fully_connected import FCNetworkDropout\n",
        "\n",
        "fc_nn_dropout = gaze_predictor.gaze_predictor.fully_connected.FCNetworkDropout(name='fc_nn_dropout', configuration = nn_configuration)\n",
        "fc_nn_dropout.create_model()"
      ],
      "metadata": {
        "colab": {
          "base_uri": "https://localhost:8080/"
        },
        "outputId": "169c7489-303f-4827-81e6-9f1fc3b59401",
        "id": "1OIrKKoddJOa"
      },
      "execution_count": 8,
      "outputs": [
        {
          "output_type": "stream",
          "name": "stdout",
          "text": [
            "Created model for fc_nn_dropout:\n",
            "Model: \"sequential_1\"\n",
            "_________________________________________________________________\n",
            " Layer (type)                Output Shape              Param #   \n",
            "=================================================================\n",
            " Input (Dense)               (None, 300)               90300     \n",
            "                                                                 \n",
            " Hidden1 (Dense)             (None, 256)               77056     \n",
            "                                                                 \n",
            " DropOut1 (Dropout)          (None, 256)               0         \n",
            "                                                                 \n",
            " Hidden2 (Dense)             (None, 16)                4112      \n",
            "                                                                 \n",
            " DropOut2 (Dropout)          (None, 16)                0         \n",
            "                                                                 \n",
            " Output (Dense)              (None, 1)                 17        \n",
            "                                                                 \n",
            "=================================================================\n",
            "Total params: 171,485\n",
            "Trainable params: 171,485\n",
            "Non-trainable params: 0\n",
            "_________________________________________________________________\n",
            "None\n"
          ]
        }
      ]
    },
    {
      "cell_type": "markdown",
      "source": [
        "Train Model:"
      ],
      "metadata": {
        "id": "LHLzV4qGdJOb"
      }
    },
    {
      "cell_type": "code",
      "source": [
        "fc_nn_dropout.train()"
      ],
      "metadata": {
        "colab": {
          "base_uri": "https://localhost:8080/"
        },
        "outputId": "5a9c1bc7-d000-4bb5-e91d-4b00f4c439f0",
        "id": "uzqVf0xfdJOc"
      },
      "execution_count": 9,
      "outputs": [
        {
          "output_type": "stream",
          "name": "stdout",
          "text": [
            "Epoch 1/100\n",
            "1487/1487 [==============================] - 7s 4ms/step - loss: 5.1924 - root_mean_squared_error: 2.2787 - val_loss: 4.7845 - val_root_mean_squared_error: 2.1874\n",
            "Epoch 2/100\n",
            "1487/1487 [==============================] - 6s 4ms/step - loss: 4.6397 - root_mean_squared_error: 2.1540 - val_loss: 4.7206 - val_root_mean_squared_error: 2.1727\n",
            "Epoch 3/100\n",
            "1487/1487 [==============================] - 7s 4ms/step - loss: 4.3382 - root_mean_squared_error: 2.0828 - val_loss: 4.3457 - val_root_mean_squared_error: 2.0846\n",
            "Epoch 4/100\n",
            "1487/1487 [==============================] - 6s 4ms/step - loss: 4.0363 - root_mean_squared_error: 2.0091 - val_loss: 4.0317 - val_root_mean_squared_error: 2.0079\n",
            "Epoch 5/100\n",
            "1487/1487 [==============================] - 6s 4ms/step - loss: 3.8098 - root_mean_squared_error: 1.9519 - val_loss: 3.8354 - val_root_mean_squared_error: 1.9584\n",
            "Epoch 6/100\n",
            "1487/1487 [==============================] - 7s 4ms/step - loss: 3.5954 - root_mean_squared_error: 1.8961 - val_loss: 3.7464 - val_root_mean_squared_error: 1.9356\n",
            "Epoch 7/100\n",
            "1487/1487 [==============================] - 6s 4ms/step - loss: 3.4208 - root_mean_squared_error: 1.8495 - val_loss: 3.5371 - val_root_mean_squared_error: 1.8807\n",
            "Epoch 8/100\n",
            "1487/1487 [==============================] - 7s 4ms/step - loss: 3.2372 - root_mean_squared_error: 1.7992 - val_loss: 3.4104 - val_root_mean_squared_error: 1.8467\n",
            "Epoch 9/100\n",
            "1487/1487 [==============================] - 7s 4ms/step - loss: 3.1191 - root_mean_squared_error: 1.7661 - val_loss: 3.1853 - val_root_mean_squared_error: 1.7847\n",
            "Epoch 10/100\n",
            "1487/1487 [==============================] - 7s 4ms/step - loss: 2.9661 - root_mean_squared_error: 1.7222 - val_loss: 3.3533 - val_root_mean_squared_error: 1.8312\n",
            "Epoch 11/100\n",
            "1487/1487 [==============================] - 7s 4ms/step - loss: 2.9381 - root_mean_squared_error: 1.7141 - val_loss: 3.2825 - val_root_mean_squared_error: 1.8118\n",
            "Epoch 12/100\n",
            "1487/1487 [==============================] - 7s 5ms/step - loss: 2.8082 - root_mean_squared_error: 1.6758 - val_loss: 2.9126 - val_root_mean_squared_error: 1.7066\n",
            "Epoch 13/100\n",
            "1487/1487 [==============================] - 7s 4ms/step - loss: 2.8473 - root_mean_squared_error: 1.6874 - val_loss: 2.8122 - val_root_mean_squared_error: 1.6770\n",
            "Epoch 14/100\n",
            "1487/1487 [==============================] - 7s 4ms/step - loss: 2.7041 - root_mean_squared_error: 1.6444 - val_loss: 3.0641 - val_root_mean_squared_error: 1.7505\n",
            "Epoch 15/100\n",
            "1487/1487 [==============================] - 7s 4ms/step - loss: 2.6159 - root_mean_squared_error: 1.6174 - val_loss: 2.7704 - val_root_mean_squared_error: 1.6644\n",
            "Epoch 16/100\n",
            "1487/1487 [==============================] - 7s 4ms/step - loss: 2.5898 - root_mean_squared_error: 1.6093 - val_loss: 2.8055 - val_root_mean_squared_error: 1.6750\n",
            "Epoch 17/100\n",
            "1487/1487 [==============================] - 6s 4ms/step - loss: 2.5694 - root_mean_squared_error: 1.6029 - val_loss: 2.8602 - val_root_mean_squared_error: 1.6912\n",
            "Epoch 18/100\n",
            "1487/1487 [==============================] - 6s 4ms/step - loss: 2.5030 - root_mean_squared_error: 1.5821 - val_loss: 2.7109 - val_root_mean_squared_error: 1.6465\n",
            "Epoch 19/100\n",
            "1487/1487 [==============================] - 6s 4ms/step - loss: 2.4760 - root_mean_squared_error: 1.5735 - val_loss: 2.7044 - val_root_mean_squared_error: 1.6445\n",
            "Epoch 20/100\n",
            "1487/1487 [==============================] - 7s 4ms/step - loss: 2.5044 - root_mean_squared_error: 1.5825 - val_loss: 2.6201 - val_root_mean_squared_error: 1.6187\n",
            "Epoch 21/100\n",
            "1487/1487 [==============================] - 6s 4ms/step - loss: 2.3814 - root_mean_squared_error: 1.5432 - val_loss: 2.4038 - val_root_mean_squared_error: 1.5504\n",
            "Epoch 22/100\n",
            "1487/1487 [==============================] - 6s 4ms/step - loss: 2.3543 - root_mean_squared_error: 1.5344 - val_loss: 2.6014 - val_root_mean_squared_error: 1.6129\n",
            "Epoch 23/100\n",
            "1487/1487 [==============================] - 6s 4ms/step - loss: 2.4076 - root_mean_squared_error: 1.5516 - val_loss: 2.4302 - val_root_mean_squared_error: 1.5589\n",
            "Epoch 24/100\n",
            "1487/1487 [==============================] - 6s 4ms/step - loss: 2.2430 - root_mean_squared_error: 1.4977 - val_loss: 2.4391 - val_root_mean_squared_error: 1.5618\n",
            "Epoch 25/100\n",
            "1487/1487 [==============================] - 6s 4ms/step - loss: 2.2346 - root_mean_squared_error: 1.4949 - val_loss: 2.4429 - val_root_mean_squared_error: 1.5630\n",
            "Epoch 26/100\n",
            "1487/1487 [==============================] - 6s 4ms/step - loss: 2.2529 - root_mean_squared_error: 1.5010 - val_loss: 2.3676 - val_root_mean_squared_error: 1.5387\n",
            "Epoch 27/100\n",
            "1487/1487 [==============================] - 6s 4ms/step - loss: 2.2411 - root_mean_squared_error: 1.4970 - val_loss: 2.4061 - val_root_mean_squared_error: 1.5512\n",
            "Epoch 28/100\n",
            "1487/1487 [==============================] - 6s 4ms/step - loss: 2.1930 - root_mean_squared_error: 1.4809 - val_loss: 2.2892 - val_root_mean_squared_error: 1.5130\n",
            "Epoch 29/100\n",
            "1487/1487 [==============================] - 6s 4ms/step - loss: 2.1870 - root_mean_squared_error: 1.4789 - val_loss: 2.4963 - val_root_mean_squared_error: 1.5800\n",
            "Epoch 30/100\n",
            "1487/1487 [==============================] - 6s 4ms/step - loss: 2.1835 - root_mean_squared_error: 1.4777 - val_loss: 2.5280 - val_root_mean_squared_error: 1.5900\n",
            "Epoch 31/100\n",
            "1487/1487 [==============================] - 6s 4ms/step - loss: 2.1259 - root_mean_squared_error: 1.4580 - val_loss: 2.2506 - val_root_mean_squared_error: 1.5002\n",
            "Epoch 32/100\n",
            "1487/1487 [==============================] - 7s 4ms/step - loss: 2.1274 - root_mean_squared_error: 1.4586 - val_loss: 2.3498 - val_root_mean_squared_error: 1.5329\n",
            "Epoch 33/100\n",
            "1487/1487 [==============================] - 7s 5ms/step - loss: 2.1358 - root_mean_squared_error: 1.4614 - val_loss: 2.3283 - val_root_mean_squared_error: 1.5259\n",
            "Epoch 34/100\n",
            "1487/1487 [==============================] - 7s 4ms/step - loss: 2.0742 - root_mean_squared_error: 1.4402 - val_loss: 2.4954 - val_root_mean_squared_error: 1.5797\n",
            "Epoch 35/100\n",
            "1487/1487 [==============================] - 7s 5ms/step - loss: 2.0450 - root_mean_squared_error: 1.4300 - val_loss: 2.3226 - val_root_mean_squared_error: 1.5240\n",
            "Epoch 36/100\n",
            "1487/1487 [==============================] - 7s 4ms/step - loss: 2.0276 - root_mean_squared_error: 1.4239 - val_loss: 2.3040 - val_root_mean_squared_error: 1.5179\n",
            "Epoch 37/100\n",
            "1487/1487 [==============================] - 7s 4ms/step - loss: 2.0618 - root_mean_squared_error: 1.4359 - val_loss: 2.1985 - val_root_mean_squared_error: 1.4827\n",
            "Epoch 38/100\n",
            "1487/1487 [==============================] - 7s 4ms/step - loss: 2.0855 - root_mean_squared_error: 1.4441 - val_loss: 2.2571 - val_root_mean_squared_error: 1.5024\n",
            "Epoch 39/100\n",
            "1487/1487 [==============================] - 6s 4ms/step - loss: 2.0154 - root_mean_squared_error: 1.4196 - val_loss: 2.2601 - val_root_mean_squared_error: 1.5034\n",
            "Epoch 40/100\n",
            "1487/1487 [==============================] - 7s 5ms/step - loss: 1.9778 - root_mean_squared_error: 1.4063 - val_loss: 2.5709 - val_root_mean_squared_error: 1.6034\n",
            "Epoch 41/100\n",
            "1487/1487 [==============================] - 7s 5ms/step - loss: 1.9342 - root_mean_squared_error: 1.3908 - val_loss: 2.2812 - val_root_mean_squared_error: 1.5104\n",
            "Epoch 42/100\n",
            "1487/1487 [==============================] - 7s 4ms/step - loss: 1.9493 - root_mean_squared_error: 1.3962 - val_loss: 2.2995 - val_root_mean_squared_error: 1.5164\n",
            "Epoch 43/100\n",
            "1487/1487 [==============================] - 7s 4ms/step - loss: 1.9759 - root_mean_squared_error: 1.4057 - val_loss: 2.2314 - val_root_mean_squared_error: 1.4938\n",
            "Epoch 44/100\n",
            "1487/1487 [==============================] - 7s 4ms/step - loss: 1.9307 - root_mean_squared_error: 1.3895 - val_loss: 2.3650 - val_root_mean_squared_error: 1.5379\n",
            "Epoch 45/100\n",
            "1487/1487 [==============================] - 7s 4ms/step - loss: 1.9437 - root_mean_squared_error: 1.3942 - val_loss: 2.1264 - val_root_mean_squared_error: 1.4582\n",
            "Epoch 46/100\n",
            "1487/1487 [==============================] - 7s 4ms/step - loss: 1.8873 - root_mean_squared_error: 1.3738 - val_loss: 2.1840 - val_root_mean_squared_error: 1.4778\n",
            "Epoch 47/100\n",
            "1487/1487 [==============================] - 7s 4ms/step - loss: 1.9209 - root_mean_squared_error: 1.3860 - val_loss: 2.0876 - val_root_mean_squared_error: 1.4448\n",
            "Epoch 48/100\n",
            "1487/1487 [==============================] - 6s 4ms/step - loss: 1.8761 - root_mean_squared_error: 1.3697 - val_loss: 2.2129 - val_root_mean_squared_error: 1.4876\n",
            "Epoch 49/100\n",
            "1487/1487 [==============================] - 7s 4ms/step - loss: 1.8935 - root_mean_squared_error: 1.3761 - val_loss: 2.0561 - val_root_mean_squared_error: 1.4339\n",
            "Epoch 50/100\n",
            "1487/1487 [==============================] - 7s 4ms/step - loss: 1.8330 - root_mean_squared_error: 1.3539 - val_loss: 2.0266 - val_root_mean_squared_error: 1.4236\n",
            "Epoch 51/100\n",
            "1487/1487 [==============================] - 7s 4ms/step - loss: 1.8469 - root_mean_squared_error: 1.3590 - val_loss: 2.3489 - val_root_mean_squared_error: 1.5326\n",
            "Epoch 52/100\n",
            "1487/1487 [==============================] - 7s 4ms/step - loss: 1.8499 - root_mean_squared_error: 1.3601 - val_loss: 2.0070 - val_root_mean_squared_error: 1.4167\n",
            "Epoch 53/100\n",
            "1487/1487 [==============================] - 6s 4ms/step - loss: 1.7972 - root_mean_squared_error: 1.3406 - val_loss: 2.2352 - val_root_mean_squared_error: 1.4951\n",
            "Epoch 54/100\n",
            "1487/1487 [==============================] - 7s 4ms/step - loss: 1.8285 - root_mean_squared_error: 1.3522 - val_loss: 2.2261 - val_root_mean_squared_error: 1.4920\n",
            "Epoch 55/100\n",
            "1487/1487 [==============================] - 6s 4ms/step - loss: 1.7738 - root_mean_squared_error: 1.3318 - val_loss: 2.1972 - val_root_mean_squared_error: 1.4823\n",
            "Epoch 56/100\n",
            "1487/1487 [==============================] - 6s 4ms/step - loss: 1.7675 - root_mean_squared_error: 1.3295 - val_loss: 2.0482 - val_root_mean_squared_error: 1.4312\n",
            "Epoch 57/100\n",
            "1487/1487 [==============================] - 6s 4ms/step - loss: 1.8265 - root_mean_squared_error: 1.3515 - val_loss: 1.9565 - val_root_mean_squared_error: 1.3987\n",
            "Epoch 58/100\n",
            "1487/1487 [==============================] - 7s 4ms/step - loss: 1.7752 - root_mean_squared_error: 1.3324 - val_loss: 2.0350 - val_root_mean_squared_error: 1.4265\n",
            "Epoch 59/100\n",
            "1487/1487 [==============================] - 6s 4ms/step - loss: 1.7453 - root_mean_squared_error: 1.3211 - val_loss: 2.0494 - val_root_mean_squared_error: 1.4316\n",
            "Epoch 60/100\n",
            "1487/1487 [==============================] - 6s 4ms/step - loss: 1.7710 - root_mean_squared_error: 1.3308 - val_loss: 2.1660 - val_root_mean_squared_error: 1.4717\n",
            "Epoch 61/100\n",
            "1487/1487 [==============================] - 6s 4ms/step - loss: 1.7554 - root_mean_squared_error: 1.3249 - val_loss: 2.0505 - val_root_mean_squared_error: 1.4320\n",
            "Epoch 62/100\n",
            "1487/1487 [==============================] - 7s 4ms/step - loss: 1.7051 - root_mean_squared_error: 1.3058 - val_loss: 2.0095 - val_root_mean_squared_error: 1.4176\n",
            "Epoch 63/100\n",
            "1487/1487 [==============================] - 7s 4ms/step - loss: 1.7228 - root_mean_squared_error: 1.3126 - val_loss: 2.1214 - val_root_mean_squared_error: 1.4565\n",
            "Epoch 64/100\n",
            "1487/1487 [==============================] - 7s 4ms/step - loss: 1.7263 - root_mean_squared_error: 1.3139 - val_loss: 2.1987 - val_root_mean_squared_error: 1.4828\n",
            "Epoch 65/100\n",
            "1487/1487 [==============================] - 6s 4ms/step - loss: 1.7275 - root_mean_squared_error: 1.3144 - val_loss: 2.1452 - val_root_mean_squared_error: 1.4647\n",
            "Epoch 66/100\n",
            "1487/1487 [==============================] - 6s 4ms/step - loss: 1.6793 - root_mean_squared_error: 1.2959 - val_loss: 2.1901 - val_root_mean_squared_error: 1.4799\n",
            "Epoch 67/100\n",
            "1487/1487 [==============================] - 8s 5ms/step - loss: 1.7212 - root_mean_squared_error: 1.3120 - val_loss: 1.9263 - val_root_mean_squared_error: 1.3879\n",
            "Epoch 68/100\n",
            "1487/1487 [==============================] - 6s 4ms/step - loss: 1.6590 - root_mean_squared_error: 1.2880 - val_loss: 2.1593 - val_root_mean_squared_error: 1.4695\n",
            "Epoch 69/100\n",
            "1487/1487 [==============================] - 7s 4ms/step - loss: 1.6516 - root_mean_squared_error: 1.2852 - val_loss: 1.9372 - val_root_mean_squared_error: 1.3918\n",
            "Epoch 70/100\n",
            "1487/1487 [==============================] - 6s 4ms/step - loss: 1.6523 - root_mean_squared_error: 1.2854 - val_loss: 1.9208 - val_root_mean_squared_error: 1.3859\n",
            "Epoch 71/100\n",
            "1487/1487 [==============================] - 6s 4ms/step - loss: 1.6823 - root_mean_squared_error: 1.2970 - val_loss: 1.8464 - val_root_mean_squared_error: 1.3588\n",
            "Epoch 72/100\n",
            "1487/1487 [==============================] - 6s 4ms/step - loss: 1.6365 - root_mean_squared_error: 1.2793 - val_loss: 2.0368 - val_root_mean_squared_error: 1.4271\n",
            "Epoch 73/100\n",
            "1487/1487 [==============================] - 6s 4ms/step - loss: 1.6569 - root_mean_squared_error: 1.2872 - val_loss: 2.0047 - val_root_mean_squared_error: 1.4159\n",
            "Epoch 74/100\n",
            "1487/1487 [==============================] - 6s 4ms/step - loss: 1.6291 - root_mean_squared_error: 1.2764 - val_loss: 2.0389 - val_root_mean_squared_error: 1.4279\n",
            "Epoch 75/100\n",
            "1487/1487 [==============================] - 6s 4ms/step - loss: 1.6401 - root_mean_squared_error: 1.2807 - val_loss: 1.8548 - val_root_mean_squared_error: 1.3619\n",
            "Epoch 76/100\n",
            "1487/1487 [==============================] - 6s 4ms/step - loss: 1.6444 - root_mean_squared_error: 1.2824 - val_loss: 1.9096 - val_root_mean_squared_error: 1.3819\n",
            "Epoch 77/100\n",
            "1487/1487 [==============================] - 7s 4ms/step - loss: 1.6177 - root_mean_squared_error: 1.2719 - val_loss: 1.8855 - val_root_mean_squared_error: 1.3731\n",
            "Epoch 78/100\n",
            "1487/1487 [==============================] - 6s 4ms/step - loss: 1.6082 - root_mean_squared_error: 1.2681 - val_loss: 1.8793 - val_root_mean_squared_error: 1.3709\n",
            "Epoch 79/100\n",
            "1487/1487 [==============================] - 6s 4ms/step - loss: 1.6083 - root_mean_squared_error: 1.2682 - val_loss: 2.1461 - val_root_mean_squared_error: 1.4650\n",
            "Epoch 80/100\n",
            "1487/1487 [==============================] - 6s 4ms/step - loss: 1.6144 - root_mean_squared_error: 1.2706 - val_loss: 1.9606 - val_root_mean_squared_error: 1.4002\n",
            "Epoch 81/100\n",
            "1487/1487 [==============================] - 6s 4ms/step - loss: 1.5956 - root_mean_squared_error: 1.2632 - val_loss: 1.8789 - val_root_mean_squared_error: 1.3707\n",
            "Epoch 82/100\n",
            "1487/1487 [==============================] - 6s 4ms/step - loss: 1.6388 - root_mean_squared_error: 1.2801 - val_loss: 2.0032 - val_root_mean_squared_error: 1.4154\n",
            "Epoch 83/100\n",
            "1487/1487 [==============================] - 6s 4ms/step - loss: 1.5920 - root_mean_squared_error: 1.2617 - val_loss: 1.9009 - val_root_mean_squared_error: 1.3787\n",
            "Epoch 84/100\n",
            "1487/1487 [==============================] - 6s 4ms/step - loss: 1.5294 - root_mean_squared_error: 1.2367 - val_loss: 1.9452 - val_root_mean_squared_error: 1.3947\n",
            "Epoch 85/100\n",
            "1487/1487 [==============================] - 6s 4ms/step - loss: 1.5672 - root_mean_squared_error: 1.2519 - val_loss: 2.0294 - val_root_mean_squared_error: 1.4246\n",
            "Epoch 86/100\n",
            "1487/1487 [==============================] - 7s 4ms/step - loss: 1.5582 - root_mean_squared_error: 1.2483 - val_loss: 1.9521 - val_root_mean_squared_error: 1.3972\n",
            "Epoch 87/100\n",
            "1487/1487 [==============================] - 6s 4ms/step - loss: 1.5660 - root_mean_squared_error: 1.2514 - val_loss: 1.9000 - val_root_mean_squared_error: 1.3784\n",
            "Epoch 88/100\n",
            "1487/1487 [==============================] - 6s 4ms/step - loss: 1.5776 - root_mean_squared_error: 1.2560 - val_loss: 1.9746 - val_root_mean_squared_error: 1.4052\n",
            "Epoch 89/100\n",
            "1487/1487 [==============================] - 6s 4ms/step - loss: 1.5923 - root_mean_squared_error: 1.2619 - val_loss: 1.9123 - val_root_mean_squared_error: 1.3829\n",
            "Epoch 90/100\n",
            "1487/1487 [==============================] - 6s 4ms/step - loss: 1.5771 - root_mean_squared_error: 1.2558 - val_loss: 1.9381 - val_root_mean_squared_error: 1.3922\n",
            "Epoch 91/100\n",
            "1487/1487 [==============================] - 6s 4ms/step - loss: 1.5436 - root_mean_squared_error: 1.2424 - val_loss: 1.8780 - val_root_mean_squared_error: 1.3704\n",
            "Epoch 92/100\n",
            "1487/1487 [==============================] - 6s 4ms/step - loss: 1.5394 - root_mean_squared_error: 1.2407 - val_loss: 1.7630 - val_root_mean_squared_error: 1.3278\n",
            "Epoch 93/100\n",
            "1487/1487 [==============================] - 6s 4ms/step - loss: 1.5105 - root_mean_squared_error: 1.2290 - val_loss: 1.9935 - val_root_mean_squared_error: 1.4119\n",
            "Epoch 94/100\n",
            "1487/1487 [==============================] - 6s 4ms/step - loss: 1.5635 - root_mean_squared_error: 1.2504 - val_loss: 1.9637 - val_root_mean_squared_error: 1.4013\n",
            "Epoch 95/100\n",
            "1487/1487 [==============================] - 6s 4ms/step - loss: 1.5178 - root_mean_squared_error: 1.2320 - val_loss: 1.8730 - val_root_mean_squared_error: 1.3686\n",
            "Epoch 96/100\n",
            "1487/1487 [==============================] - 6s 4ms/step - loss: 1.5254 - root_mean_squared_error: 1.2351 - val_loss: 2.1340 - val_root_mean_squared_error: 1.4608\n",
            "Epoch 97/100\n",
            "1487/1487 [==============================] - 7s 4ms/step - loss: 1.5520 - root_mean_squared_error: 1.2458 - val_loss: 1.9551 - val_root_mean_squared_error: 1.3983\n",
            "Epoch 98/100\n",
            "1487/1487 [==============================] - 6s 4ms/step - loss: 1.5384 - root_mean_squared_error: 1.2403 - val_loss: 1.7908 - val_root_mean_squared_error: 1.3382\n",
            "Epoch 99/100\n",
            "1487/1487 [==============================] - 6s 4ms/step - loss: 1.5279 - root_mean_squared_error: 1.2361 - val_loss: 1.8353 - val_root_mean_squared_error: 1.3547\n",
            "Epoch 100/100\n",
            "1487/1487 [==============================] - 6s 4ms/step - loss: 1.4926 - root_mean_squared_error: 1.2217 - val_loss: 1.8407 - val_root_mean_squared_error: 1.3567\n"
          ]
        }
      ]
    },
    {
      "cell_type": "markdown",
      "source": [
        "Evaluate Model:"
      ],
      "metadata": {
        "id": "ffU9dDNGdJOc"
      }
    },
    {
      "cell_type": "code",
      "source": [
        "fc_nn_dropout.evaluate()"
      ],
      "metadata": {
        "id": "uzmjmlqhdJOd",
        "outputId": "651b2609-fed2-4060-8d1e-b96328069835",
        "colab": {
          "base_uri": "https://localhost:8080/",
          "height": 680
        }
      },
      "execution_count": 10,
      "outputs": [
        {
          "output_type": "stream",
          "name": "stdout",
          "text": [
            "465/465 [==============================] - 1s 2ms/step - loss: 1.8914 - root_mean_squared_error: 1.3753\n",
            "\n",
            "Test root_mean_squared_error: 1.3752825260162354\n",
            "\n",
            "Test loss: 1.891402006149292\n"
          ]
        },
        {
          "output_type": "display_data",
          "data": {
            "text/plain": [
              "<Figure size 432x288 with 1 Axes>"
            ],
            "image/png": "[encoded data removed]"
          },
          "metadata": {
            "needs_background": "light"
          }
        },
        {
          "output_type": "display_data",
          "data": {
            "text/plain": [
              "<Figure size 432x288 with 1 Axes>"
            ],
            "image/png": "[encoded data removed]"
          },
          "metadata": {
            "needs_background": "light"
          }
        },
        {
          "output_type": "execute_result",
          "data": {
            "text/plain": [
              "(1.3752825260162354, 1.891402006149292)"
            ]
          },
          "metadata": {},
          "execution_count": 10
        }
      ]
    },
    {
      "cell_type": "markdown",
      "source": [
        "# FC NN - BatchNormalization"
      ],
      "metadata": {
        "id": "PpV3G8F0dGZT"
      }
    },
    {
      "cell_type": "markdown",
      "source": [
        "Configuration for NN:"
      ],
      "metadata": {
        "id": "qRvX_kQBdGZU"
      }
    },
    {
      "cell_type": "code",
      "source": [
        "from tensorflow import keras\n",
        "\n",
        "nn_configuration = {\n",
        "    'epochs': epochs,  # number of epochs\n",
        "    'batch_size': 32,  # size of the batch\n",
        "    'verbose': 1,  # set the training phase as verbose\n",
        "    'optimizer': keras.optimizers.Adam(clipvalue=1.0),  # optimizer\n",
        "    'metrics': [\"root_mean_squared_error\"],\n",
        "    'loss': 'mean_squared_error',  # loss\n",
        "    'val_split': 0.2,  # validation split: percentage of the training data used for evaluating the loss function\n",
        "    'n_input': 300,\n",
        "    'input_shape': (300,),\n",
        "    'n_output': 1  # number of outputs = mfd\n",
        "}"
      ],
      "metadata": {
        "id": "y7fFTPfKdGZV"
      },
      "execution_count": 11,
      "outputs": []
    },
    {
      "cell_type": "markdown",
      "source": [
        "Create Model:"
      ],
      "metadata": {
        "id": "e0S2_UXPdGZV"
      }
    },
    {
      "cell_type": "code",
      "source": [
        "from gaze_predictor.gaze_predictor.fully_connected import FCNetworkBatchNormalization\n",
        "\n",
        "fc_nn_batch_norm = gaze_predictor.gaze_predictor.fully_connected.FCNetworkBatchNormalization(name='fc_nn_batch_norm', configuration = nn_configuration)\n",
        "fc_nn_batch_norm.create_model()"
      ],
      "metadata": {
        "colab": {
          "base_uri": "https://localhost:8080/"
        },
        "outputId": "e517a9af-d85c-433d-9f5a-f4b1cfda9205",
        "id": "MkRQvn2KdGZV"
      },
      "execution_count": 12,
      "outputs": [
        {
          "output_type": "stream",
          "name": "stdout",
          "text": [
            "Created model for fc_nn_batch_norm:\n",
            "Model: \"sequential_2\"\n",
            "_________________________________________________________________\n",
            " Layer (type)                Output Shape              Param #   \n",
            "=================================================================\n",
            " Input (Dense)               (None, 300)               90300     \n",
            "                                                                 \n",
            " Hidden1 (Dense)             (None, 256)               77056     \n",
            "                                                                 \n",
            " batch_normalization (BatchN  (None, 256)              1024      \n",
            " ormalization)                                                   \n",
            "                                                                 \n",
            " Hidden2 (Dense)             (None, 16)                4112      \n",
            "                                                                 \n",
            " batch_normalization_1 (Batc  (None, 16)               64        \n",
            " hNormalization)                                                 \n",
            "                                                                 \n",
            " Output (Dense)              (None, 1)                 17        \n",
            "                                                                 \n",
            "=================================================================\n",
            "Total params: 172,573\n",
            "Trainable params: 172,029\n",
            "Non-trainable params: 544\n",
            "_________________________________________________________________\n",
            "None\n"
          ]
        }
      ]
    },
    {
      "cell_type": "markdown",
      "source": [
        "Train Model:"
      ],
      "metadata": {
        "id": "RaylZoGAdGZW"
      }
    },
    {
      "cell_type": "code",
      "source": [
        "fc_nn_batch_norm.train()"
      ],
      "metadata": {
        "colab": {
          "base_uri": "https://localhost:8080/"
        },
        "outputId": "0426623f-516d-41a0-8e8b-4e954964d678",
        "id": "ZTQ_mqgddGZW"
      },
      "execution_count": 13,
      "outputs": [
        {
          "output_type": "stream",
          "name": "stdout",
          "text": [
            "Epoch 1/100\n",
            "1487/1487 [==============================] - 9s 5ms/step - loss: 5.5256 - root_mean_squared_error: 2.3507 - val_loss: 4.6612 - val_root_mean_squared_error: 2.1590\n",
            "Epoch 2/100\n",
            "1487/1487 [==============================] - 7s 5ms/step - loss: 4.3796 - root_mean_squared_error: 2.0928 - val_loss: 5.2642 - val_root_mean_squared_error: 2.2944\n",
            "Epoch 3/100\n",
            "1487/1487 [==============================] - 7s 5ms/step - loss: 4.2738 - root_mean_squared_error: 2.0673 - val_loss: 4.5002 - val_root_mean_squared_error: 2.1214\n",
            "Epoch 4/100\n",
            "1487/1487 [==============================] - 7s 5ms/step - loss: 4.1190 - root_mean_squared_error: 2.0295 - val_loss: 4.4740 - val_root_mean_squared_error: 2.1152\n",
            "Epoch 5/100\n",
            "1487/1487 [==============================] - 7s 5ms/step - loss: 4.0862 - root_mean_squared_error: 2.0214 - val_loss: 5.1607 - val_root_mean_squared_error: 2.2717\n",
            "Epoch 6/100\n",
            "1487/1487 [==============================] - 7s 5ms/step - loss: 4.0926 - root_mean_squared_error: 2.0230 - val_loss: 25.3735 - val_root_mean_squared_error: 5.0372\n",
            "Epoch 7/100\n",
            "1487/1487 [==============================] - 7s 5ms/step - loss: 3.9636 - root_mean_squared_error: 1.9909 - val_loss: 5.4902 - val_root_mean_squared_error: 2.3431\n",
            "Epoch 8/100\n",
            "1487/1487 [==============================] - 7s 5ms/step - loss: 3.9203 - root_mean_squared_error: 1.9800 - val_loss: 4.4659 - val_root_mean_squared_error: 2.1133\n",
            "Epoch 9/100\n",
            "1487/1487 [==============================] - 7s 4ms/step - loss: 3.8952 - root_mean_squared_error: 1.9736 - val_loss: 4.2291 - val_root_mean_squared_error: 2.0565\n",
            "Epoch 10/100\n",
            "1487/1487 [==============================] - 7s 5ms/step - loss: 3.8246 - root_mean_squared_error: 1.9557 - val_loss: 4.2545 - val_root_mean_squared_error: 2.0626\n",
            "Epoch 11/100\n",
            "1487/1487 [==============================] - 7s 5ms/step - loss: 3.7559 - root_mean_squared_error: 1.9380 - val_loss: 4.5069 - val_root_mean_squared_error: 2.1229\n",
            "Epoch 12/100\n",
            "1487/1487 [==============================] - 7s 5ms/step - loss: 3.6770 - root_mean_squared_error: 1.9175 - val_loss: 5.2707 - val_root_mean_squared_error: 2.2958\n",
            "Epoch 13/100\n",
            "1487/1487 [==============================] - 7s 5ms/step - loss: 3.6145 - root_mean_squared_error: 1.9012 - val_loss: 4.4292 - val_root_mean_squared_error: 2.1046\n",
            "Epoch 14/100\n",
            "1487/1487 [==============================] - 7s 5ms/step - loss: 3.5186 - root_mean_squared_error: 1.8758 - val_loss: 6.2033 - val_root_mean_squared_error: 2.4906\n",
            "Epoch 15/100\n",
            "1487/1487 [==============================] - 7s 5ms/step - loss: 3.4464 - root_mean_squared_error: 1.8564 - val_loss: 13.9272 - val_root_mean_squared_error: 3.7319\n",
            "Epoch 16/100\n",
            "1487/1487 [==============================] - 7s 5ms/step - loss: 3.3633 - root_mean_squared_error: 1.8339 - val_loss: 5.1209 - val_root_mean_squared_error: 2.2630\n",
            "Epoch 17/100\n",
            "1487/1487 [==============================] - 7s 5ms/step - loss: 3.2573 - root_mean_squared_error: 1.8048 - val_loss: 4.1235 - val_root_mean_squared_error: 2.0306\n",
            "Epoch 18/100\n",
            "1487/1487 [==============================] - 7s 5ms/step - loss: 3.1827 - root_mean_squared_error: 1.7840 - val_loss: 4.2064 - val_root_mean_squared_error: 2.0509\n",
            "Epoch 19/100\n",
            "1487/1487 [==============================] - 7s 5ms/step - loss: 3.0961 - root_mean_squared_error: 1.7596 - val_loss: 6.3896 - val_root_mean_squared_error: 2.5278\n",
            "Epoch 20/100\n",
            "1487/1487 [==============================] - 7s 4ms/step - loss: 3.0963 - root_mean_squared_error: 1.7596 - val_loss: 3.8591 - val_root_mean_squared_error: 1.9645\n",
            "Epoch 21/100\n",
            "1487/1487 [==============================] - 7s 5ms/step - loss: 2.9912 - root_mean_squared_error: 1.7295 - val_loss: 3.8625 - val_root_mean_squared_error: 1.9653\n",
            "Epoch 22/100\n",
            "1487/1487 [==============================] - 7s 5ms/step - loss: 2.9040 - root_mean_squared_error: 1.7041 - val_loss: 5.6726 - val_root_mean_squared_error: 2.3817\n",
            "Epoch 23/100\n",
            "1487/1487 [==============================] - 7s 5ms/step - loss: 2.8631 - root_mean_squared_error: 1.6921 - val_loss: 7.3491 - val_root_mean_squared_error: 2.7109\n",
            "Epoch 24/100\n",
            "1487/1487 [==============================] - 7s 5ms/step - loss: 2.7869 - root_mean_squared_error: 1.6694 - val_loss: 7.2631 - val_root_mean_squared_error: 2.6950\n",
            "Epoch 25/100\n",
            "1487/1487 [==============================] - 7s 5ms/step - loss: 2.7300 - root_mean_squared_error: 1.6523 - val_loss: 7.7885 - val_root_mean_squared_error: 2.7908\n",
            "Epoch 26/100\n",
            "1487/1487 [==============================] - 7s 5ms/step - loss: 2.7282 - root_mean_squared_error: 1.6517 - val_loss: 3.6407 - val_root_mean_squared_error: 1.9081\n",
            "Epoch 27/100\n",
            "1487/1487 [==============================] - 7s 5ms/step - loss: 2.6627 - root_mean_squared_error: 1.6318 - val_loss: 4.9549 - val_root_mean_squared_error: 2.2260\n",
            "Epoch 28/100\n",
            "1487/1487 [==============================] - 7s 5ms/step - loss: 2.5481 - root_mean_squared_error: 1.5963 - val_loss: 6.7311 - val_root_mean_squared_error: 2.5944\n",
            "Epoch 29/100\n",
            "1487/1487 [==============================] - 7s 5ms/step - loss: 2.4851 - root_mean_squared_error: 1.5764 - val_loss: 3.0122 - val_root_mean_squared_error: 1.7356\n",
            "Epoch 30/100\n",
            "1487/1487 [==============================] - 7s 5ms/step - loss: 2.4499 - root_mean_squared_error: 1.5652 - val_loss: 3.0265 - val_root_mean_squared_error: 1.7397\n",
            "Epoch 31/100\n",
            "1487/1487 [==============================] - 7s 5ms/step - loss: 2.3928 - root_mean_squared_error: 1.5469 - val_loss: 2.9454 - val_root_mean_squared_error: 1.7162\n",
            "Epoch 32/100\n",
            "1487/1487 [==============================] - 8s 5ms/step - loss: 2.3417 - root_mean_squared_error: 1.5303 - val_loss: 2.7691 - val_root_mean_squared_error: 1.6641\n",
            "Epoch 33/100\n",
            "1487/1487 [==============================] - 7s 5ms/step - loss: 2.2795 - root_mean_squared_error: 1.5098 - val_loss: 2.7427 - val_root_mean_squared_error: 1.6561\n",
            "Epoch 34/100\n",
            "1487/1487 [==============================] - 7s 5ms/step - loss: 2.2639 - root_mean_squared_error: 1.5046 - val_loss: 2.7400 - val_root_mean_squared_error: 1.6553\n",
            "Epoch 35/100\n",
            "1487/1487 [==============================] - 7s 5ms/step - loss: 2.1924 - root_mean_squared_error: 1.4807 - val_loss: 2.7665 - val_root_mean_squared_error: 1.6633\n",
            "Epoch 36/100\n",
            "1487/1487 [==============================] - 7s 5ms/step - loss: 2.1659 - root_mean_squared_error: 1.4717 - val_loss: 2.7466 - val_root_mean_squared_error: 1.6573\n",
            "Epoch 37/100\n",
            "1487/1487 [==============================] - 7s 5ms/step - loss: 2.1626 - root_mean_squared_error: 1.4706 - val_loss: 2.5916 - val_root_mean_squared_error: 1.6099\n",
            "Epoch 38/100\n",
            "1487/1487 [==============================] - 7s 5ms/step - loss: 2.0606 - root_mean_squared_error: 1.4355 - val_loss: 2.6313 - val_root_mean_squared_error: 1.6221\n",
            "Epoch 39/100\n",
            "1487/1487 [==============================] - 7s 5ms/step - loss: 2.0629 - root_mean_squared_error: 1.4363 - val_loss: 2.6661 - val_root_mean_squared_error: 1.6328\n",
            "Epoch 40/100\n",
            "1487/1487 [==============================] - 7s 5ms/step - loss: 2.0370 - root_mean_squared_error: 1.4273 - val_loss: 2.5890 - val_root_mean_squared_error: 1.6090\n",
            "Epoch 41/100\n",
            "1487/1487 [==============================] - 7s 5ms/step - loss: 1.9877 - root_mean_squared_error: 1.4099 - val_loss: 2.4743 - val_root_mean_squared_error: 1.5730\n",
            "Epoch 42/100\n",
            "1487/1487 [==============================] - 7s 5ms/step - loss: 1.9936 - root_mean_squared_error: 1.4119 - val_loss: 2.3822 - val_root_mean_squared_error: 1.5434\n",
            "Epoch 43/100\n",
            "1487/1487 [==============================] - 7s 5ms/step - loss: 1.9666 - root_mean_squared_error: 1.4023 - val_loss: 2.5599 - val_root_mean_squared_error: 1.6000\n",
            "Epoch 44/100\n",
            "1487/1487 [==============================] - 7s 5ms/step - loss: 1.9344 - root_mean_squared_error: 1.3908 - val_loss: 2.6779 - val_root_mean_squared_error: 1.6364\n",
            "Epoch 45/100\n",
            "1487/1487 [==============================] - 7s 5ms/step - loss: 1.9432 - root_mean_squared_error: 1.3940 - val_loss: 2.5468 - val_root_mean_squared_error: 1.5959\n",
            "Epoch 46/100\n",
            "1487/1487 [==============================] - 7s 5ms/step - loss: 1.8920 - root_mean_squared_error: 1.3755 - val_loss: 2.3908 - val_root_mean_squared_error: 1.5462\n",
            "Epoch 47/100\n",
            "1487/1487 [==============================] - 7s 4ms/step - loss: 1.8786 - root_mean_squared_error: 1.3706 - val_loss: 2.8028 - val_root_mean_squared_error: 1.6742\n",
            "Epoch 48/100\n",
            "1487/1487 [==============================] - 7s 5ms/step - loss: 1.8639 - root_mean_squared_error: 1.3653 - val_loss: 2.4176 - val_root_mean_squared_error: 1.5549\n",
            "Epoch 49/100\n",
            "1487/1487 [==============================] - 7s 5ms/step - loss: 1.8548 - root_mean_squared_error: 1.3619 - val_loss: 2.3444 - val_root_mean_squared_error: 1.5312\n",
            "Epoch 50/100\n",
            "1487/1487 [==============================] - 7s 5ms/step - loss: 1.7922 - root_mean_squared_error: 1.3387 - val_loss: 2.5568 - val_root_mean_squared_error: 1.5990\n",
            "Epoch 51/100\n",
            "1487/1487 [==============================] - 7s 5ms/step - loss: 1.7832 - root_mean_squared_error: 1.3354 - val_loss: 2.3096 - val_root_mean_squared_error: 1.5197\n",
            "Epoch 52/100\n",
            "1487/1487 [==============================] - 7s 5ms/step - loss: 1.8203 - root_mean_squared_error: 1.3492 - val_loss: 2.3001 - val_root_mean_squared_error: 1.5166\n",
            "Epoch 53/100\n",
            "1487/1487 [==============================] - 7s 4ms/step - loss: 1.8048 - root_mean_squared_error: 1.3434 - val_loss: 2.3042 - val_root_mean_squared_error: 1.5180\n",
            "Epoch 54/100\n",
            "1487/1487 [==============================] - 7s 5ms/step - loss: 1.7503 - root_mean_squared_error: 1.3230 - val_loss: 2.3823 - val_root_mean_squared_error: 1.5435\n",
            "Epoch 55/100\n",
            "1487/1487 [==============================] - 7s 5ms/step - loss: 1.7031 - root_mean_squared_error: 1.3050 - val_loss: 2.4944 - val_root_mean_squared_error: 1.5794\n",
            "Epoch 56/100\n",
            "1487/1487 [==============================] - 7s 4ms/step - loss: 1.7923 - root_mean_squared_error: 1.3388 - val_loss: 2.3041 - val_root_mean_squared_error: 1.5179\n",
            "Epoch 57/100\n",
            "1487/1487 [==============================] - 7s 5ms/step - loss: 1.7200 - root_mean_squared_error: 1.3115 - val_loss: 2.3146 - val_root_mean_squared_error: 1.5214\n",
            "Epoch 58/100\n",
            "1487/1487 [==============================] - 7s 5ms/step - loss: 1.7227 - root_mean_squared_error: 1.3125 - val_loss: 2.3849 - val_root_mean_squared_error: 1.5443\n",
            "Epoch 59/100\n",
            "1487/1487 [==============================] - 7s 5ms/step - loss: 1.6839 - root_mean_squared_error: 1.2976 - val_loss: 2.1510 - val_root_mean_squared_error: 1.4666\n",
            "Epoch 60/100\n",
            "1487/1487 [==============================] - 7s 5ms/step - loss: 1.7040 - root_mean_squared_error: 1.3054 - val_loss: 2.1781 - val_root_mean_squared_error: 1.4758\n",
            "Epoch 61/100\n",
            "1487/1487 [==============================] - 7s 5ms/step - loss: 1.6548 - root_mean_squared_error: 1.2864 - val_loss: 2.1754 - val_root_mean_squared_error: 1.4749\n",
            "Epoch 62/100\n",
            "1487/1487 [==============================] - 7s 5ms/step - loss: 1.6410 - root_mean_squared_error: 1.2810 - val_loss: 2.3519 - val_root_mean_squared_error: 1.5336\n",
            "Epoch 63/100\n",
            "1487/1487 [==============================] - 8s 5ms/step - loss: 1.6296 - root_mean_squared_error: 1.2766 - val_loss: 2.3902 - val_root_mean_squared_error: 1.5460\n",
            "Epoch 64/100\n",
            "1487/1487 [==============================] - 7s 5ms/step - loss: 1.6338 - root_mean_squared_error: 1.2782 - val_loss: 2.1679 - val_root_mean_squared_error: 1.4724\n",
            "Epoch 65/100\n",
            "1487/1487 [==============================] - 7s 5ms/step - loss: 1.5875 - root_mean_squared_error: 1.2600 - val_loss: 2.1945 - val_root_mean_squared_error: 1.4814\n",
            "Epoch 66/100\n",
            "1487/1487 [==============================] - 7s 5ms/step - loss: 1.5820 - root_mean_squared_error: 1.2578 - val_loss: 2.1295 - val_root_mean_squared_error: 1.4593\n",
            "Epoch 67/100\n",
            "1487/1487 [==============================] - 7s 5ms/step - loss: 1.6095 - root_mean_squared_error: 1.2687 - val_loss: 2.1769 - val_root_mean_squared_error: 1.4754\n",
            "Epoch 68/100\n",
            "1487/1487 [==============================] - 7s 5ms/step - loss: 1.5700 - root_mean_squared_error: 1.2530 - val_loss: 2.0671 - val_root_mean_squared_error: 1.4377\n",
            "Epoch 69/100\n",
            "1487/1487 [==============================] - 7s 5ms/step - loss: 1.5566 - root_mean_squared_error: 1.2476 - val_loss: 2.3531 - val_root_mean_squared_error: 1.5340\n",
            "Epoch 70/100\n",
            "1487/1487 [==============================] - 7s 5ms/step - loss: 1.5663 - root_mean_squared_error: 1.2515 - val_loss: 2.3008 - val_root_mean_squared_error: 1.5168\n",
            "Epoch 71/100\n",
            "1487/1487 [==============================] - 7s 5ms/step - loss: 1.5645 - root_mean_squared_error: 1.2508 - val_loss: 2.0208 - val_root_mean_squared_error: 1.4215\n",
            "Epoch 72/100\n",
            "1487/1487 [==============================] - 7s 5ms/step - loss: 1.5386 - root_mean_squared_error: 1.2404 - val_loss: 2.0543 - val_root_mean_squared_error: 1.4333\n",
            "Epoch 73/100\n",
            "1487/1487 [==============================] - 7s 5ms/step - loss: 1.5220 - root_mean_squared_error: 1.2337 - val_loss: 2.1277 - val_root_mean_squared_error: 1.4587\n",
            "Epoch 74/100\n",
            "1487/1487 [==============================] - 7s 5ms/step - loss: 1.5240 - root_mean_squared_error: 1.2345 - val_loss: 2.2733 - val_root_mean_squared_error: 1.5078\n",
            "Epoch 75/100\n",
            "1487/1487 [==============================] - 7s 5ms/step - loss: 1.5152 - root_mean_squared_error: 1.2309 - val_loss: 2.0474 - val_root_mean_squared_error: 1.4309\n",
            "Epoch 76/100\n",
            "1487/1487 [==============================] - 7s 5ms/step - loss: 1.5221 - root_mean_squared_error: 1.2337 - val_loss: 2.0637 - val_root_mean_squared_error: 1.4366\n",
            "Epoch 77/100\n",
            "1487/1487 [==============================] - 7s 5ms/step - loss: 1.5045 - root_mean_squared_error: 1.2266 - val_loss: 2.0081 - val_root_mean_squared_error: 1.4171\n",
            "Epoch 78/100\n",
            "1487/1487 [==============================] - 7s 5ms/step - loss: 1.5048 - root_mean_squared_error: 1.2267 - val_loss: 2.0101 - val_root_mean_squared_error: 1.4178\n",
            "Epoch 79/100\n",
            "1487/1487 [==============================] - 7s 5ms/step - loss: 1.4991 - root_mean_squared_error: 1.2244 - val_loss: 2.1889 - val_root_mean_squared_error: 1.4795\n",
            "Epoch 80/100\n",
            "1487/1487 [==============================] - 7s 5ms/step - loss: 1.4766 - root_mean_squared_error: 1.2151 - val_loss: 1.9837 - val_root_mean_squared_error: 1.4085\n",
            "Epoch 81/100\n",
            "1487/1487 [==============================] - 7s 5ms/step - loss: 1.4643 - root_mean_squared_error: 1.2101 - val_loss: 2.0342 - val_root_mean_squared_error: 1.4262\n",
            "Epoch 82/100\n",
            "1487/1487 [==============================] - 7s 5ms/step - loss: 1.4861 - root_mean_squared_error: 1.2190 - val_loss: 2.1053 - val_root_mean_squared_error: 1.4510\n",
            "Epoch 83/100\n",
            "1487/1487 [==============================] - 7s 5ms/step - loss: 1.4720 - root_mean_squared_error: 1.2133 - val_loss: 2.1850 - val_root_mean_squared_error: 1.4782\n",
            "Epoch 84/100\n",
            "1487/1487 [==============================] - 7s 5ms/step - loss: 1.4720 - root_mean_squared_error: 1.2133 - val_loss: 2.1269 - val_root_mean_squared_error: 1.4584\n",
            "Epoch 85/100\n",
            "1487/1487 [==============================] - 7s 5ms/step - loss: 1.4443 - root_mean_squared_error: 1.2018 - val_loss: 2.3214 - val_root_mean_squared_error: 1.5236\n",
            "Epoch 86/100\n",
            "1487/1487 [==============================] - 7s 5ms/step - loss: 1.4655 - root_mean_squared_error: 1.2106 - val_loss: 2.3391 - val_root_mean_squared_error: 1.5294\n",
            "Epoch 87/100\n",
            "1487/1487 [==============================] - 7s 4ms/step - loss: 1.4522 - root_mean_squared_error: 1.2051 - val_loss: 2.1554 - val_root_mean_squared_error: 1.4681\n",
            "Epoch 88/100\n",
            "1487/1487 [==============================] - 7s 5ms/step - loss: 1.4570 - root_mean_squared_error: 1.2071 - val_loss: 2.1066 - val_root_mean_squared_error: 1.4514\n",
            "Epoch 89/100\n",
            "1487/1487 [==============================] - 7s 5ms/step - loss: 1.4619 - root_mean_squared_error: 1.2091 - val_loss: 2.0782 - val_root_mean_squared_error: 1.4416\n",
            "Epoch 90/100\n",
            "1487/1487 [==============================] - 7s 5ms/step - loss: 1.4345 - root_mean_squared_error: 1.1977 - val_loss: 2.0295 - val_root_mean_squared_error: 1.4246\n",
            "Epoch 91/100\n",
            "1487/1487 [==============================] - 7s 5ms/step - loss: 1.4136 - root_mean_squared_error: 1.1889 - val_loss: 2.1641 - val_root_mean_squared_error: 1.4711\n",
            "Epoch 92/100\n",
            "1487/1487 [==============================] - 7s 5ms/step - loss: 1.4201 - root_mean_squared_error: 1.1917 - val_loss: 1.9688 - val_root_mean_squared_error: 1.4031\n",
            "Epoch 93/100\n",
            "1487/1487 [==============================] - 7s 5ms/step - loss: 1.4142 - root_mean_squared_error: 1.1892 - val_loss: 2.0046 - val_root_mean_squared_error: 1.4159\n",
            "Epoch 94/100\n",
            "1487/1487 [==============================] - 8s 5ms/step - loss: 1.3887 - root_mean_squared_error: 1.1784 - val_loss: 1.9293 - val_root_mean_squared_error: 1.3890\n",
            "Epoch 95/100\n",
            "1487/1487 [==============================] - 7s 5ms/step - loss: 1.4036 - root_mean_squared_error: 1.1848 - val_loss: 2.1027 - val_root_mean_squared_error: 1.4501\n",
            "Epoch 96/100\n",
            "1487/1487 [==============================] - 7s 5ms/step - loss: 1.3911 - root_mean_squared_error: 1.1795 - val_loss: 1.9868 - val_root_mean_squared_error: 1.4096\n",
            "Epoch 97/100\n",
            "1487/1487 [==============================] - 7s 5ms/step - loss: 1.3792 - root_mean_squared_error: 1.1744 - val_loss: 1.9067 - val_root_mean_squared_error: 1.3808\n",
            "Epoch 98/100\n",
            "1487/1487 [==============================] - 7s 5ms/step - loss: 1.3825 - root_mean_squared_error: 1.1758 - val_loss: 1.9547 - val_root_mean_squared_error: 1.3981\n",
            "Epoch 99/100\n",
            "1487/1487 [==============================] - 7s 5ms/step - loss: 1.3679 - root_mean_squared_error: 1.1696 - val_loss: 2.0009 - val_root_mean_squared_error: 1.4145\n",
            "Epoch 100/100\n",
            "1487/1487 [==============================] - 7s 5ms/step - loss: 1.3648 - root_mean_squared_error: 1.1683 - val_loss: 2.0115 - val_root_mean_squared_error: 1.4183\n"
          ]
        }
      ]
    },
    {
      "cell_type": "markdown",
      "source": [
        "Evaluate Model:"
      ],
      "metadata": {
        "id": "5LkPD7NadGZX"
      }
    },
    {
      "cell_type": "code",
      "source": [
        "fc_nn_batch_norm.evaluate()"
      ],
      "metadata": {
        "id": "icHXUUendGZX",
        "outputId": "b4bf9444-2137-49c5-b2b3-0d2760530916",
        "colab": {
          "base_uri": "https://localhost:8080/",
          "height": 680
        }
      },
      "execution_count": 14,
      "outputs": [
        {
          "output_type": "stream",
          "name": "stdout",
          "text": [
            "465/465 [==============================] - 1s 2ms/step - loss: 1.9588 - root_mean_squared_error: 1.3996\n",
            "\n",
            "Test root_mean_squared_error: 1.3995556831359863\n",
            "\n",
            "Test loss: 1.9587560892105103\n"
          ]
        },
        {
          "output_type": "display_data",
          "data": {
            "text/plain": [
              "<Figure size 432x288 with 1 Axes>"
            ],
            "image/png": "[encoded data removed]"
          },
          "metadata": {
            "needs_background": "light"
          }
        },
        {
          "output_type": "display_data",
          "data": {
            "text/plain": [
              "<Figure size 432x288 with 1 Axes>"
            ],
            "image/png": "[encoded data removed]"
          },
          "metadata": {
            "needs_background": "light"
          }
        },
        {
          "output_type": "execute_result",
          "data": {
            "text/plain": [
              "(1.3995556831359863, 1.9587560892105103)"
            ]
          },
          "metadata": {},
          "execution_count": 14
        }
      ]
    },
    {
      "cell_type": "markdown",
      "source": [
        "# ConvNet"
      ],
      "metadata": {
        "id": "AsReP-FUwi4S"
      }
    },
    {
      "cell_type": "markdown",
      "source": [
        "Configuration for NN:"
      ],
      "metadata": {
        "id": "lUMl1FDuwi4T"
      }
    },
    {
      "cell_type": "code",
      "source": [
        "from tensorflow import keras\n",
        "\n",
        "nn_configuration = {\n",
        "    'epochs': epochs,  # number of epochs\n",
        "    'batch_size': 32,  # size of the batch\n",
        "    'verbose': 1,  # set the training phase as verbose\n",
        "    'optimizer': keras.optimizers.Adam(clipvalue=1.0),  # optimizer\n",
        "    'metrics': [\"root_mean_squared_error\"],\n",
        "    'loss': 'mean_squared_error',  # loss\n",
        "    'val_split': 0.2,  # validation split: percentage of the training data used for evaluating the loss function\n",
        "    'input_shape': (15, 20, 1),\n",
        "    'n_output': 1  # number of outputs = x and y\n",
        "}"
      ],
      "metadata": {
        "id": "eTX1Qv7Zwi4U"
      },
      "execution_count": null,
      "outputs": []
    },
    {
      "cell_type": "markdown",
      "source": [
        "Create Model:"
      ],
      "metadata": {
        "id": "xqPbMowKwi4W"
      }
    },
    {
      "cell_type": "code",
      "source": [
        "from gaze_predictor.gaze_predictor.convolutional import ConvNetwork\n",
        "\n",
        "conv_nn = gaze_predictor.gaze_predictor.convolutional.ConvNetwork(name='conv_nn', configuration = nn_configuration)\n",
        "conv_nn.create_model()"
      ],
      "metadata": {
        "id": "K3EVdyXXwi4X"
      },
      "execution_count": null,
      "outputs": []
    },
    {
      "cell_type": "markdown",
      "source": [
        "Train Model:"
      ],
      "metadata": {
        "id": "hG_QneIMwi4Z"
      }
    },
    {
      "cell_type": "code",
      "source": [
        "conv_nn.train()"
      ],
      "metadata": {
        "id": "8B4AeLThwi4a"
      },
      "execution_count": null,
      "outputs": []
    },
    {
      "cell_type": "markdown",
      "source": [
        "Evaluate Model:"
      ],
      "metadata": {
        "id": "Hzwv3tyFwi4a"
      }
    },
    {
      "cell_type": "code",
      "source": [
        "conv_nn.evaluate()"
      ],
      "metadata": {
        "id": "86SFueVowi4b"
      },
      "execution_count": null,
      "outputs": []
    },
    {
      "cell_type": "markdown",
      "source": [
        "# ConvNet 3D"
      ],
      "metadata": {
        "id": "WNTzRG_8w5KT"
      }
    },
    {
      "cell_type": "markdown",
      "source": [
        "Configuration for NN:"
      ],
      "metadata": {
        "id": "JUQp2vLMw5KV"
      }
    },
    {
      "cell_type": "code",
      "source": [
        "from tensorflow import keras\n",
        "\n",
        "nn_configuration = {\n",
        "    'epochs': epochs,  # number of epochs\n",
        "    'batch_size': 32,  # size of the batch\n",
        "    'verbose': 1,  # set the training phase as verbose\n",
        "    'optimizer': keras.optimizers.Adam(clipvalue=1.0),  # optimizer\n",
        "    'metrics': [\"root_mean_squared_error\"],\n",
        "    'loss': 'mean_squared_error',  # loss\n",
        "    'val_split': 0.2,  # validation split: percentage of the training data used for evaluating the loss function\n",
        "    'input_shape': (15, 20, 3),\n",
        "    'n_output': 1  # number of outputs = x and y\n",
        "}"
      ],
      "metadata": {
        "id": "pu7qCxIDw5KV"
      },
      "execution_count": null,
      "outputs": []
    },
    {
      "cell_type": "markdown",
      "source": [
        "Create Model:"
      ],
      "metadata": {
        "id": "yXKjvU3Kw5KW"
      }
    },
    {
      "cell_type": "code",
      "source": [
        "from gaze_predictor.gaze_predictor.convolutional_3d import ConvNetwork3D\n",
        "\n",
        "conv_nn_3d = gaze_predictor.gaze_predictor.convolutional_3d.ConvNetwork3D(name='conv_nn_3d', configuration = nn_configuration)\n",
        "conv_nn_3d.create_model()"
      ],
      "metadata": {
        "id": "5djRuFMqw5KX"
      },
      "execution_count": null,
      "outputs": []
    },
    {
      "cell_type": "markdown",
      "source": [
        "Train Model:"
      ],
      "metadata": {
        "id": "gN9EaLvbw5KY"
      }
    },
    {
      "cell_type": "code",
      "source": [
        "conv_nn_3d.train()"
      ],
      "metadata": {
        "id": "zYxqqA1Iw5KY"
      },
      "execution_count": null,
      "outputs": []
    },
    {
      "cell_type": "markdown",
      "source": [
        "Evaluate Model:"
      ],
      "metadata": {
        "id": "I0x5cYrow5KZ"
      }
    },
    {
      "cell_type": "code",
      "source": [
        "conv_nn_3d.evaluate()"
      ],
      "metadata": {
        "id": "hJQeDMAfw5KZ"
      },
      "execution_count": null,
      "outputs": []
    },
    {
      "cell_type": "markdown",
      "source": [
        "# Save Models"
      ],
      "metadata": {
        "id": "1zLvEF2WRT1W"
      }
    },
    {
      "cell_type": "code",
      "source": [
        "# fc_nn.save_model()\n",
        "# conv_nn.save_model()\n",
        "# conv_nn_3d.save_model()\n",
        "# fc_nn_dropout.save_model()\n",
        "# fc_nn_batch_norm.save_model()\n",
        "fc_nn_elu.save_model()"
      ],
      "metadata": {
        "colab": {
          "base_uri": "https://localhost:8080/"
        },
        "id": "neGTmnJJzBCy",
        "outputId": "675247ba-6bd1-4d62-e860-0da2e9fe98d7"
      },
      "execution_count": 7,
      "outputs": [
        {
          "output_type": "stream",
          "name": "stderr",
          "text": [
            "WARNING:absl:Function `_wrapped_model` contains input name(s) Input_input with unsupported characters which will be renamed to input_input in the SavedModel.\n"
          ]
        }
      ]
    },
    {
      "cell_type": "code",
      "source": [
        "!zip -r /content/file.zip /content\n",
        "from google.colab import files\n",
        "files.download(\"/content/file.zip\")"
      ],
      "metadata": {
        "colab": {
          "base_uri": "https://localhost:8080/",
          "height": 642
        },
        "id": "_HOpEI--Rezk",
        "outputId": "3d4fb64c-bdeb-4cc9-aa31-ee7926607d31"
      },
      "execution_count": 8,
      "outputs": [
        {
          "output_type": "stream",
          "name": "stdout",
          "text": [
            "  adding: content/ (stored 0%)\n",
            "  adding: content/.config/ (stored 0%)\n",
            "  adding: content/.config/.last_survey_prompt.yaml (stored 0%)\n",
            "  adding: content/.config/config_sentinel (stored 0%)\n",
            "  adding: content/.config/.last_update_check.json (deflated 23%)\n",
            "  adding: content/.config/active_config (stored 0%)\n",
            "  adding: content/.config/gce (stored 0%)\n",
            "  adding: content/.config/configurations/ (stored 0%)\n",
            "  adding: content/.config/configurations/config_default (deflated 15%)\n",
            "  adding: content/.config/logs/ (stored 0%)\n",
            "  adding: content/.config/logs/2022.09.09/ (stored 0%)\n",
            "  adding: content/.config/logs/2022.09.09/13.21.52.077555.log (deflated 86%)\n",
            "  adding: content/.config/logs/2022.09.09/13.21.10.547632.log (deflated 91%)\n",
            "  adding: content/.config/logs/2022.09.09/13.22.20.752199.log (deflated 55%)\n",
            "  adding: content/.config/logs/2022.09.09/13.22.21.505460.log (deflated 54%)\n",
            "  adding: content/.config/logs/2022.09.09/13.22.00.334156.log (deflated 54%)\n",
            "  adding: content/.config/logs/2022.09.09/13.21.32.402746.log (deflated 54%)\n",
            "  adding: content/.config/.last_opt_in_prompt.yaml (stored 0%)\n",
            "  adding: content/fc_nn_elu_loss.png (deflated 5%)\n",
            "  adding: content/fc_nn_elu_rmse.png (deflated 3%)\n",
            "  adding: content/fc_nn_elu.history (deflated 49%)\n",
            "  adding: content/fc_nn_elu.model/ (stored 0%)\n",
            "  adding: content/fc_nn_elu.model/keras_metadata.pb (deflated 89%)\n",
            "  adding: content/fc_nn_elu.model/assets/ (stored 0%)\n",
            "  adding: content/fc_nn_elu.model/saved_model.pb (deflated 88%)\n",
            "  adding: content/fc_nn_elu.model/variables/ (stored 0%)\n",
            "  adding: content/fc_nn_elu.model/variables/variables.data-00000-of-00001 (deflated 12%)\n",
            "  adding: content/fc_nn_elu.model/variables/variables.index (deflated 64%)\n",
            "  adding: content/sample_data/ (stored 0%)\n",
            "  adding: content/sample_data/anscombe.json (deflated 83%)\n",
            "  adding: content/sample_data/README.md (deflated 42%)\n",
            "  adding: content/sample_data/mnist_train_small.csv (deflated 88%)\n",
            "  adding: content/sample_data/mnist_test.csv (deflated 88%)\n",
            "  adding: content/sample_data/california_housing_test.csv (deflated 76%)\n",
            "  adding: content/sample_data/california_housing_train.csv (deflated 79%)\n"
          ]
        },
        {
          "output_type": "display_data",
          "data": {
            "text/plain": [
              "<IPython.core.display.Javascript object>"
            ],
            "application/javascript": [
              "\n",
              "    async function download(id, filename, size) {\n",
              "      if (!google.colab.kernel.accessAllowed) {\n",
              "        return;\n",
              "      }\n",
              "      const div = document.createElement('div');\n",
              "      const label = document.createElement('label');\n",
              "      label.textContent = `Downloading \"${filename}\": `;\n",
              "      div.appendChild(label);\n",
              "      const progress = document.createElement('progress');\n",
              "      progress.max = size;\n",
              "      div.appendChild(progress);\n",
              "      document.body.appendChild(div);\n",
              "\n",
              "      const buffers = [];\n",
              "      let downloaded = 0;\n",
              "\n",
              "      const channel = await google.colab.kernel.comms.open(id);\n",
              "      // Send a message to notify the kernel that we're ready.\n",
              "      channel.send({})\n",
              "\n",
              "      for await (const message of channel.messages) {\n",
              "        // Send a message to notify the kernel that we're ready.\n",
              "        channel.send({})\n",
              "        if (message.buffers) {\n",
              "          for (const buffer of message.buffers) {\n",
              "            buffers.push(buffer);\n",
              "            downloaded += buffer.byteLength;\n",
              "            progress.value = downloaded;\n",
              "          }\n",
              "        }\n",
              "      }\n",
              "      const blob = new Blob(buffers, {type: 'application/binary'});\n",
              "      const a = document.createElement('a');\n",
              "      a.href = window.URL.createObjectURL(blob);\n",
              "      a.download = filename;\n",
              "      div.appendChild(a);\n",
              "      a.click();\n",
              "      div.remove();\n",
              "    }\n",
              "  "
            ]
          },
          "metadata": {}
        },
        {
          "output_type": "display_data",
          "data": {
            "text/plain": [
              "<IPython.core.display.Javascript object>"
            ],
            "application/javascript": [
              "download(\"download_74365c1e-66ee-43dd-8ec1-1f8ace9ce22a\", \"file.zip\", 8951561)"
            ]
          },
          "metadata": {}
        }
      ]
    },
    {
      "cell_type": "markdown",
      "source": [
        "Put RMSE into relation:"
      ],
      "metadata": {
        "id": "_81sP-PwT0T5"
      }
    },
    {
      "cell_type": "code",
      "source": [
        "print(fc_nn.y.min())\n",
        "print(fc_nn.y.max())\n",
        "\n",
        "import matplotlib.pyplot as plt\n",
        "plt.hist(fc_nn.y, bins=60);\n",
        "plt.xlim(0, 15)"
      ],
      "metadata": {
        "id": "ltP4TLfcSivF"
      },
      "execution_count": null,
      "outputs": []
    },
    {
      "cell_type": "code",
      "source": [],
      "metadata": {
        "id": "sPK-Csv_T7Xk"
      },
      "execution_count": null,
      "outputs": []
    }
  ]
}